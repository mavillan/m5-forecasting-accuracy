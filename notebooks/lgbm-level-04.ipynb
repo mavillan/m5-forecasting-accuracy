{
 "cells": [
  {
   "cell_type": "markdown",
   "metadata": {},
   "source": [
    "## Level 4: Unit sales of all products, aggregated for each category"
   ]
  },
  {
   "cell_type": "code",
   "execution_count": 1,
   "metadata": {},
   "outputs": [
    {
     "name": "stderr",
     "output_type": "stream",
     "text": [
      "/home/turing/miniconda/lib/python3.7/site-packages/statsmodels/tools/_testing.py:19: FutureWarning:\n",
      "\n",
      "pandas.util.testing is deprecated. Use the functions in the public API at pandas.testing instead.\n",
      "\n"
     ]
    }
   ],
   "source": [
    "import os\n",
    "import numpy as np\n",
    "import pandas as pd\n",
    "import lightgbm as lgb\n",
    "import matplotlib.pyplot as plt\n",
    "\n",
    "from tsforest.trend import compute_trend_models\n",
    "from tsforest.forecaster import LightGBMForecaster\n",
    "\n",
    "# local modules\n",
    "import sys\n",
    "sys.path.append(\"../lib/\")\n",
    "from utils import compute_scaling, reduce_mem_usage\n",
    "from evaluation import WRMSSEEvaluator\n",
    "\n",
    "SEEDS = [2, 3, 5, 7, 11, 13, 17, 19, 23, 29, 31, 37, 41, 43, 47, 53, 59, 61, 67, 71]"
   ]
  },
  {
   "cell_type": "markdown",
   "metadata": {},
   "source": [
    "***"
   ]
  },
  {
   "cell_type": "code",
   "execution_count": 2,
   "metadata": {},
   "outputs": [],
   "source": [
    "data = (pd.read_parquet(\"../input/train_dataframe.parquet\")\n",
    "        .groupby([\"cat_id\",\"ds\"])\n",
    "        .agg({\"q\":\"sum\",\n",
    "              \"event_name_1\":lambda x: int(x.unique()),\n",
    "             })\n",
    "        .reset_index()\n",
    "       )\n",
    "\n",
    "data[\"q\"] = data.q.astype(int)\n",
    "data.rename({\"q\":\"y\"}, axis=1, inplace=True)\n",
    "data.sort_values([\"cat_id\",\"ds\"], inplace=True)\n",
    "data.reset_index(drop=True, inplace=True)"
   ]
  },
  {
   "cell_type": "code",
   "execution_count": 3,
   "metadata": {},
   "outputs": [
    {
     "data": {
      "text/html": [
       "<div>\n",
       "<style scoped>\n",
       "    .dataframe tbody tr th:only-of-type {\n",
       "        vertical-align: middle;\n",
       "    }\n",
       "\n",
       "    .dataframe tbody tr th {\n",
       "        vertical-align: top;\n",
       "    }\n",
       "\n",
       "    .dataframe thead th {\n",
       "        text-align: right;\n",
       "    }\n",
       "</style>\n",
       "<table border=\"1\" class=\"dataframe\">\n",
       "  <thead>\n",
       "    <tr style=\"text-align: right;\">\n",
       "      <th></th>\n",
       "      <th>cat_id</th>\n",
       "      <th>weight</th>\n",
       "    </tr>\n",
       "  </thead>\n",
       "  <tbody>\n",
       "    <tr>\n",
       "      <th>0</th>\n",
       "      <td>3</td>\n",
       "      <td>0.568586</td>\n",
       "    </tr>\n",
       "    <tr>\n",
       "      <th>1</th>\n",
       "      <td>1</td>\n",
       "      <td>0.128079</td>\n",
       "    </tr>\n",
       "    <tr>\n",
       "      <th>2</th>\n",
       "      <td>2</td>\n",
       "      <td>0.303335</td>\n",
       "    </tr>\n",
       "  </tbody>\n",
       "</table>\n",
       "</div>"
      ],
      "text/plain": [
       "   cat_id    weight\n",
       "0       3  0.568586\n",
       "1       1  0.128079\n",
       "2       2  0.303335"
      ]
     },
     "execution_count": 3,
     "metadata": {},
     "output_type": "execute_result"
    }
   ],
   "source": [
    "weights_level4 = pd.read_parquet(\"../input/weights_level4.parquet\")\n",
    "weights_level4.head()"
   ]
  },
  {
   "cell_type": "code",
   "execution_count": 6,
   "metadata": {},
   "outputs": [
    {
     "name": "stderr",
     "output_type": "stream",
     "text": [
      "INFO:numexpr.utils:Note: NumExpr detected 20 cores but \"NUMEXPR_MAX_THREADS\" not set, so enforcing safe limit of 8.\n",
      "INFO:numexpr.utils:NumExpr defaulting to 8 threads.\n"
     ]
    },
    {
     "data": {
      "text/html": [
       "<div>\n",
       "<style scoped>\n",
       "    .dataframe tbody tr th:only-of-type {\n",
       "        vertical-align: middle;\n",
       "    }\n",
       "\n",
       "    .dataframe tbody tr th {\n",
       "        vertical-align: top;\n",
       "    }\n",
       "\n",
       "    .dataframe thead th {\n",
       "        text-align: right;\n",
       "    }\n",
       "</style>\n",
       "<table border=\"1\" class=\"dataframe\">\n",
       "  <thead>\n",
       "    <tr style=\"text-align: right;\">\n",
       "      <th></th>\n",
       "      <th>cat_id</th>\n",
       "      <th>s</th>\n",
       "    </tr>\n",
       "  </thead>\n",
       "  <tbody>\n",
       "    <tr>\n",
       "      <th>0</th>\n",
       "      <td>1</td>\n",
       "      <td>585.349546</td>\n",
       "    </tr>\n",
       "    <tr>\n",
       "      <th>1</th>\n",
       "      <td>2</td>\n",
       "      <td>1497.442699</td>\n",
       "    </tr>\n",
       "    <tr>\n",
       "      <th>2</th>\n",
       "      <td>3</td>\n",
       "      <td>4052.608571</td>\n",
       "    </tr>\n",
       "  </tbody>\n",
       "</table>\n",
       "</div>"
      ],
      "text/plain": [
       "   cat_id            s\n",
       "0       1   585.349546\n",
       "1       2  1497.442699\n",
       "2       3  4052.608571"
      ]
     },
     "execution_count": 6,
     "metadata": {},
     "output_type": "execute_result"
    }
   ],
   "source": [
    "scaling_input = pd.read_parquet(\"../input/scaling_input.parquet\")\n",
    "scales = compute_scaling(scaling_input, agg_columns=[\"cat_id\"]).rename({\"q\":\"s\"}, axis=1)\n",
    "scales.head()"
   ]
  },
  {
   "cell_type": "code",
   "execution_count": 10,
   "metadata": {},
   "outputs": [
    {
     "data": {
      "text/html": [
       "<div>\n",
       "<style scoped>\n",
       "    .dataframe tbody tr th:only-of-type {\n",
       "        vertical-align: middle;\n",
       "    }\n",
       "\n",
       "    .dataframe tbody tr th {\n",
       "        vertical-align: top;\n",
       "    }\n",
       "\n",
       "    .dataframe thead th {\n",
       "        text-align: right;\n",
       "    }\n",
       "</style>\n",
       "<table border=\"1\" class=\"dataframe\">\n",
       "  <thead>\n",
       "    <tr style=\"text-align: right;\">\n",
       "      <th></th>\n",
       "      <th>cat_id</th>\n",
       "      <th>weight</th>\n",
       "    </tr>\n",
       "  </thead>\n",
       "  <tbody>\n",
       "    <tr>\n",
       "      <th>0</th>\n",
       "      <td>3</td>\n",
       "      <td>0.692610</td>\n",
       "    </tr>\n",
       "    <tr>\n",
       "      <th>1</th>\n",
       "      <td>1</td>\n",
       "      <td>1.080165</td>\n",
       "    </tr>\n",
       "    <tr>\n",
       "      <th>2</th>\n",
       "      <td>2</td>\n",
       "      <td>1.000000</td>\n",
       "    </tr>\n",
       "  </tbody>\n",
       "</table>\n",
       "</div>"
      ],
      "text/plain": [
       "   cat_id    weight\n",
       "0       3  0.692610\n",
       "1       1  1.080165\n",
       "2       2  1.000000"
      ]
     },
     "execution_count": 10,
     "metadata": {},
     "output_type": "execute_result"
    }
   ],
   "source": [
    "weights = (weights_level4\n",
    "    .merge(scales, how=\"inner\", on=[\"cat_id\"])\n",
    "    .assign(weight = lambda x: x.weight/x.s)\n",
    "    .assign(weight = lambda x: x.weight/x.weight.median())\n",
    "    .drop([\"s\"], axis=1)\n",
    ")\n",
    "weights.head()"
   ]
  },
  {
   "cell_type": "code",
   "execution_count": 12,
   "metadata": {},
   "outputs": [
    {
     "data": {
      "text/html": [
       "<div>\n",
       "<style scoped>\n",
       "    .dataframe tbody tr th:only-of-type {\n",
       "        vertical-align: middle;\n",
       "    }\n",
       "\n",
       "    .dataframe tbody tr th {\n",
       "        vertical-align: top;\n",
       "    }\n",
       "\n",
       "    .dataframe thead th {\n",
       "        text-align: right;\n",
       "    }\n",
       "</style>\n",
       "<table border=\"1\" class=\"dataframe\">\n",
       "  <thead>\n",
       "    <tr style=\"text-align: right;\">\n",
       "      <th></th>\n",
       "      <th>cat_id</th>\n",
       "      <th>ds</th>\n",
       "      <th>y</th>\n",
       "      <th>event_name_1</th>\n",
       "      <th>weight</th>\n",
       "    </tr>\n",
       "  </thead>\n",
       "  <tbody>\n",
       "    <tr>\n",
       "      <th>0</th>\n",
       "      <td>1</td>\n",
       "      <td>2011-01-29</td>\n",
       "      <td>3764</td>\n",
       "      <td>1</td>\n",
       "      <td>1.080165</td>\n",
       "    </tr>\n",
       "    <tr>\n",
       "      <th>1</th>\n",
       "      <td>1</td>\n",
       "      <td>2011-01-30</td>\n",
       "      <td>3357</td>\n",
       "      <td>1</td>\n",
       "      <td>1.080165</td>\n",
       "    </tr>\n",
       "    <tr>\n",
       "      <th>2</th>\n",
       "      <td>1</td>\n",
       "      <td>2011-01-31</td>\n",
       "      <td>2682</td>\n",
       "      <td>1</td>\n",
       "      <td>1.080165</td>\n",
       "    </tr>\n",
       "    <tr>\n",
       "      <th>3</th>\n",
       "      <td>1</td>\n",
       "      <td>2011-02-01</td>\n",
       "      <td>2669</td>\n",
       "      <td>1</td>\n",
       "      <td>1.080165</td>\n",
       "    </tr>\n",
       "    <tr>\n",
       "      <th>4</th>\n",
       "      <td>1</td>\n",
       "      <td>2011-02-02</td>\n",
       "      <td>1814</td>\n",
       "      <td>1</td>\n",
       "      <td>1.080165</td>\n",
       "    </tr>\n",
       "  </tbody>\n",
       "</table>\n",
       "</div>"
      ],
      "text/plain": [
       "   cat_id         ds     y  event_name_1    weight\n",
       "0       1 2011-01-29  3764             1  1.080165\n",
       "1       1 2011-01-30  3357             1  1.080165\n",
       "2       1 2011-01-31  2682             1  1.080165\n",
       "3       1 2011-02-01  2669             1  1.080165\n",
       "4       1 2011-02-02  1814             1  1.080165"
      ]
     },
     "execution_count": 12,
     "metadata": {},
     "output_type": "execute_result"
    }
   ],
   "source": [
    "data = pd.merge(data, weights, how=\"left\", on=[\"cat_id\"])\n",
    "data.head()"
   ]
  },
  {
   "cell_type": "markdown",
   "metadata": {},
   "source": [
    "***\n",
    "### time series visualization"
   ]
  },
  {
   "cell_type": "code",
   "execution_count": 16,
   "metadata": {},
   "outputs": [
    {
     "data": {
      "image/png": "[encoded data removed]",
      "text/plain": [
       "<Figure size 1080x360 with 1 Axes>"
      ]
     },
     "metadata": {
      "needs_background": "light"
     },
     "output_type": "display_data"
    }
   ],
   "source": [
    "cat_id = 2\n",
    "start_date = '2015-03-01'\n",
    "end_date = '2015-04-30'\n",
    "\n",
    "df = data.query(\"cat_id == @cat_id & @start_date <= ds <= @end_date\")\n",
    "\n",
    "plt.figure(figsize=(15,5))\n",
    "plt.plot_date(df.ds, df.y, \"o-\")\n",
    "plt.xticks(rotation=90)\n",
    "plt.grid()\n",
    "plt.show()"
   ]
  },
  {
   "cell_type": "markdown",
   "metadata": {},
   "source": [
    "***"
   ]
  },
  {
   "cell_type": "code",
   "execution_count": 17,
   "metadata": {},
   "outputs": [
    {
     "data": {
      "text/plain": [
       "[(Timestamp('2015-04-25 00:00:00'), Timestamp('2015-05-22 00:00:00')),\n",
       " (Timestamp('2015-05-23 00:00:00'), Timestamp('2015-06-19 00:00:00')),\n",
       " (Timestamp('2016-01-29 00:00:00'), Timestamp('2016-02-26 00:00:00')),\n",
       " (Timestamp('2016-02-27 00:00:00'), Timestamp('2016-03-26 00:00:00')),\n",
       " (Timestamp('2016-03-27 00:00:00'), Timestamp('2016-04-24 00:00:00'))]"
      ]
     },
     "execution_count": 17,
     "metadata": {},
     "output_type": "execute_result"
    }
   ],
   "source": [
    "valid_periods = [(pd.to_datetime(\"2015-04-25\"), pd.to_datetime(\"2015-05-22\")),\n",
    "                 (pd.to_datetime(\"2015-05-23\"), pd.to_datetime(\"2015-06-19\")),\n",
    "                 (pd.to_datetime(\"2016-01-29\"), pd.to_datetime(\"2016-02-26\")),\n",
    "                 (pd.to_datetime(\"2016-02-27\"), pd.to_datetime(\"2016-03-26\")),\n",
    "                 (pd.to_datetime(\"2016-03-27\"), pd.to_datetime(\"2016-04-24\")),\n",
    "                ]\n",
    "valid_periods"
   ]
  },
  {
   "cell_type": "markdown",
   "metadata": {},
   "source": [
    "***\n",
    "### training validation models"
   ]
  },
  {
   "cell_type": "code",
   "execution_count": 21,
   "metadata": {},
   "outputs": [],
   "source": [
    "model_params = {\n",
    "    'objective':'l2',\n",
    "    'metric':'None',\n",
    "    'num_iterations':10000,\n",
    "    'early_stopping_rounds':250,\n",
    "    #'max_bin': 255,\n",
    "    'num_leaves': 23, \n",
    "    'learning_rate': 0.1, \n",
    "    'min_data_in_leaf': 20,\n",
    "    #'min_sum_hessian_in_leaf':1e-4,\n",
    "    'feature_fraction': 0.66,\n",
    "    'bagging_fraction':0.9,\n",
    "    'bagging_freq':1,\n",
    "    'lambda_l2':1.,\n",
    "    'seed':23\n",
    "}\n",
    "\n",
    "time_features = [\n",
    "    \"year\",\n",
    "    \"month\",\n",
    "    \"year_week\",\n",
    "    \"year_day\",\n",
    "    \"week_day\",\n",
    "    \"month_progress\",\n",
    "    \"week_day_cos\",\n",
    "    \"week_day_sin\",\n",
    "    \"year_day_cos\",\n",
    "    \"year_day_sin\",\n",
    "    \"year_week_cos\",\n",
    "    \"year_week_sin\",\n",
    "    \"month_cos\",\n",
    "    \"month_sin\"\n",
    "]\n",
    "\n",
    "model_kwargs = {\n",
    "    \"model_params\":model_params,\n",
    "    \"time_features\":time_features,\n",
    "    \"categorical_features\":{\n",
    "        \"cat_id\":\"default\",\n",
    "        \"event_name_1\":\"default\"},\n",
    "    \"ts_uid_columns\":[\"cat_id\"],\n",
    "    \n",
    "}"
   ]
  },
  {
   "cell_type": "code",
   "execution_count": 22,
   "metadata": {},
   "outputs": [],
   "source": [
    "# 4+ years of history\n",
    "train_history = 1800"
   ]
  },
  {
   "cell_type": "code",
   "execution_count": 23,
   "metadata": {},
   "outputs": [
    {
     "name": "stdout",
     "output_type": "stream",
     "text": [
      "############################################### 1/5 ################################################\n",
      "##### Validation period: (Timestamp('2015-04-25 00:00:00'), Timestamp('2015-05-22 00:00:00')) ######\n",
      "####################################################################################################\n",
      "Training until validation scores don't improve for 250 rounds\n",
      "[25]\tvalid_0's wrmsse: 0.957081\n",
      "[50]\tvalid_0's wrmsse: 0.424848\n",
      "[75]\tvalid_0's wrmsse: 0.419789\n",
      "[100]\tvalid_0's wrmsse: 0.414333\n",
      "[125]\tvalid_0's wrmsse: 0.400186\n",
      "[150]\tvalid_0's wrmsse: 0.396831\n",
      "[175]\tvalid_0's wrmsse: 0.395481\n",
      "[200]\tvalid_0's wrmsse: 0.391305\n",
      "[225]\tvalid_0's wrmsse: 0.389213\n",
      "[250]\tvalid_0's wrmsse: 0.389168\n",
      "[275]\tvalid_0's wrmsse: 0.386606\n",
      "[300]\tvalid_0's wrmsse: 0.383593\n",
      "[325]\tvalid_0's wrmsse: 0.381004\n",
      "[350]\tvalid_0's wrmsse: 0.384544\n",
      "[375]\tvalid_0's wrmsse: 0.382376\n",
      "[400]\tvalid_0's wrmsse: 0.380367\n",
      "[425]\tvalid_0's wrmsse: 0.379794\n",
      "[450]\tvalid_0's wrmsse: 0.380762\n",
      "[475]\tvalid_0's wrmsse: 0.37811\n",
      "[500]\tvalid_0's wrmsse: 0.378623\n",
      "[525]\tvalid_0's wrmsse: 0.37912\n",
      "[550]\tvalid_0's wrmsse: 0.376057\n",
      "[575]\tvalid_0's wrmsse: 0.373876\n",
      "[600]\tvalid_0's wrmsse: 0.370388\n",
      "[625]\tvalid_0's wrmsse: 0.371916\n",
      "[650]\tvalid_0's wrmsse: 0.372442\n",
      "[675]\tvalid_0's wrmsse: 0.372291\n",
      "[700]\tvalid_0's wrmsse: 0.378123\n",
      "[725]\tvalid_0's wrmsse: 0.37976\n",
      "[750]\tvalid_0's wrmsse: 0.377006\n",
      "[775]\tvalid_0's wrmsse: 0.375194\n",
      "[800]\tvalid_0's wrmsse: 0.37533\n",
      "[825]\tvalid_0's wrmsse: 0.378595\n",
      "[850]\tvalid_0's wrmsse: 0.379646\n",
      "Early stopping, best iteration is:\n",
      "[603]\tvalid_0's wrmsse: 0.368745\n",
      "############################################### 2/5 ################################################\n",
      "##### Validation period: (Timestamp('2015-05-23 00:00:00'), Timestamp('2015-06-19 00:00:00')) ######\n",
      "####################################################################################################\n",
      "Training until validation scores don't improve for 250 rounds\n",
      "[25]\tvalid_0's wrmsse: 1.08633\n",
      "[50]\tvalid_0's wrmsse: 0.548786\n",
      "[75]\tvalid_0's wrmsse: 0.516476\n",
      "[100]\tvalid_0's wrmsse: 0.491329\n",
      "[125]\tvalid_0's wrmsse: 0.479833\n",
      "[150]\tvalid_0's wrmsse: 0.466297\n",
      "[175]\tvalid_0's wrmsse: 0.463816\n",
      "[200]\tvalid_0's wrmsse: 0.457859\n",
      "[225]\tvalid_0's wrmsse: 0.454279\n",
      "[250]\tvalid_0's wrmsse: 0.452154\n",
      "[275]\tvalid_0's wrmsse: 0.450746\n",
      "[300]\tvalid_0's wrmsse: 0.447755\n",
      "[325]\tvalid_0's wrmsse: 0.446344\n",
      "[350]\tvalid_0's wrmsse: 0.445742\n",
      "[375]\tvalid_0's wrmsse: 0.439263\n",
      "[400]\tvalid_0's wrmsse: 0.434689\n",
      "[425]\tvalid_0's wrmsse: 0.43068\n",
      "[450]\tvalid_0's wrmsse: 0.427102\n",
      "[475]\tvalid_0's wrmsse: 0.42206\n",
      "[500]\tvalid_0's wrmsse: 0.422654\n",
      "[525]\tvalid_0's wrmsse: 0.420728\n",
      "[550]\tvalid_0's wrmsse: 0.418726\n",
      "[575]\tvalid_0's wrmsse: 0.418913\n",
      "[600]\tvalid_0's wrmsse: 0.418592\n",
      "[625]\tvalid_0's wrmsse: 0.417636\n",
      "[650]\tvalid_0's wrmsse: 0.416754\n",
      "[675]\tvalid_0's wrmsse: 0.415582\n",
      "[700]\tvalid_0's wrmsse: 0.416201\n",
      "[725]\tvalid_0's wrmsse: 0.416612\n",
      "[750]\tvalid_0's wrmsse: 0.414053\n",
      "[775]\tvalid_0's wrmsse: 0.413967\n",
      "[800]\tvalid_0's wrmsse: 0.414539\n",
      "[825]\tvalid_0's wrmsse: 0.41491\n",
      "[850]\tvalid_0's wrmsse: 0.412431\n",
      "[875]\tvalid_0's wrmsse: 0.41131\n",
      "[900]\tvalid_0's wrmsse: 0.409214\n",
      "[925]\tvalid_0's wrmsse: 0.408809\n",
      "[950]\tvalid_0's wrmsse: 0.408468\n",
      "[975]\tvalid_0's wrmsse: 0.409295\n",
      "[1000]\tvalid_0's wrmsse: 0.409431\n",
      "[1025]\tvalid_0's wrmsse: 0.409344\n",
      "[1050]\tvalid_0's wrmsse: 0.410092\n",
      "[1075]\tvalid_0's wrmsse: 0.408704\n",
      "[1100]\tvalid_0's wrmsse: 0.408732\n",
      "[1125]\tvalid_0's wrmsse: 0.409128\n",
      "[1150]\tvalid_0's wrmsse: 0.409795\n",
      "[1175]\tvalid_0's wrmsse: 0.410232\n",
      "Early stopping, best iteration is:\n",
      "[934]\tvalid_0's wrmsse: 0.40828\n",
      "############################################### 3/5 ################################################\n",
      "##### Validation period: (Timestamp('2016-01-29 00:00:00'), Timestamp('2016-02-26 00:00:00')) ######\n",
      "####################################################################################################\n",
      "Training until validation scores don't improve for 250 rounds\n",
      "[25]\tvalid_0's wrmsse: 1.60866\n",
      "[50]\tvalid_0's wrmsse: 0.911176\n",
      "[75]\tvalid_0's wrmsse: 0.739544\n",
      "[100]\tvalid_0's wrmsse: 0.670283\n",
      "[125]\tvalid_0's wrmsse: 0.635704\n",
      "[150]\tvalid_0's wrmsse: 0.618717\n",
      "[175]\tvalid_0's wrmsse: 0.613675\n",
      "[200]\tvalid_0's wrmsse: 0.610672\n",
      "[225]\tvalid_0's wrmsse: 0.613207\n",
      "[250]\tvalid_0's wrmsse: 0.602234\n",
      "[275]\tvalid_0's wrmsse: 0.603234\n",
      "[300]\tvalid_0's wrmsse: 0.603\n",
      "[325]\tvalid_0's wrmsse: 0.604315\n",
      "[350]\tvalid_0's wrmsse: 0.607624\n",
      "[375]\tvalid_0's wrmsse: 0.614316\n",
      "[400]\tvalid_0's wrmsse: 0.614475\n",
      "[425]\tvalid_0's wrmsse: 0.615296\n",
      "[450]\tvalid_0's wrmsse: 0.613783\n",
      "[475]\tvalid_0's wrmsse: 0.612963\n",
      "[500]\tvalid_0's wrmsse: 0.615111\n",
      "Early stopping, best iteration is:\n",
      "[268]\tvalid_0's wrmsse: 0.599171\n",
      "############################################### 4/5 ################################################\n",
      "##### Validation period: (Timestamp('2016-02-27 00:00:00'), Timestamp('2016-03-26 00:00:00')) ######\n",
      "####################################################################################################\n",
      "Training until validation scores don't improve for 250 rounds\n",
      "[25]\tvalid_0's wrmsse: 1.56255\n",
      "[50]\tvalid_0's wrmsse: 0.808659\n",
      "[75]\tvalid_0's wrmsse: 0.624142\n",
      "[100]\tvalid_0's wrmsse: 0.582063\n",
      "[125]\tvalid_0's wrmsse: 0.553174\n",
      "[150]\tvalid_0's wrmsse: 0.556796\n",
      "[175]\tvalid_0's wrmsse: 0.550548\n",
      "[200]\tvalid_0's wrmsse: 0.545975\n",
      "[225]\tvalid_0's wrmsse: 0.543224\n",
      "[250]\tvalid_0's wrmsse: 0.546027\n",
      "[275]\tvalid_0's wrmsse: 0.538743\n",
      "[300]\tvalid_0's wrmsse: 0.530731\n",
      "[325]\tvalid_0's wrmsse: 0.532036\n",
      "[350]\tvalid_0's wrmsse: 0.531181\n",
      "[375]\tvalid_0's wrmsse: 0.529714\n",
      "[400]\tvalid_0's wrmsse: 0.527763\n",
      "[425]\tvalid_0's wrmsse: 0.527235\n",
      "[450]\tvalid_0's wrmsse: 0.526136\n",
      "[475]\tvalid_0's wrmsse: 0.524329\n",
      "[500]\tvalid_0's wrmsse: 0.520682\n",
      "[525]\tvalid_0's wrmsse: 0.518268\n",
      "[550]\tvalid_0's wrmsse: 0.522583\n",
      "[575]\tvalid_0's wrmsse: 0.520581\n",
      "[600]\tvalid_0's wrmsse: 0.521948\n",
      "[625]\tvalid_0's wrmsse: 0.520342\n",
      "[650]\tvalid_0's wrmsse: 0.522052\n",
      "[675]\tvalid_0's wrmsse: 0.52212\n",
      "[700]\tvalid_0's wrmsse: 0.523298\n",
      "[725]\tvalid_0's wrmsse: 0.523932\n",
      "[750]\tvalid_0's wrmsse: 0.524516\n",
      "Early stopping, best iteration is:\n",
      "[519]\tvalid_0's wrmsse: 0.517197\n",
      "############################################### 5/5 ################################################\n",
      "##### Validation period: (Timestamp('2016-03-27 00:00:00'), Timestamp('2016-04-24 00:00:00')) ######\n",
      "####################################################################################################\n",
      "Training until validation scores don't improve for 250 rounds\n",
      "[25]\tvalid_0's wrmsse: 1.49788\n",
      "[50]\tvalid_0's wrmsse: 0.640687\n",
      "[75]\tvalid_0's wrmsse: 0.441052\n",
      "[100]\tvalid_0's wrmsse: 0.392406\n",
      "[125]\tvalid_0's wrmsse: 0.366898\n",
      "[150]\tvalid_0's wrmsse: 0.357493\n",
      "[175]\tvalid_0's wrmsse: 0.348829\n",
      "[200]\tvalid_0's wrmsse: 0.343783\n",
      "[225]\tvalid_0's wrmsse: 0.338115\n",
      "[250]\tvalid_0's wrmsse: 0.332649\n",
      "[275]\tvalid_0's wrmsse: 0.328424\n",
      "[300]\tvalid_0's wrmsse: 0.322771\n",
      "[325]\tvalid_0's wrmsse: 0.319925\n",
      "[350]\tvalid_0's wrmsse: 0.316429\n",
      "[375]\tvalid_0's wrmsse: 0.313007\n",
      "[400]\tvalid_0's wrmsse: 0.311582\n",
      "[425]\tvalid_0's wrmsse: 0.309011\n",
      "[450]\tvalid_0's wrmsse: 0.309543\n",
      "[475]\tvalid_0's wrmsse: 0.309179\n",
      "[500]\tvalid_0's wrmsse: 0.307112\n",
      "[525]\tvalid_0's wrmsse: 0.308769\n",
      "[550]\tvalid_0's wrmsse: 0.309728\n",
      "[575]\tvalid_0's wrmsse: 0.310602\n",
      "[600]\tvalid_0's wrmsse: 0.31512\n",
      "[625]\tvalid_0's wrmsse: 0.315554\n",
      "[650]\tvalid_0's wrmsse: 0.313142\n",
      "[675]\tvalid_0's wrmsse: 0.313331\n",
      "[700]\tvalid_0's wrmsse: 0.313234\n",
      "[725]\tvalid_0's wrmsse: 0.316344\n",
      "[750]\tvalid_0's wrmsse: 0.319131\n",
      "Early stopping, best iteration is:\n",
      "[504]\tvalid_0's wrmsse: 0.30668\n"
     ]
    }
   ],
   "source": [
    "models = list()\n",
    "errors = list()\n",
    "best_iterations = list()\n",
    "\n",
    "for i,valid_period in enumerate(valid_periods):\n",
    "    print(f\" {i+1}/{len(valid_periods)} \".center(100, \"#\"))\n",
    "    print(f\" Validation period: {valid_period} \".center(100, \"#\"))\n",
    "    print(\"#\"*100)\n",
    "    \n",
    "    valid_start = valid_period[0]\n",
    "    valid_end = valid_period[1]\n",
    "    \n",
    "    train_start = valid_start - pd.DateOffset(days=train_history)\n",
    "        \n",
    "    _train_data = data.query(\"@train_start <= ds <= @valid_end\").reset_index(drop=True)\n",
    "    _valid_index = _train_data.query(\"@valid_start <= ds <= @valid_end\").index\n",
    "\n",
    "    _fcaster = LightGBMForecaster(**model_kwargs)\n",
    "    _fcaster.prepare_features(train_data=_train_data, valid_index=_valid_index);\n",
    "\n",
    "    _fcaster.train_features = reduce_mem_usage(_fcaster.train_features)\n",
    "    _fcaster.valid_features = reduce_mem_usage(_fcaster.valid_features)\n",
    "    \n",
    "    evaluator = WRMSSEEvaluator(_fcaster.valid_features.loc[:, [\"ds\"]+_fcaster.ts_uid_columns+[\"y\"]], \n",
    "                                weights_level4, \n",
    "                                scales,\n",
    "                                ts_uid_columns=_fcaster.ts_uid_columns)\n",
    "    _fcaster.fit(fit_kwargs={\"verbose_eval\":25, \"feval\":evaluator.evaluate})\n",
    "\n",
    "    \n",
    "    models.append(_fcaster)\n",
    "    errors.append(_fcaster.model.model.best_score[\"valid_0\"][\"wrmsse\"])\n",
    "    best_iterations.append(_fcaster.best_iteration)"
   ]
  },
  {
   "cell_type": "code",
   "execution_count": 24,
   "metadata": {},
   "outputs": [
    {
     "data": {
      "text/plain": [
       "0.4400144598907489"
      ]
     },
     "execution_count": 24,
     "metadata": {},
     "output_type": "execute_result"
    }
   ],
   "source": [
    "np.mean(errors)"
   ]
  },
  {
   "cell_type": "code",
   "execution_count": 25,
   "metadata": {},
   "outputs": [
    {
     "data": {
      "text/plain": [
       "565.6"
      ]
     },
     "execution_count": 25,
     "metadata": {},
     "output_type": "execute_result"
    }
   ],
   "source": [
    "np.mean(best_iterations)"
   ]
  },
  {
   "cell_type": "markdown",
   "metadata": {},
   "source": [
    "***\n",
    "### training final model"
   ]
  },
  {
   "cell_type": "code",
   "execution_count": 28,
   "metadata": {},
   "outputs": [
    {
     "data": {
      "text/plain": [
       "{'objective': 'l2',\n",
       " 'metric': 'None',\n",
       " 'num_iterations': 519,\n",
       " 'early_stopping_rounds': 250,\n",
       " 'num_leaves': 23,\n",
       " 'learning_rate': 0.1,\n",
       " 'min_data_in_leaf': 20,\n",
       " 'feature_fraction': 0.66,\n",
       " 'bagging_fraction': 0.9,\n",
       " 'bagging_freq': 1,\n",
       " 'lambda_l2': 1.0,\n",
       " 'seed': 71}"
      ]
     },
     "execution_count": 28,
     "metadata": {},
     "output_type": "execute_result"
    }
   ],
   "source": [
    "model_kwargs[\"model_params\"][\"num_iterations\"] = int(np.median(best_iterations))\n",
    "model_kwargs[\"model_params\"]"
   ]
  },
  {
   "cell_type": "code",
   "execution_count": 29,
   "metadata": {},
   "outputs": [],
   "source": [
    "train_data = data.copy(deep=True)\n",
    "all_models = list()\n",
    "\n",
    "for seed in SEEDS:\n",
    "    model_kwargs[\"model_params\"][\"seed\"] = seed\n",
    "    fcaster = LightGBMForecaster(**model_kwargs)\n",
    "    fcaster.prepare_features(train_data=train_data);\n",
    "    fcaster.fit()\n",
    "    all_models.append(fcaster)"
   ]
  },
  {
   "cell_type": "markdown",
   "metadata": {},
   "source": [
    "***\n",
    "### prediction"
   ]
  },
  {
   "cell_type": "code",
   "execution_count": 21,
   "metadata": {},
   "outputs": [],
   "source": [
    "valid_dataframe = (pd.read_parquet(\"../input/valid_dataframe.parquet\")\n",
    "                   .loc[:, [\"ds\",\"cat_id\",\"event_name_1\"]]\n",
    "                   .drop_duplicates()\n",
    "                   .merge(weights, how=\"left\", on=\"cat_id\"))\n",
    "eval_dataframe = (pd.read_parquet(\"../input/eval_dataframe.parquet\")\n",
    "                  .loc[:, [\"ds\",\"cat_id\",\"event_name_1\"]]\n",
    "                  .drop_duplicates()\n",
    "                  .merge(weights, how=\"left\", on=\"cat_id\"))"
   ]
  },
  {
   "cell_type": "code",
   "execution_count": 23,
   "metadata": {},
   "outputs": [],
   "source": [
    "all_forecasts = list()\n",
    "for fcaster in all_models:\n",
    "    _forecast = fcaster.predict(pd.concat([valid_dataframe, valid_dataframe], ignore_index=True))\n",
    "    all_forecasts.append(_forecast)\n",
    "    \n",
    "forecast = all_forecasts[0].copy(deep=True)\n",
    "forecast[\"y_pred\"] = np.mean([_forecast.y_pred for _forecast in all_forecasts], axis=0)"
   ]
  },
  {
   "cell_type": "code",
   "execution_count": 24,
   "metadata": {},
   "outputs": [
    {
     "data": {
      "text/html": [
       "<div>\n",
       "<style scoped>\n",
       "    .dataframe tbody tr th:only-of-type {\n",
       "        vertical-align: middle;\n",
       "    }\n",
       "\n",
       "    .dataframe tbody tr th {\n",
       "        vertical-align: top;\n",
       "    }\n",
       "\n",
       "    .dataframe thead th {\n",
       "        text-align: right;\n",
       "    }\n",
       "</style>\n",
       "<table border=\"1\" class=\"dataframe\">\n",
       "  <thead>\n",
       "    <tr style=\"text-align: right;\">\n",
       "      <th></th>\n",
       "      <th>ds</th>\n",
       "      <th>state_id</th>\n",
       "      <th>y_pred</th>\n",
       "    </tr>\n",
       "  </thead>\n",
       "  <tbody>\n",
       "    <tr>\n",
       "      <th>0</th>\n",
       "      <td>2016-04-25</td>\n",
       "      <td>1</td>\n",
       "      <td>16650.396352</td>\n",
       "    </tr>\n",
       "    <tr>\n",
       "      <th>1</th>\n",
       "      <td>2016-04-26</td>\n",
       "      <td>1</td>\n",
       "      <td>15232.303615</td>\n",
       "    </tr>\n",
       "    <tr>\n",
       "      <th>2</th>\n",
       "      <td>2016-04-27</td>\n",
       "      <td>1</td>\n",
       "      <td>14639.942760</td>\n",
       "    </tr>\n",
       "    <tr>\n",
       "      <th>3</th>\n",
       "      <td>2016-04-28</td>\n",
       "      <td>1</td>\n",
       "      <td>14639.617834</td>\n",
       "    </tr>\n",
       "    <tr>\n",
       "      <th>4</th>\n",
       "      <td>2016-04-29</td>\n",
       "      <td>1</td>\n",
       "      <td>16844.384815</td>\n",
       "    </tr>\n",
       "    <tr>\n",
       "      <th>...</th>\n",
       "      <td>...</td>\n",
       "      <td>...</td>\n",
       "      <td>...</td>\n",
       "    </tr>\n",
       "    <tr>\n",
       "      <th>163</th>\n",
       "      <td>2016-05-18</td>\n",
       "      <td>3</td>\n",
       "      <td>10645.395057</td>\n",
       "    </tr>\n",
       "    <tr>\n",
       "      <th>164</th>\n",
       "      <td>2016-05-19</td>\n",
       "      <td>3</td>\n",
       "      <td>10644.625792</td>\n",
       "    </tr>\n",
       "    <tr>\n",
       "      <th>165</th>\n",
       "      <td>2016-05-20</td>\n",
       "      <td>3</td>\n",
       "      <td>12284.102027</td>\n",
       "    </tr>\n",
       "    <tr>\n",
       "      <th>166</th>\n",
       "      <td>2016-05-21</td>\n",
       "      <td>3</td>\n",
       "      <td>14288.317752</td>\n",
       "    </tr>\n",
       "    <tr>\n",
       "      <th>167</th>\n",
       "      <td>2016-05-22</td>\n",
       "      <td>3</td>\n",
       "      <td>13508.788707</td>\n",
       "    </tr>\n",
       "  </tbody>\n",
       "</table>\n",
       "<p>168 rows × 3 columns</p>\n",
       "</div>"
      ],
      "text/plain": [
       "            ds  state_id        y_pred\n",
       "0   2016-04-25         1  16650.396352\n",
       "1   2016-04-26         1  15232.303615\n",
       "2   2016-04-27         1  14639.942760\n",
       "3   2016-04-28         1  14639.617834\n",
       "4   2016-04-29         1  16844.384815\n",
       "..         ...       ...           ...\n",
       "163 2016-05-18         3  10645.395057\n",
       "164 2016-05-19         3  10644.625792\n",
       "165 2016-05-20         3  12284.102027\n",
       "166 2016-05-21         3  14288.317752\n",
       "167 2016-05-22         3  13508.788707\n",
       "\n",
       "[168 rows x 3 columns]"
      ]
     },
     "execution_count": 24,
     "metadata": {},
     "output_type": "execute_result"
    }
   ],
   "source": [
    "forecast"
   ]
  },
  {
   "cell_type": "markdown",
   "metadata": {},
   "source": [
    "***"
   ]
  }
 ],
 "metadata": {
  "kernelspec": {
   "display_name": "Python 3",
   "language": "python",
   "name": "python3"
  },
  "language_info": {
   "codemirror_mode": {
    "name": "ipython",
    "version": 3
   },
   "file_extension": ".py",
   "mimetype": "text/x-python",
   "name": "python",
   "nbconvert_exporter": "python",
   "pygments_lexer": "ipython3",
   "version": "3.7.4"
  }
 },
 "nbformat": 4,
 "nbformat_minor": 4
}

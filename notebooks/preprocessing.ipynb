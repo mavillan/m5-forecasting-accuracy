{
 "cells": [
  {
   "cell_type": "code",
   "execution_count": null,
   "metadata": {},
   "outputs": [],
   "source": [
    "import gc\n",
    "import pickle\n",
    "import numpy as np \n",
    "import pandas as pd \n",
    "from category_encoders.ordinal import OrdinalEncoder\n",
    "import matplotlib.pyplot as plt\n",
    "from tsforest.utils import make_time_range\n",
    "import holidays\n",
    "\n",
    "import matplotlib.pyplot as plt\n",
    "import seaborn as sns\n",
    "\n",
    "# local modules\n",
    "import sys\n",
    "sys.path.append(\"../lib/\")\n",
    "from utils import compute_scaling, reduce_mem_usage"
   ]
  },
  {
   "cell_type": "markdown",
   "metadata": {},
   "source": [
    "***\n",
    "## data loading"
   ]
  },
  {
   "cell_type": "code",
   "execution_count": null,
   "metadata": {},
   "outputs": [],
   "source": [
    "sales_train = pd.read_csv(\"../input/sales_train_validation.csv\")\n",
    "sales_train.info()"
   ]
  },
  {
   "cell_type": "code",
   "execution_count": null,
   "metadata": {},
   "outputs": [],
   "source": [
    "calendar = pd.read_csv(\"../input/calendar.csv\", parse_dates=[\"date\"])\n",
    "calendar.info()"
   ]
  },
  {
   "cell_type": "code",
   "execution_count": null,
   "metadata": {},
   "outputs": [],
   "source": [
    "sell_prices = pd.read_csv(\"../input/sell_prices.csv\")\n",
    "sell_prices.info()"
   ]
  },
  {
   "cell_type": "markdown",
   "metadata": {},
   "source": [
    "***\n",
    "### Events features"
   ]
  },
  {
   "cell_type": "code",
   "execution_count": null,
   "metadata": {},
   "outputs": [],
   "source": [
    "us_holidays = holidays.UnitedStates(years=[2011,2012,2013,2014,2015,2016], observed=True)\n",
    "holidays_dataframe = pd.DataFrame(us_holidays.items(), columns=[\"ds\",\"event\"])\n",
    "holidays_dataframe.sort_values(\"ds\", inplace=True)"
   ]
  },
  {
   "cell_type": "markdown",
   "metadata": {},
   "source": [
    "***\n",
    "### long weekends features"
   ]
  },
  {
   "cell_type": "code",
   "execution_count": 5,
   "metadata": {},
   "outputs": [],
   "source": [
    "lw_features = make_time_range(\"2011-01-29\", \"2016-06-19\", \"D\")\n",
    "lw_features.set_index(\"ds\", inplace=True)\n",
    "lw_features[\"lw_type\"] = 0\n",
    "lw_features[\"lw_day\"] = 0\n",
    "lw_features[\"prev_lw\"] = 0\n",
    "lw_features[\"post_lw\"] = 0"
   ]
  },
  {
   "cell_type": "code",
   "execution_count": 6,
   "metadata": {},
   "outputs": [],
   "source": [
    "# 2011-02-19 al 2011-02-21\n",
    "lw_features.loc['2011-02-18', 'prev_lw'] = 1\n",
    "lw_features.loc['2011-02-19':'2011-02-21', 'lw_type'] = 1\n",
    "lw_features.loc['2011-02-19':'2011-02-21', 'lw_day'] = [1,2,3]\n",
    "lw_features.loc['2011-02-22', 'post_lw'] = 1\n",
    "\n",
    "# 2011-05-28 al 2011-05-30\n",
    "lw_features.loc['2011-05-27', 'prev_lw'] = 1\n",
    "lw_features.loc['2011-05-28':'2011-05-30', 'lw_type'] = 1\n",
    "lw_features.loc['2011-05-28':'2011-05-30', 'lw_day'] = [1,2,3]\n",
    "lw_features.loc['2011-05-31', 'post_lw'] = 1\n",
    "\n",
    "# 2011-07-02 al 2011-07-04\n",
    "lw_features.loc['2011-07-01', 'prev_lw'] = 1\n",
    "lw_features.loc['2011-07-02':'2011-07-04', 'lw_type'] = 1\n",
    "lw_features.loc['2011-07-02':'2011-07-04', 'lw_day'] = [1,2,3]\n",
    "lw_features.loc['2011-07-05', 'post_lw'] = 1\n",
    "\n",
    "# 2011-09-03 al 2011-09-05\n",
    "lw_features.loc['2011-09-02', 'prev_lw'] = 1\n",
    "lw_features.loc['2011-09-03':'2011-09-05', 'lw_type'] = 1\n",
    "lw_features.loc['2011-09-03':'2011-09-05', 'lw_day'] = [1,2,3]\n",
    "lw_features.loc['2011-09-06', 'post_lw'] = 1\n",
    "\n",
    "# 2011-10-08 al 2011-10-10\n",
    "lw_features.loc['2011-10-07', 'prev_lw'] = 1\n",
    "lw_features.loc['2011-10-08':'2011-10-10', 'lw_type'] = 1\n",
    "lw_features.loc['2011-10-08':'2011-10-10', 'lw_day'] = [1,2,3]\n",
    "lw_features.loc['2011-10-11', 'post_lw'] = 1\n",
    "\n",
    "# 2011-11-11 al 2011-11-13\n",
    "lw_features.loc['2011-11-10', 'prev_lw'] = 1\n",
    "lw_features.loc['2011-11-11':'2011-11-13', 'lw_type'] = 2\n",
    "lw_features.loc['2011-11-11':'2011-11-13', 'lw_day'] = [1,2,3]\n",
    "lw_features.loc['2011-11-14', 'post_lw'] = 1\n",
    "\n",
    "# 2011-12-24 al 2011-12-26\n",
    "lw_features.loc['2011-12-23', 'prev_lw'] = 1\n",
    "lw_features.loc['2011-12-24':'2011-12-26', 'lw_type'] = 1\n",
    "lw_features.loc['2011-12-24':'2011-12-26', 'lw_day'] = [1,2,3]\n",
    "lw_features.loc['2011-12-27', 'post_lw'] = 1\n",
    "\n",
    "# 2011-12-31 al 2012-01-02\n",
    "lw_features.loc['2011-12-30', 'prev_lw'] = 1\n",
    "lw_features.loc['2011-12-31':'2012-01-02', 'lw_type'] = 1\n",
    "lw_features.loc['2011-12-31':'2012-01-02', 'lw_day'] = [1,2,3]\n",
    "lw_features.loc['2012-01-03', 'post_lw'] = 1\n",
    "\n",
    "# 2012-01-14 al 2012-01-16\n",
    "lw_features.loc['2012-01-13', 'prev_lw'] = 1\n",
    "lw_features.loc['2012-01-14':'2012-01-16', 'lw_type'] = 1\n",
    "lw_features.loc['2012-01-14':'2012-01-16', 'lw_day'] = [1,2,3]\n",
    "lw_features.loc['2012-01-17', 'post_lw'] = 1\n",
    "\n",
    "# 2012-02-18 al 2012-02-20\n",
    "lw_features.loc['2012-02-17', 'prev_lw'] = 1\n",
    "lw_features.loc['2012-02-18':'2012-02-20', 'lw_type'] = 1\n",
    "lw_features.loc['2012-02-18':'2012-02-20', 'lw_day'] = [1,2,3]\n",
    "lw_features.loc['2012-02-21', 'post_lw'] = 1\n",
    "\n",
    "# 2012-05-26 al 2012-05-28\n",
    "lw_features.loc['2012-05-25', 'prev_lw'] = 1\n",
    "lw_features.loc['2012-05-26':'2012-05-28', 'lw_type'] = 1\n",
    "lw_features.loc['2012-05-26':'2012-05-28', 'lw_day'] = [1,2,3]\n",
    "lw_features.loc['2012-05-29', 'post_lw'] = 1\n",
    "\n",
    "# 2012-09-01 al 2012-09-03\n",
    "lw_features.loc['2012-08-31', 'prev_lw'] = 1\n",
    "lw_features.loc['2012-09-01':'2012-09-03', 'lw_type'] = 1\n",
    "lw_features.loc['2012-09-01':'2012-09-03', 'lw_day'] = [1,2,3]\n",
    "lw_features.loc['2012-09-04', 'post_lw'] = 1\n",
    "\n",
    "# 2012-10-06 al 2012-10-08\n",
    "lw_features.loc['2012-10-05', 'prev_lw'] = 1\n",
    "lw_features.loc['2012-10-06':'2012-10-08', 'lw_type'] = 1\n",
    "lw_features.loc['2012-10-06':'2012-10-08', 'lw_day'] = [1,2,3]\n",
    "lw_features.loc['2012-10-09', 'post_lw'] = 1\n",
    "\n",
    "# 2013-01-19 al 2013-01-21\n",
    "lw_features.loc['2013-01-18', 'prev_lw'] = 1\n",
    "lw_features.loc['2013-01-19':'2013-01-21', 'lw_type'] = 1\n",
    "lw_features.loc['2013-01-19':'2013-01-21', 'lw_day'] = [1,2,3]\n",
    "lw_features.loc['2013-01-22', 'post_lw'] = 1\n",
    "\n",
    "# 2013-02-16 al 2013-02-18\n",
    "lw_features.loc['2013-02-15', 'prev_lw'] = 1\n",
    "lw_features.loc['2013-02-16':'2013-02-18', 'lw_type'] = 1\n",
    "lw_features.loc['2013-02-16':'2013-02-18', 'lw_day'] = [1,2,3]\n",
    "lw_features.loc['2013-02-19', 'post_lw'] = 1\n",
    "\n",
    "# 2013-05-25 al 2013-05-27\n",
    "lw_features.loc['2013-05-24', 'prev_lw'] = 1\n",
    "lw_features.loc['2013-05-25':'2013-05-27', 'lw_type'] = 1\n",
    "lw_features.loc['2013-05-25':'2013-05-27', 'lw_day'] = [1,2,3]\n",
    "lw_features.loc['2013-05-28', 'post_lw'] = 1\n",
    "\n",
    "# 2013-08-31 al 2013-09-02\n",
    "lw_features.loc['2013-08-30', 'prev_lw'] = 1\n",
    "lw_features.loc['2013-08-31':'2013-09-02', 'lw_type'] = 1\n",
    "lw_features.loc['2013-08-31':'2013-09-02', 'lw_day'] = [1,2,3]\n",
    "lw_features.loc['2013-09-03', 'post_lw'] = 1\n",
    "\n",
    "# 2013-10-12 al 2013-10-14\n",
    "lw_features.loc['2013-10-11', 'prev_lw'] = 1\n",
    "lw_features.loc['2013-10-12':'2013-10-14', 'lw_type'] = 1\n",
    "lw_features.loc['2013-10-12':'2013-10-14', 'lw_day'] = [1,2,3]\n",
    "lw_features.loc['2013-10-15', 'post_lw'] = 1\n",
    "\n",
    "# 2013-11-09 al 2013-11-11\n",
    "lw_features.loc['2013-11-08', 'prev_lw'] = 1\n",
    "lw_features.loc['2013-11-09':'2013-11-11', 'lw_type'] = 1\n",
    "lw_features.loc['2013-11-09':'2013-11-11', 'lw_day'] = [1,2,3]\n",
    "lw_features.loc['2013-11-12', 'post_lw'] = 1\n",
    "\n",
    "# 2014-01-18 al 2014-01-20\n",
    "lw_features.loc['2014-01-17', 'prev_lw'] = 1\n",
    "lw_features.loc['2014-01-18':'2014-01-20', 'lw_type'] = 1\n",
    "lw_features.loc['2014-01-18':'2014-01-20', 'lw_day'] = [1,2,3]\n",
    "lw_features.loc['2014-01-21', 'post_lw'] = 1\n",
    "\n",
    "# 2014-02-15 al 2014-02-17\n",
    "lw_features.loc['2014-02-14', 'prev_lw'] = 1\n",
    "lw_features.loc['2014-02-15':'2014-02-17', 'lw_type'] = 1\n",
    "lw_features.loc['2014-02-15':'2014-02-17', 'lw_day'] = [1,2,3]\n",
    "lw_features.loc['2014-02-18', 'post_lw'] = 1\n",
    "\n",
    "# 2014-05-24 al 2014-05-26\n",
    "lw_features.loc['2014-05-23', 'prev_lw'] = 1\n",
    "lw_features.loc['2014-05-24':'2014-05-26', 'lw_type'] = 1\n",
    "lw_features.loc['2014-05-24':'2014-05-26', 'lw_day'] = [1,2,3]\n",
    "lw_features.loc['2014-05-27', 'post_lw'] = 1\n",
    "\n",
    "# 2014-07-04 al 2014-07-06\n",
    "lw_features.loc['2014-07-03', 'prev_lw'] = 1\n",
    "lw_features.loc['2014-07-04':'2014-07-06', 'lw_type'] = 2\n",
    "lw_features.loc['2014-07-04':'2014-07-06', 'lw_day'] = [1,2,3]\n",
    "lw_features.loc['2014-07-07', 'post_lw'] = 1\n",
    "\n",
    "# 2014-08-30 al 2014-09-01\n",
    "lw_features.loc['2014-08-29', 'prev_lw'] = 1\n",
    "lw_features.loc['2014-08-30':'2014-09-01', 'lw_type'] = 1\n",
    "lw_features.loc['2014-08-30':'2014-09-01', 'lw_day'] = [1,2,3]\n",
    "lw_features.loc['2014-09-02', 'post_lw'] = 1\n",
    "\n",
    "# 2014-10-11 al 2014-10-13\n",
    "lw_features.loc['2014-10-10', 'prev_lw'] = 1\n",
    "lw_features.loc['2014-10-11':'2014-10-13', 'lw_type'] = 1\n",
    "lw_features.loc['2014-10-11':'2014-10-13', 'lw_day'] = [1,2,3]\n",
    "lw_features.loc['2014-10-14', 'post_lw'] = 1\n",
    "\n",
    "# 2015-01-17 al 2015-01-19\n",
    "lw_features.loc['2015-01-16', 'prev_lw'] = 1\n",
    "lw_features.loc['2015-01-17':'2015-01-19', 'lw_type'] = 1\n",
    "lw_features.loc['2015-01-17':'2015-01-19', 'lw_day'] = [1,2,3]\n",
    "lw_features.loc['2015-01-20', 'post_lw'] = 1\n",
    "\n",
    "# 2015-02-14 al 2015-02-16\n",
    "lw_features.loc['2015-02-13', 'prev_lw'] = 1\n",
    "lw_features.loc['2015-02-14':'2015-02-16', 'lw_type'] = 1\n",
    "lw_features.loc['2015-02-14':'2015-02-16', 'lw_day'] = [1,2,3]\n",
    "lw_features.loc['2015-02-17', 'post_lw'] = 1\n",
    "\n",
    "# 2015-05-23 al 2015-05-25\n",
    "lw_features.loc['2015-05-22', 'prev_lw'] = 1\n",
    "lw_features.loc['2015-05-23':'2015-05-25', 'lw_type'] = 1\n",
    "lw_features.loc['2015-05-23':'2015-05-25', 'lw_day'] = [1,2,3]\n",
    "lw_features.loc['2015-05-26', 'post_lw'] = 1\n",
    "\n",
    "# 2015-07-03 al 2015-07-05\n",
    "lw_features.loc['2015-07-02', 'prev_lw'] = 1\n",
    "lw_features.loc['2015-07-03':'2015-07-05', 'lw_type'] = 2\n",
    "lw_features.loc['2015-07-03':'2015-07-05', 'lw_day'] = [1,2,3]\n",
    "lw_features.loc['2015-07-06', 'post_lw'] = 1\n",
    "\n",
    "# 2015-09-05 al 2015-09-07\n",
    "lw_features.loc['2015-09-04', 'prev_lw'] = 1\n",
    "lw_features.loc['2015-09-05':'2015-09-07', 'lw_type'] = 1\n",
    "lw_features.loc['2015-09-05':'2015-09-07', 'lw_day'] = [1,2,3]\n",
    "lw_features.loc['2015-09-08', 'post_lw'] = 1\n",
    "\n",
    "# 2015-10-10 al 2015-10-12\n",
    "lw_features.loc['2015-10-09', 'prev_lw'] = 1\n",
    "lw_features.loc['2015-10-10':'2015-10-12', 'lw_type'] = 1\n",
    "lw_features.loc['2015-10-10':'2015-10-12', 'lw_day'] = [1,2,3]\n",
    "lw_features.loc['2015-10-13', 'post_lw'] = 1\n",
    "\n",
    "# 2015-12-25 al 2015-12-27\n",
    "lw_features.loc['2015-12-24', 'prev_lw'] = 1\n",
    "lw_features.loc['2015-12-25':'2015-12-27', 'lw_type'] = 2\n",
    "lw_features.loc['2015-12-25':'2015-12-27', 'lw_day'] = [1,2,3]\n",
    "lw_features.loc['2015-12-28', 'post_lw'] = 1\n",
    "\n",
    "# 2016-01-01 al 2016-01-03\n",
    "lw_features.loc['2015-12-31', 'prev_lw'] = 1\n",
    "lw_features.loc['2016-01-01':'2016-01-03', 'lw_type'] = 2\n",
    "lw_features.loc['2016-01-01':'2016-01-03', 'lw_day'] = [1,2,3]\n",
    "lw_features.loc['2016-01-04', 'post_lw'] = 1\n",
    "\n",
    "# 2016-01-16 al 2016-01-18\n",
    "lw_features.loc['2016-01-15', 'prev_lw'] = 1\n",
    "lw_features.loc['2016-01-16':'2016-01-18', 'lw_type'] = 1\n",
    "lw_features.loc['2016-01-16':'2016-01-18', 'lw_day'] = [1,2,3]\n",
    "lw_features.loc['2016-01-19', 'post_lw'] = 1\n",
    "\n",
    "# 2016-02-13 al 2016-02-15\n",
    "lw_features.loc['2016-02-12', 'prev_lw'] = 1\n",
    "lw_features.loc['2016-02-13':'2016-02-15', 'lw_type'] = 1\n",
    "lw_features.loc['2016-02-13':'2016-02-15', 'lw_day'] = [1,2,3]\n",
    "lw_features.loc['2016-02-16', 'post_lw'] = 1\n",
    "\n",
    "# 2016-05-28 al 2016-05-30\n",
    "lw_features.loc['2016-05-27', 'prev_lw'] = 1\n",
    "lw_features.loc['2016-05-28':'2016-05-30', 'lw_type'] = 1\n",
    "lw_features.loc['2016-05-28':'2016-05-30', 'lw_day'] = [1,2,3]\n",
    "lw_features.loc['2016-05-31', 'post_lw'] = 1\n"
   ]
  },
  {
   "cell_type": "code",
   "execution_count": 7,
   "metadata": {},
   "outputs": [],
   "source": [
    "lw_features.reset_index(inplace=True)"
   ]
  },
  {
   "cell_type": "code",
   "execution_count": 8,
   "metadata": {},
   "outputs": [
    {
     "data": {
      "text/html": [
       "<div>\n",
       "<style scoped>\n",
       "    .dataframe tbody tr th:only-of-type {\n",
       "        vertical-align: middle;\n",
       "    }\n",
       "\n",
       "    .dataframe tbody tr th {\n",
       "        vertical-align: top;\n",
       "    }\n",
       "\n",
       "    .dataframe thead th {\n",
       "        text-align: right;\n",
       "    }\n",
       "</style>\n",
       "<table border=\"1\" class=\"dataframe\">\n",
       "  <thead>\n",
       "    <tr style=\"text-align: right;\">\n",
       "      <th></th>\n",
       "      <th>ds</th>\n",
       "      <th>lw_type</th>\n",
       "      <th>lw_day</th>\n",
       "      <th>prev_lw</th>\n",
       "      <th>post_lw</th>\n",
       "    </tr>\n",
       "  </thead>\n",
       "  <tbody>\n",
       "    <tr>\n",
       "      <th>0</th>\n",
       "      <td>2011-01-29</td>\n",
       "      <td>0</td>\n",
       "      <td>0</td>\n",
       "      <td>0</td>\n",
       "      <td>0</td>\n",
       "    </tr>\n",
       "    <tr>\n",
       "      <th>1</th>\n",
       "      <td>2011-01-30</td>\n",
       "      <td>0</td>\n",
       "      <td>0</td>\n",
       "      <td>0</td>\n",
       "      <td>0</td>\n",
       "    </tr>\n",
       "    <tr>\n",
       "      <th>2</th>\n",
       "      <td>2011-01-31</td>\n",
       "      <td>0</td>\n",
       "      <td>0</td>\n",
       "      <td>0</td>\n",
       "      <td>0</td>\n",
       "    </tr>\n",
       "    <tr>\n",
       "      <th>3</th>\n",
       "      <td>2011-02-01</td>\n",
       "      <td>0</td>\n",
       "      <td>0</td>\n",
       "      <td>0</td>\n",
       "      <td>0</td>\n",
       "    </tr>\n",
       "    <tr>\n",
       "      <th>4</th>\n",
       "      <td>2011-02-02</td>\n",
       "      <td>0</td>\n",
       "      <td>0</td>\n",
       "      <td>0</td>\n",
       "      <td>0</td>\n",
       "    </tr>\n",
       "  </tbody>\n",
       "</table>\n",
       "</div>"
      ],
      "text/plain": [
       "          ds  lw_type  lw_day  prev_lw  post_lw\n",
       "0 2011-01-29        0       0        0        0\n",
       "1 2011-01-30        0       0        0        0\n",
       "2 2011-01-31        0       0        0        0\n",
       "3 2011-02-01        0       0        0        0\n",
       "4 2011-02-02        0       0        0        0"
      ]
     },
     "execution_count": 8,
     "metadata": {},
     "output_type": "execute_result"
    }
   ],
   "source": [
    "lw_features.head()"
   ]
  },
  {
   "cell_type": "markdown",
   "metadata": {},
   "source": [
    "***\n",
    "### events features"
   ]
  },
  {
   "cell_type": "code",
   "execution_count": 9,
   "metadata": {},
   "outputs": [],
   "source": [
    "events_features = make_time_range(\"2011-01-29\", \"2016-06-19\", \"D\")"
   ]
  },
  {
   "cell_type": "code",
   "execution_count": 10,
   "metadata": {},
   "outputs": [],
   "source": [
    "# christmas features\n",
    "events_features[\"prev_christmas\"] = 0\n",
    "events_features.loc[events_features.query(\"ds.dt.month == 12 & ds.dt.day == 20\").index, \"prev_christmas\"] = 1\n",
    "events_features.loc[events_features.query(\"ds.dt.month == 12 & ds.dt.day == 21\").index, \"prev_christmas\"] = 2\n",
    "events_features.loc[events_features.query(\"ds.dt.month == 12 & ds.dt.day == 22\").index, \"prev_christmas\"] = 3\n",
    "events_features.loc[events_features.query(\"ds.dt.month == 12 & ds.dt.day == 23\").index, \"prev_christmas\"] = 4\n",
    "events_features.loc[events_features.query(\"ds.dt.month == 12 & ds.dt.day == 24\").index, \"prev_christmas\"] = 5\n",
    "events_features.loc[events_features.query(\"ds.dt.month == 12 & ds.dt.day == 25\").index, \"prev_christmas\"] = 6\n",
    "\n",
    "events_features[\"post_christmas\"] = 0\n",
    "events_features.loc[events_features.query(\"ds.dt.month == 12 & ds.dt.day == 26\").index, \"post_christmas\"] = 1"
   ]
  },
  {
   "cell_type": "code",
   "execution_count": 11,
   "metadata": {},
   "outputs": [],
   "source": [
    "# new year features\n",
    "events_features[\"prev_newyear\"] = 0\n",
    "events_features.loc[events_features.query(\"ds.dt.month == 12 & ds.dt.day == 28\").index, \"prev_newyear\"] = 1\n",
    "events_features.loc[events_features.query(\"ds.dt.month == 12 & ds.dt.day == 29\").index, \"prev_newyear\"] = 2\n",
    "events_features.loc[events_features.query(\"ds.dt.month == 12 & ds.dt.day == 30\").index, \"prev_newyear\"] = 3\n",
    "events_features.loc[events_features.query(\"ds.dt.month == 12 & ds.dt.day == 31\").index, \"prev_newyear\"] = 4\n",
    "\n",
    "events_features[\"post_newyear\"] = 0\n",
    "events_features.loc[events_features.query(\"ds.dt.month == 1 & ds.dt.day == 1\").index, \"post_newyear\"] = 1"
   ]
  },
  {
   "cell_type": "code",
   "execution_count": 12,
   "metadata": {},
   "outputs": [],
   "source": [
    "# Thanksgiving features\n",
    "events_features[\"prev_thanksgiving\"] = 0\n",
    "events_features[\"post_thanksgiving\"] = 0\n",
    "\n",
    "idx = events_features.query(\"ds.dt.year == 2011 & ds.dt.month == 11 & ds.dt.day in [22,23,24]\").index\n",
    "events_features.loc[idx, \"prev_thanksgiving\"] = [1,2,3]\n",
    "idx = events_features.query(\"ds.dt.year == 2011 & ds.dt.month == 11 & ds.dt.day == 25\").index\n",
    "events_features.loc[idx, \"post_thanksgiving\"] = 1\n",
    "\n",
    "idx = events_features.query(\"ds.dt.year == 2012 & ds.dt.month == 11 & ds.dt.day in [20,21,22]\").index\n",
    "events_features.loc[idx, \"prev_thanksgiving\"] = [1,2,3]\n",
    "idx = events_features.query(\"ds.dt.year == 2012 & ds.dt.month == 11 & ds.dt.day == 23\").index\n",
    "events_features.loc[idx, \"post_thanksgiving\"] = 1\n",
    "\n",
    "idx = events_features.query(\"ds.dt.year == 2013 & ds.dt.month == 11 & ds.dt.day in [26,27,28]\").index\n",
    "events_features.loc[idx, \"prev_thanksgiving\"] = [1,2,3]\n",
    "idx = events_features.query(\"ds.dt.year == 2013 & ds.dt.month == 11 & ds.dt.day == 29\").index\n",
    "events_features.loc[idx, \"post_thanksgiving\"] = 1\n",
    "\n",
    "idx = events_features.query(\"ds.dt.year == 2014 & ds.dt.month == 11 & ds.dt.day in [25,26,27]\").index\n",
    "events_features.loc[idx, \"prev_thanksgiving\"] = [1,2,3]\n",
    "idx = events_features.query(\"ds.dt.year == 2014 & ds.dt.month == 11 & ds.dt.day == 28\").index\n",
    "events_features.loc[idx, \"post_thanksgiving\"] = 1\n",
    "\n",
    "idx = events_features.query(\"ds.dt.year == 2015 & ds.dt.month == 11 & ds.dt.day in [24,25,26]\").index\n",
    "events_features.loc[idx, \"prev_thanksgiving\"] = [1,2,3]\n",
    "idx = events_features.query(\"ds.dt.year == 2015 & ds.dt.month == 11 & ds.dt.day == 27\").index\n",
    "events_features.loc[idx, \"post_thanksgiving\"] = 1"
   ]
  },
  {
   "cell_type": "code",
   "execution_count": 13,
   "metadata": {},
   "outputs": [
    {
     "data": {
      "text/html": [
       "<div>\n",
       "<style scoped>\n",
       "    .dataframe tbody tr th:only-of-type {\n",
       "        vertical-align: middle;\n",
       "    }\n",
       "\n",
       "    .dataframe tbody tr th {\n",
       "        vertical-align: top;\n",
       "    }\n",
       "\n",
       "    .dataframe thead th {\n",
       "        text-align: right;\n",
       "    }\n",
       "</style>\n",
       "<table border=\"1\" class=\"dataframe\">\n",
       "  <thead>\n",
       "    <tr style=\"text-align: right;\">\n",
       "      <th></th>\n",
       "      <th>ds</th>\n",
       "      <th>prev_christmas</th>\n",
       "      <th>post_christmas</th>\n",
       "      <th>prev_newyear</th>\n",
       "      <th>post_newyear</th>\n",
       "      <th>prev_thanksgiving</th>\n",
       "      <th>post_thanksgiving</th>\n",
       "    </tr>\n",
       "  </thead>\n",
       "  <tbody>\n",
       "    <tr>\n",
       "      <th>0</th>\n",
       "      <td>2011-01-29</td>\n",
       "      <td>0</td>\n",
       "      <td>0</td>\n",
       "      <td>0</td>\n",
       "      <td>0</td>\n",
       "      <td>0</td>\n",
       "      <td>0</td>\n",
       "    </tr>\n",
       "    <tr>\n",
       "      <th>1</th>\n",
       "      <td>2011-01-30</td>\n",
       "      <td>0</td>\n",
       "      <td>0</td>\n",
       "      <td>0</td>\n",
       "      <td>0</td>\n",
       "      <td>0</td>\n",
       "      <td>0</td>\n",
       "    </tr>\n",
       "    <tr>\n",
       "      <th>2</th>\n",
       "      <td>2011-01-31</td>\n",
       "      <td>0</td>\n",
       "      <td>0</td>\n",
       "      <td>0</td>\n",
       "      <td>0</td>\n",
       "      <td>0</td>\n",
       "      <td>0</td>\n",
       "    </tr>\n",
       "    <tr>\n",
       "      <th>3</th>\n",
       "      <td>2011-02-01</td>\n",
       "      <td>0</td>\n",
       "      <td>0</td>\n",
       "      <td>0</td>\n",
       "      <td>0</td>\n",
       "      <td>0</td>\n",
       "      <td>0</td>\n",
       "    </tr>\n",
       "    <tr>\n",
       "      <th>4</th>\n",
       "      <td>2011-02-02</td>\n",
       "      <td>0</td>\n",
       "      <td>0</td>\n",
       "      <td>0</td>\n",
       "      <td>0</td>\n",
       "      <td>0</td>\n",
       "      <td>0</td>\n",
       "    </tr>\n",
       "  </tbody>\n",
       "</table>\n",
       "</div>"
      ],
      "text/plain": [
       "          ds  prev_christmas  post_christmas  prev_newyear  post_newyear  \\\n",
       "0 2011-01-29               0               0             0             0   \n",
       "1 2011-01-30               0               0             0             0   \n",
       "2 2011-01-31               0               0             0             0   \n",
       "3 2011-02-01               0               0             0             0   \n",
       "4 2011-02-02               0               0             0             0   \n",
       "\n",
       "   prev_thanksgiving  post_thanksgiving  \n",
       "0                  0                  0  \n",
       "1                  0                  0  \n",
       "2                  0                  0  \n",
       "3                  0                  0  \n",
       "4                  0                  0  "
      ]
     },
     "execution_count": 13,
     "metadata": {},
     "output_type": "execute_result"
    }
   ],
   "source": [
    "events_features.head()"
   ]
  },
  {
   "cell_type": "markdown",
   "metadata": {},
   "source": [
    "***\n",
    "## hierarchy"
   ]
  },
  {
   "cell_type": "code",
   "execution_count": 14,
   "metadata": {},
   "outputs": [],
   "source": [
    "sales_train[\"id\"] = sales_train.id.map(lambda x: x.replace(\"_validation\", \"\"))\n",
    "hierarchy = (sales_train.loc[:, [\"id\", \"item_id\", \"dept_id\", \"cat_id\", \"store_id\", \"state_id\"]]\n",
    "             .drop_duplicates())\n",
    "encoders = dict()"
   ]
  },
  {
   "cell_type": "code",
   "execution_count": 15,
   "metadata": {},
   "outputs": [],
   "source": [
    "hierarchy.to_parquet(\"../input/hierarchy_raw.parquet\", index=False)"
   ]
  },
  {
   "cell_type": "code",
   "execution_count": 16,
   "metadata": {},
   "outputs": [],
   "source": [
    "# hierarchy encoder\n",
    "id_encoder = OrdinalEncoder()\n",
    "id_encoder.fit(hierarchy.loc[:, [\"id\"]])\n",
    "hierarchy[\"ts_id\"]  = id_encoder.transform(hierarchy.loc[:, [\"id\"]])\n",
    "encoders[\"id\"] = id_encoder\n",
    "\n",
    "item_encoder = OrdinalEncoder()\n",
    "item_encoder.fit(hierarchy.loc[:, [\"item_id\"]])\n",
    "hierarchy.loc[:, \"item_id\"]  = item_encoder.transform(hierarchy.loc[:, [\"item_id\"]])\n",
    "encoders[\"item\"] = item_encoder\n",
    "\n",
    "dept_encoder = OrdinalEncoder()\n",
    "dept_encoder.fit(hierarchy.loc[:, [\"dept_id\"]])\n",
    "hierarchy.loc[:, \"dept_id\"]  = dept_encoder.transform(hierarchy.loc[:, [\"dept_id\"]])\n",
    "encoders[\"dept\"] = dept_encoder\n",
    "\n",
    "cat_encoder = OrdinalEncoder()\n",
    "cat_encoder.fit(hierarchy.loc[:, [\"cat_id\"]])\n",
    "hierarchy.loc[:, \"cat_id\"]   = cat_encoder.transform(hierarchy.loc[:, [\"cat_id\"]])\n",
    "encoders[\"cat\"] = cat_encoder\n",
    "\n",
    "store_encoder = OrdinalEncoder()\n",
    "store_encoder.fit(hierarchy.loc[:, [\"store_id\"]])\n",
    "hierarchy.loc[:, \"store_id\"] = store_encoder.transform(hierarchy.loc[:, [\"store_id\"]])\n",
    "encoders[\"store\"] = store_encoder\n",
    "\n",
    "state_encoder = OrdinalEncoder()\n",
    "state_encoder.fit(hierarchy.loc[:, [\"state_id\"]])\n",
    "hierarchy.loc[:, \"state_id\"] = state_encoder.transform(hierarchy.loc[:, [\"state_id\"]])\n",
    "encoders[\"state\"] = state_encoder"
   ]
  },
  {
   "cell_type": "code",
   "execution_count": 17,
   "metadata": {},
   "outputs": [],
   "source": [
    "hierarchy.to_parquet(\"../input/hierarchy.parquet\", index=False)"
   ]
  },
  {
   "cell_type": "code",
   "execution_count": 18,
   "metadata": {},
   "outputs": [],
   "source": [
    "outfile = open(\"../input/encoders.pkl\", \"wb\")\n",
    "pickle.dump(encoders, outfile)\n",
    "outfile.close()"
   ]
  },
  {
   "cell_type": "markdown",
   "metadata": {},
   "source": [
    "***\n",
    "## calendar events encoding"
   ]
  },
  {
   "cell_type": "code",
   "execution_count": 19,
   "metadata": {},
   "outputs": [],
   "source": [
    "event_name_1_encoder = OrdinalEncoder()\n",
    "event_name_1_encoder.fit(calendar.loc[:, [\"event_name_1\"]])\n",
    "calendar.loc[:, \"event_name_1\"] = event_name_1_encoder.transform(calendar.loc[:, [\"event_name_1\"]])"
   ]
  },
  {
   "cell_type": "code",
   "execution_count": 20,
   "metadata": {},
   "outputs": [],
   "source": [
    "event_type_1_encoder = OrdinalEncoder()\n",
    "event_type_1_encoder.fit(calendar.loc[:, [\"event_type_1\"]])\n",
    "calendar.loc[:, \"event_type_1\"] = event_type_1_encoder.transform(calendar.loc[:, [\"event_type_1\"]])"
   ]
  },
  {
   "cell_type": "code",
   "execution_count": 21,
   "metadata": {},
   "outputs": [],
   "source": [
    "event_name_2_encoder = OrdinalEncoder()\n",
    "event_name_2_encoder.fit(calendar.loc[:, [\"event_name_2\"]])\n",
    "calendar.loc[:, \"event_name_2\"] = event_name_2_encoder.transform(calendar.loc[:, [\"event_name_2\"]])"
   ]
  },
  {
   "cell_type": "code",
   "execution_count": 22,
   "metadata": {},
   "outputs": [],
   "source": [
    "event_type_2_encoder = OrdinalEncoder()\n",
    "event_type_2_encoder.fit(calendar.loc[:, [\"event_type_2\"]])\n",
    "calendar.loc[:, \"event_type_2\"] = event_type_2_encoder.transform(calendar.loc[:, [\"event_type_2\"]])"
   ]
  },
  {
   "cell_type": "markdown",
   "metadata": {},
   "source": [
    "***\n",
    "## categorical encoding"
   ]
  },
  {
   "cell_type": "code",
   "execution_count": 23,
   "metadata": {},
   "outputs": [],
   "source": [
    "sales_train[\"ts_id\"] = id_encoder.transform(sales_train.loc[:, [\"id\"]])\n",
    "sales_train.loc[:, \"item_id\"]  = item_encoder.transform(sales_train.loc[:, [\"item_id\"]])\n",
    "sales_train.loc[:, \"dept_id\"]  = dept_encoder.transform(sales_train.loc[:, [\"dept_id\"]])\n",
    "sales_train.loc[:, \"cat_id\"]   = cat_encoder.transform(sales_train.loc[:, [\"cat_id\"]])\n",
    "sales_train.loc[:, \"store_id\"] = store_encoder.transform(sales_train.loc[:, [\"store_id\"]])\n",
    "sales_train.loc[:, \"state_id\"] = state_encoder.transform(sales_train.loc[:, [\"state_id\"]])"
   ]
  },
  {
   "cell_type": "code",
   "execution_count": 24,
   "metadata": {},
   "outputs": [],
   "source": [
    "sell_prices.loc[:, \"store_id\"] = store_encoder.transform(sell_prices.loc[:, [\"store_id\"]])\n",
    "sell_prices.loc[:, \"item_id\"]  = item_encoder.transform(sell_prices.loc[:, [\"item_id\"]]) "
   ]
  },
  {
   "cell_type": "markdown",
   "metadata": {},
   "source": [
    "***\n",
    "## building price features"
   ]
  },
  {
   "cell_type": "code",
   "execution_count": 25,
   "metadata": {},
   "outputs": [],
   "source": [
    "number_prices = (sell_prices\n",
    "                 .groupby([\"store_id\", \"item_id\"])[\"sell_price\"]\n",
    "                 .apply(lambda x: len(np.unique(x)))\n",
    "                 .reset_index(name=\"n_prices\")\n",
    "                )"
   ]
  },
  {
   "cell_type": "code",
   "execution_count": 26,
   "metadata": {},
   "outputs": [
    {
     "data": {
      "text/plain": [
       "count    30490.000000\n",
       "mean         2.769367\n",
       "std          1.893627\n",
       "min          1.000000\n",
       "25%          1.000000\n",
       "50%          2.000000\n",
       "75%          4.000000\n",
       "max         21.000000\n",
       "Name: n_prices, dtype: float64"
      ]
     },
     "execution_count": 26,
     "metadata": {},
     "output_type": "execute_result"
    }
   ],
   "source": [
    "number_prices.n_prices.describe()"
   ]
  },
  {
   "cell_type": "code",
   "execution_count": 27,
   "metadata": {},
   "outputs": [
    {
     "data": {
      "text/plain": [
       "282"
      ]
     },
     "execution_count": 27,
     "metadata": {},
     "output_type": "execute_result"
    }
   ],
   "source": [
    "sell_prices.wm_yr_wk.nunique()"
   ]
  },
  {
   "cell_type": "markdown",
   "metadata": {},
   "source": [
    "La mayoría de item-stores no tiene más de 4 precios diferentes, y el 50% no tiene más de 2 precios. El que más tiene, tiene 21 precios sobre un rango de 282 semanas."
   ]
  },
  {
   "cell_type": "code",
   "execution_count": 28,
   "metadata": {},
   "outputs": [
    {
     "data": {
      "text/plain": [
       "8.26    141\n",
       "8.38     11\n",
       "9.58      2\n",
       "Name: sell_price, dtype: int64"
      ]
     },
     "execution_count": 28,
     "metadata": {},
     "output_type": "execute_result"
    }
   ],
   "source": [
    "sell_prices.query(\"item_id == 1 & store_id == 1\").sell_price.value_counts()"
   ]
  },
  {
   "cell_type": "code",
   "execution_count": 29,
   "metadata": {},
   "outputs": [],
   "source": [
    "# identifies the more frequent price\n",
    "regular_prices = (\n",
    "    sell_prices\n",
    "    .groupby([\"store_id\", \"item_id\"])[\"sell_price\"]\n",
    "    .apply(lambda x: x.value_counts().index[0])\n",
    "    .reset_index(name=\"regular_price\")\n",
    ")"
   ]
  },
  {
   "cell_type": "code",
   "execution_count": 30,
   "metadata": {},
   "outputs": [],
   "source": [
    "# price variation\n",
    "price_variation1 = (sell_prices.groupby([\"store_id\",\"item_id\"])[\"sell_price\"].quantile(0.75) - \n",
    "                    sell_prices.groupby([\"store_id\",\"item_id\"])[\"sell_price\"].quantile(0.25)).reset_index(name=\"price_iqr1\")\n",
    "\n",
    "price_variation2 = (sell_prices.groupby([\"store_id\",\"item_id\"])[\"sell_price\"].quantile(0.95) - \n",
    "                    sell_prices.groupby([\"store_id\",\"item_id\"])[\"sell_price\"].quantile(0.05)).reset_index(name=\"price_iqr2\")\n",
    "\n",
    "# min and max prices\n",
    "price_min = sell_prices.groupby([\"store_id\",\"item_id\"])[\"sell_price\"].quantile(0.025).reset_index(name=\"price_min\")\n",
    "price_max = sell_prices.groupby([\"store_id\",\"item_id\"])[\"sell_price\"].quantile(0.975).reset_index(name=\"price_max\")"
   ]
  },
  {
   "cell_type": "code",
   "execution_count": 31,
   "metadata": {},
   "outputs": [],
   "source": [
    "sell_prices = (\n",
    "    sell_prices\n",
    "    .merge(number_prices, how=\"left\")\n",
    "    .merge(regular_prices, how=\"left\")\n",
    "    .merge(price_variation1, how=\"left\")\n",
    "    .merge(price_variation2, how=\"left\")\n",
    "    .merge(price_min, how=\"left\")\n",
    "    .merge(price_max, how=\"left\")\n",
    "    .assign(discount = lambda x: x.regular_price - x.sell_price)\n",
    "    .assign(discount_norm = lambda x: (x.regular_price - x.sell_price)/x.regular_price)\n",
    ")"
   ]
  },
  {
   "cell_type": "code",
   "execution_count": 32,
   "metadata": {},
   "outputs": [],
   "source": [
    "# price momentum\n",
    "sell_prices = sell_prices.merge(calendar.loc[:, ['wm_yr_wk','month','year']], on=['wm_yr_wk'], how='left')\n",
    "sell_prices['price_momentum_m'] = sell_prices['sell_price']/sell_prices.groupby(['store_id','item_id','month'])['sell_price'].transform('mean')\n",
    "sell_prices['price_momentum_y'] = sell_prices['sell_price']/sell_prices.groupby(['store_id','item_id','year'])['sell_price'].transform('mean')\n",
    "sell_prices.drop([\"year\",\"month\"], axis=1, inplace=True)"
   ]
  },
  {
   "cell_type": "code",
   "execution_count": 33,
   "metadata": {},
   "outputs": [
    {
     "data": {
      "text/html": [
       "<div>\n",
       "<style scoped>\n",
       "    .dataframe tbody tr th:only-of-type {\n",
       "        vertical-align: middle;\n",
       "    }\n",
       "\n",
       "    .dataframe tbody tr th {\n",
       "        vertical-align: top;\n",
       "    }\n",
       "\n",
       "    .dataframe thead th {\n",
       "        text-align: right;\n",
       "    }\n",
       "</style>\n",
       "<table border=\"1\" class=\"dataframe\">\n",
       "  <thead>\n",
       "    <tr style=\"text-align: right;\">\n",
       "      <th></th>\n",
       "      <th>store_id</th>\n",
       "      <th>item_id</th>\n",
       "      <th>wm_yr_wk</th>\n",
       "      <th>sell_price</th>\n",
       "      <th>n_prices</th>\n",
       "      <th>regular_price</th>\n",
       "      <th>price_iqr1</th>\n",
       "      <th>price_iqr2</th>\n",
       "      <th>price_min</th>\n",
       "      <th>price_max</th>\n",
       "      <th>discount</th>\n",
       "      <th>discount_norm</th>\n",
       "      <th>price_momentum_m</th>\n",
       "      <th>price_momentum_y</th>\n",
       "    </tr>\n",
       "  </thead>\n",
       "  <tbody>\n",
       "    <tr>\n",
       "      <th>0</th>\n",
       "      <td>1</td>\n",
       "      <td>1</td>\n",
       "      <td>11325</td>\n",
       "      <td>9.58</td>\n",
       "      <td>3</td>\n",
       "      <td>8.26</td>\n",
       "      <td>0.0</td>\n",
       "      <td>0.12</td>\n",
       "      <td>8.26</td>\n",
       "      <td>8.38</td>\n",
       "      <td>-1.32</td>\n",
       "      <td>-0.159806</td>\n",
       "      <td>1.128633</td>\n",
       "      <td>1.144914</td>\n",
       "    </tr>\n",
       "    <tr>\n",
       "      <th>1</th>\n",
       "      <td>1</td>\n",
       "      <td>1</td>\n",
       "      <td>11325</td>\n",
       "      <td>9.58</td>\n",
       "      <td>3</td>\n",
       "      <td>8.26</td>\n",
       "      <td>0.0</td>\n",
       "      <td>0.12</td>\n",
       "      <td>8.26</td>\n",
       "      <td>8.38</td>\n",
       "      <td>-1.32</td>\n",
       "      <td>-0.159806</td>\n",
       "      <td>1.128633</td>\n",
       "      <td>1.144914</td>\n",
       "    </tr>\n",
       "    <tr>\n",
       "      <th>2</th>\n",
       "      <td>1</td>\n",
       "      <td>1</td>\n",
       "      <td>11325</td>\n",
       "      <td>9.58</td>\n",
       "      <td>3</td>\n",
       "      <td>8.26</td>\n",
       "      <td>0.0</td>\n",
       "      <td>0.12</td>\n",
       "      <td>8.26</td>\n",
       "      <td>8.38</td>\n",
       "      <td>-1.32</td>\n",
       "      <td>-0.159806</td>\n",
       "      <td>1.128633</td>\n",
       "      <td>1.144914</td>\n",
       "    </tr>\n",
       "    <tr>\n",
       "      <th>3</th>\n",
       "      <td>1</td>\n",
       "      <td>1</td>\n",
       "      <td>11325</td>\n",
       "      <td>9.58</td>\n",
       "      <td>3</td>\n",
       "      <td>8.26</td>\n",
       "      <td>0.0</td>\n",
       "      <td>0.12</td>\n",
       "      <td>8.26</td>\n",
       "      <td>8.38</td>\n",
       "      <td>-1.32</td>\n",
       "      <td>-0.159806</td>\n",
       "      <td>1.128633</td>\n",
       "      <td>1.144914</td>\n",
       "    </tr>\n",
       "    <tr>\n",
       "      <th>4</th>\n",
       "      <td>1</td>\n",
       "      <td>1</td>\n",
       "      <td>11325</td>\n",
       "      <td>9.58</td>\n",
       "      <td>3</td>\n",
       "      <td>8.26</td>\n",
       "      <td>0.0</td>\n",
       "      <td>0.12</td>\n",
       "      <td>8.26</td>\n",
       "      <td>8.38</td>\n",
       "      <td>-1.32</td>\n",
       "      <td>-0.159806</td>\n",
       "      <td>1.128633</td>\n",
       "      <td>1.144914</td>\n",
       "    </tr>\n",
       "    <tr>\n",
       "      <th>...</th>\n",
       "      <td>...</td>\n",
       "      <td>...</td>\n",
       "      <td>...</td>\n",
       "      <td>...</td>\n",
       "      <td>...</td>\n",
       "      <td>...</td>\n",
       "      <td>...</td>\n",
       "      <td>...</td>\n",
       "      <td>...</td>\n",
       "      <td>...</td>\n",
       "      <td>...</td>\n",
       "      <td>...</td>\n",
       "      <td>...</td>\n",
       "      <td>...</td>\n",
       "    </tr>\n",
       "    <tr>\n",
       "      <th>47735392</th>\n",
       "      <td>10</td>\n",
       "      <td>3049</td>\n",
       "      <td>11620</td>\n",
       "      <td>1.00</td>\n",
       "      <td>1</td>\n",
       "      <td>1.00</td>\n",
       "      <td>0.0</td>\n",
       "      <td>0.00</td>\n",
       "      <td>1.00</td>\n",
       "      <td>1.00</td>\n",
       "      <td>0.00</td>\n",
       "      <td>0.000000</td>\n",
       "      <td>1.000000</td>\n",
       "      <td>1.000000</td>\n",
       "    </tr>\n",
       "    <tr>\n",
       "      <th>47735393</th>\n",
       "      <td>10</td>\n",
       "      <td>3049</td>\n",
       "      <td>11620</td>\n",
       "      <td>1.00</td>\n",
       "      <td>1</td>\n",
       "      <td>1.00</td>\n",
       "      <td>0.0</td>\n",
       "      <td>0.00</td>\n",
       "      <td>1.00</td>\n",
       "      <td>1.00</td>\n",
       "      <td>0.00</td>\n",
       "      <td>0.000000</td>\n",
       "      <td>1.000000</td>\n",
       "      <td>1.000000</td>\n",
       "    </tr>\n",
       "    <tr>\n",
       "      <th>47735394</th>\n",
       "      <td>10</td>\n",
       "      <td>3049</td>\n",
       "      <td>11620</td>\n",
       "      <td>1.00</td>\n",
       "      <td>1</td>\n",
       "      <td>1.00</td>\n",
       "      <td>0.0</td>\n",
       "      <td>0.00</td>\n",
       "      <td>1.00</td>\n",
       "      <td>1.00</td>\n",
       "      <td>0.00</td>\n",
       "      <td>0.000000</td>\n",
       "      <td>1.000000</td>\n",
       "      <td>1.000000</td>\n",
       "    </tr>\n",
       "    <tr>\n",
       "      <th>47735395</th>\n",
       "      <td>10</td>\n",
       "      <td>3049</td>\n",
       "      <td>11621</td>\n",
       "      <td>1.00</td>\n",
       "      <td>1</td>\n",
       "      <td>1.00</td>\n",
       "      <td>0.0</td>\n",
       "      <td>0.00</td>\n",
       "      <td>1.00</td>\n",
       "      <td>1.00</td>\n",
       "      <td>0.00</td>\n",
       "      <td>0.000000</td>\n",
       "      <td>1.000000</td>\n",
       "      <td>1.000000</td>\n",
       "    </tr>\n",
       "    <tr>\n",
       "      <th>47735396</th>\n",
       "      <td>10</td>\n",
       "      <td>3049</td>\n",
       "      <td>11621</td>\n",
       "      <td>1.00</td>\n",
       "      <td>1</td>\n",
       "      <td>1.00</td>\n",
       "      <td>0.0</td>\n",
       "      <td>0.00</td>\n",
       "      <td>1.00</td>\n",
       "      <td>1.00</td>\n",
       "      <td>0.00</td>\n",
       "      <td>0.000000</td>\n",
       "      <td>1.000000</td>\n",
       "      <td>1.000000</td>\n",
       "    </tr>\n",
       "  </tbody>\n",
       "</table>\n",
       "<p>47735397 rows × 14 columns</p>\n",
       "</div>"
      ],
      "text/plain": [
       "          store_id  item_id  wm_yr_wk  sell_price  n_prices  regular_price  \\\n",
       "0                1        1     11325        9.58         3           8.26   \n",
       "1                1        1     11325        9.58         3           8.26   \n",
       "2                1        1     11325        9.58         3           8.26   \n",
       "3                1        1     11325        9.58         3           8.26   \n",
       "4                1        1     11325        9.58         3           8.26   \n",
       "...            ...      ...       ...         ...       ...            ...   \n",
       "47735392        10     3049     11620        1.00         1           1.00   \n",
       "47735393        10     3049     11620        1.00         1           1.00   \n",
       "47735394        10     3049     11620        1.00         1           1.00   \n",
       "47735395        10     3049     11621        1.00         1           1.00   \n",
       "47735396        10     3049     11621        1.00         1           1.00   \n",
       "\n",
       "          price_iqr1  price_iqr2  price_min  price_max  discount  \\\n",
       "0                0.0        0.12       8.26       8.38     -1.32   \n",
       "1                0.0        0.12       8.26       8.38     -1.32   \n",
       "2                0.0        0.12       8.26       8.38     -1.32   \n",
       "3                0.0        0.12       8.26       8.38     -1.32   \n",
       "4                0.0        0.12       8.26       8.38     -1.32   \n",
       "...              ...         ...        ...        ...       ...   \n",
       "47735392         0.0        0.00       1.00       1.00      0.00   \n",
       "47735393         0.0        0.00       1.00       1.00      0.00   \n",
       "47735394         0.0        0.00       1.00       1.00      0.00   \n",
       "47735395         0.0        0.00       1.00       1.00      0.00   \n",
       "47735396         0.0        0.00       1.00       1.00      0.00   \n",
       "\n",
       "          discount_norm  price_momentum_m  price_momentum_y  \n",
       "0             -0.159806          1.128633          1.144914  \n",
       "1             -0.159806          1.128633          1.144914  \n",
       "2             -0.159806          1.128633          1.144914  \n",
       "3             -0.159806          1.128633          1.144914  \n",
       "4             -0.159806          1.128633          1.144914  \n",
       "...                 ...               ...               ...  \n",
       "47735392       0.000000          1.000000          1.000000  \n",
       "47735393       0.000000          1.000000          1.000000  \n",
       "47735394       0.000000          1.000000          1.000000  \n",
       "47735395       0.000000          1.000000          1.000000  \n",
       "47735396       0.000000          1.000000          1.000000  \n",
       "\n",
       "[47735397 rows x 14 columns]"
      ]
     },
     "execution_count": 33,
     "metadata": {},
     "output_type": "execute_result"
    }
   ],
   "source": [
    "sell_prices"
   ]
  },
  {
   "cell_type": "markdown",
   "metadata": {},
   "source": [
    "***\n",
    "## data wrangling"
   ]
  },
  {
   "cell_type": "code",
   "execution_count": 34,
   "metadata": {},
   "outputs": [],
   "source": [
    "data = pd.melt(sales_train, \n",
    "               id_vars=[\"ts_id\",\"item_id\",\"dept_id\",\"cat_id\",\"store_id\",\"state_id\"],\n",
    "               value_vars=[f\"d_{i}\" for i in range(1,1914)],\n",
    "               var_name=\"d\",\n",
    "               value_name=\"q\")"
   ]
  },
  {
   "cell_type": "code",
   "execution_count": 35,
   "metadata": {},
   "outputs": [],
   "source": [
    "calendar_columns = [\"date\", \"wm_yr_wk\", \"d\", \"snap_CA\", \"snap_TX\", \"snap_WI\",\n",
    "                    \"event_name_1\", \"event_type_1\", \"event_name_2\", \"event_type_2\"]\n",
    "data = pd.merge(data, \n",
    "                calendar.loc[:, calendar_columns],\n",
    "                how=\"left\",\n",
    "                on=\"d\")"
   ]
  },
  {
   "cell_type": "code",
   "execution_count": 36,
   "metadata": {},
   "outputs": [
    {
     "ename": "MemoryError",
     "evalue": "Unable to allocate 22.4 GiB for an array with shape (9, 334495112) and data type float64",
     "output_type": "error",
     "traceback": [
      "\u001b[0;31m\u001b[0m",
      "\u001b[0;31mMemoryError\u001b[0mTraceback (most recent call last)",
      "\u001b[0;32m<ipython-input-36-c3e94b65769c>\u001b[0m in \u001b[0;36m<module>\u001b[0;34m\u001b[0m\n\u001b[1;32m      1\u001b[0m data = pd.merge(data, sell_prices,\n\u001b[1;32m      2\u001b[0m                 \u001b[0mon\u001b[0m\u001b[0;34m=\u001b[0m\u001b[0;34m[\u001b[0m\u001b[0;34m\"store_id\"\u001b[0m\u001b[0;34m,\u001b[0m \u001b[0;34m\"item_id\"\u001b[0m\u001b[0;34m,\u001b[0m \u001b[0;34m\"wm_yr_wk\"\u001b[0m\u001b[0;34m]\u001b[0m\u001b[0;34m,\u001b[0m\u001b[0;34m\u001b[0m\u001b[0;34m\u001b[0m\u001b[0m\n\u001b[0;32m----> 3\u001b[0;31m                 how=\"left\")\n\u001b[0m",
      "\u001b[0;32m~/miniconda/lib/python3.7/site-packages/pandas/core/reshape/merge.py\u001b[0m in \u001b[0;36mmerge\u001b[0;34m(left, right, how, on, left_on, right_on, left_index, right_index, sort, suffixes, copy, indicator, validate)\u001b[0m\n\u001b[1;32m     86\u001b[0m         \u001b[0mvalidate\u001b[0m\u001b[0;34m=\u001b[0m\u001b[0mvalidate\u001b[0m\u001b[0;34m,\u001b[0m\u001b[0;34m\u001b[0m\u001b[0;34m\u001b[0m\u001b[0m\n\u001b[1;32m     87\u001b[0m     )\n\u001b[0;32m---> 88\u001b[0;31m     \u001b[0;32mreturn\u001b[0m \u001b[0mop\u001b[0m\u001b[0;34m.\u001b[0m\u001b[0mget_result\u001b[0m\u001b[0;34m(\u001b[0m\u001b[0;34m)\u001b[0m\u001b[0;34m\u001b[0m\u001b[0;34m\u001b[0m\u001b[0m\n\u001b[0m\u001b[1;32m     89\u001b[0m \u001b[0;34m\u001b[0m\u001b[0m\n\u001b[1;32m     90\u001b[0m \u001b[0;34m\u001b[0m\u001b[0m\n",
      "\u001b[0;32m~/miniconda/lib/python3.7/site-packages/pandas/core/reshape/merge.py\u001b[0m in \u001b[0;36mget_result\u001b[0;34m(self)\u001b[0m\n\u001b[1;32m    657\u001b[0m             \u001b[0maxes\u001b[0m\u001b[0;34m=\u001b[0m\u001b[0;34m[\u001b[0m\u001b[0mllabels\u001b[0m\u001b[0;34m.\u001b[0m\u001b[0mappend\u001b[0m\u001b[0;34m(\u001b[0m\u001b[0mrlabels\u001b[0m\u001b[0;34m)\u001b[0m\u001b[0;34m,\u001b[0m \u001b[0mjoin_index\u001b[0m\u001b[0;34m]\u001b[0m\u001b[0;34m,\u001b[0m\u001b[0;34m\u001b[0m\u001b[0;34m\u001b[0m\u001b[0m\n\u001b[1;32m    658\u001b[0m             \u001b[0mconcat_axis\u001b[0m\u001b[0;34m=\u001b[0m\u001b[0;36m0\u001b[0m\u001b[0;34m,\u001b[0m\u001b[0;34m\u001b[0m\u001b[0;34m\u001b[0m\u001b[0m\n\u001b[0;32m--> 659\u001b[0;31m             \u001b[0mcopy\u001b[0m\u001b[0;34m=\u001b[0m\u001b[0mself\u001b[0m\u001b[0;34m.\u001b[0m\u001b[0mcopy\u001b[0m\u001b[0;34m,\u001b[0m\u001b[0;34m\u001b[0m\u001b[0;34m\u001b[0m\u001b[0m\n\u001b[0m\u001b[1;32m    660\u001b[0m         )\n\u001b[1;32m    661\u001b[0m \u001b[0;34m\u001b[0m\u001b[0m\n",
      "\u001b[0;32m~/miniconda/lib/python3.7/site-packages/pandas/core/internals/managers.py\u001b[0m in \u001b[0;36mconcatenate_block_managers\u001b[0;34m(mgrs_indexers, axes, concat_axis, copy)\u001b[0m\n\u001b[1;32m   2020\u001b[0m         \u001b[0;32melse\u001b[0m\u001b[0;34m:\u001b[0m\u001b[0;34m\u001b[0m\u001b[0;34m\u001b[0m\u001b[0m\n\u001b[1;32m   2021\u001b[0m             b = make_block(\n\u001b[0;32m-> 2022\u001b[0;31m                 \u001b[0mconcatenate_join_units\u001b[0m\u001b[0;34m(\u001b[0m\u001b[0mjoin_units\u001b[0m\u001b[0;34m,\u001b[0m \u001b[0mconcat_axis\u001b[0m\u001b[0;34m,\u001b[0m \u001b[0mcopy\u001b[0m\u001b[0;34m=\u001b[0m\u001b[0mcopy\u001b[0m\u001b[0;34m)\u001b[0m\u001b[0;34m,\u001b[0m\u001b[0;34m\u001b[0m\u001b[0;34m\u001b[0m\u001b[0m\n\u001b[0m\u001b[1;32m   2023\u001b[0m                 \u001b[0mplacement\u001b[0m\u001b[0;34m=\u001b[0m\u001b[0mplacement\u001b[0m\u001b[0;34m,\u001b[0m\u001b[0;34m\u001b[0m\u001b[0;34m\u001b[0m\u001b[0m\n\u001b[1;32m   2024\u001b[0m             )\n",
      "\u001b[0;32m~/miniconda/lib/python3.7/site-packages/pandas/core/internals/concat.py\u001b[0m in \u001b[0;36mconcatenate_join_units\u001b[0;34m(join_units, concat_axis, copy)\u001b[0m\n\u001b[1;32m    246\u001b[0m     to_concat = [\n\u001b[1;32m    247\u001b[0m         \u001b[0mju\u001b[0m\u001b[0;34m.\u001b[0m\u001b[0mget_reindexed_values\u001b[0m\u001b[0;34m(\u001b[0m\u001b[0mempty_dtype\u001b[0m\u001b[0;34m=\u001b[0m\u001b[0mempty_dtype\u001b[0m\u001b[0;34m,\u001b[0m \u001b[0mupcasted_na\u001b[0m\u001b[0;34m=\u001b[0m\u001b[0mupcasted_na\u001b[0m\u001b[0;34m)\u001b[0m\u001b[0;34m\u001b[0m\u001b[0;34m\u001b[0m\u001b[0m\n\u001b[0;32m--> 248\u001b[0;31m         \u001b[0;32mfor\u001b[0m \u001b[0mju\u001b[0m \u001b[0;32min\u001b[0m \u001b[0mjoin_units\u001b[0m\u001b[0;34m\u001b[0m\u001b[0;34m\u001b[0m\u001b[0m\n\u001b[0m\u001b[1;32m    249\u001b[0m     ]\n\u001b[1;32m    250\u001b[0m \u001b[0;34m\u001b[0m\u001b[0m\n",
      "\u001b[0;32m~/miniconda/lib/python3.7/site-packages/pandas/core/internals/concat.py\u001b[0m in \u001b[0;36m<listcomp>\u001b[0;34m(.0)\u001b[0m\n\u001b[1;32m    246\u001b[0m     to_concat = [\n\u001b[1;32m    247\u001b[0m         \u001b[0mju\u001b[0m\u001b[0;34m.\u001b[0m\u001b[0mget_reindexed_values\u001b[0m\u001b[0;34m(\u001b[0m\u001b[0mempty_dtype\u001b[0m\u001b[0;34m=\u001b[0m\u001b[0mempty_dtype\u001b[0m\u001b[0;34m,\u001b[0m \u001b[0mupcasted_na\u001b[0m\u001b[0;34m=\u001b[0m\u001b[0mupcasted_na\u001b[0m\u001b[0;34m)\u001b[0m\u001b[0;34m\u001b[0m\u001b[0;34m\u001b[0m\u001b[0m\n\u001b[0;32m--> 248\u001b[0;31m         \u001b[0;32mfor\u001b[0m \u001b[0mju\u001b[0m \u001b[0;32min\u001b[0m \u001b[0mjoin_units\u001b[0m\u001b[0;34m\u001b[0m\u001b[0;34m\u001b[0m\u001b[0m\n\u001b[0m\u001b[1;32m    249\u001b[0m     ]\n\u001b[1;32m    250\u001b[0m \u001b[0;34m\u001b[0m\u001b[0m\n",
      "\u001b[0;32m~/miniconda/lib/python3.7/site-packages/pandas/core/internals/concat.py\u001b[0m in \u001b[0;36mget_reindexed_values\u001b[0;34m(self, empty_dtype, upcasted_na)\u001b[0m\n\u001b[1;32m    229\u001b[0m         \u001b[0;32melse\u001b[0m\u001b[0;34m:\u001b[0m\u001b[0;34m\u001b[0m\u001b[0;34m\u001b[0m\u001b[0m\n\u001b[1;32m    230\u001b[0m             \u001b[0;32mfor\u001b[0m \u001b[0max\u001b[0m\u001b[0;34m,\u001b[0m \u001b[0mindexer\u001b[0m \u001b[0;32min\u001b[0m \u001b[0mself\u001b[0m\u001b[0;34m.\u001b[0m\u001b[0mindexers\u001b[0m\u001b[0;34m.\u001b[0m\u001b[0mitems\u001b[0m\u001b[0;34m(\u001b[0m\u001b[0;34m)\u001b[0m\u001b[0;34m:\u001b[0m\u001b[0;34m\u001b[0m\u001b[0;34m\u001b[0m\u001b[0m\n\u001b[0;32m--> 231\u001b[0;31m                 \u001b[0mvalues\u001b[0m \u001b[0;34m=\u001b[0m \u001b[0malgos\u001b[0m\u001b[0;34m.\u001b[0m\u001b[0mtake_nd\u001b[0m\u001b[0;34m(\u001b[0m\u001b[0mvalues\u001b[0m\u001b[0;34m,\u001b[0m \u001b[0mindexer\u001b[0m\u001b[0;34m,\u001b[0m \u001b[0maxis\u001b[0m\u001b[0;34m=\u001b[0m\u001b[0max\u001b[0m\u001b[0;34m,\u001b[0m \u001b[0mfill_value\u001b[0m\u001b[0;34m=\u001b[0m\u001b[0mfill_value\u001b[0m\u001b[0;34m)\u001b[0m\u001b[0;34m\u001b[0m\u001b[0;34m\u001b[0m\u001b[0m\n\u001b[0m\u001b[1;32m    232\u001b[0m \u001b[0;34m\u001b[0m\u001b[0m\n\u001b[1;32m    233\u001b[0m         \u001b[0;32mreturn\u001b[0m \u001b[0mvalues\u001b[0m\u001b[0;34m\u001b[0m\u001b[0;34m\u001b[0m\u001b[0m\n",
      "\u001b[0;32m~/miniconda/lib/python3.7/site-packages/pandas/core/algorithms.py\u001b[0m in \u001b[0;36mtake_nd\u001b[0;34m(arr, indexer, axis, out, fill_value, allow_fill)\u001b[0m\n\u001b[1;32m   1655\u001b[0m             \u001b[0mout\u001b[0m \u001b[0;34m=\u001b[0m \u001b[0mnp\u001b[0m\u001b[0;34m.\u001b[0m\u001b[0mempty\u001b[0m\u001b[0;34m(\u001b[0m\u001b[0mout_shape\u001b[0m\u001b[0;34m,\u001b[0m \u001b[0mdtype\u001b[0m\u001b[0;34m=\u001b[0m\u001b[0mdtype\u001b[0m\u001b[0;34m,\u001b[0m \u001b[0morder\u001b[0m\u001b[0;34m=\u001b[0m\u001b[0;34m\"F\"\u001b[0m\u001b[0;34m)\u001b[0m\u001b[0;34m\u001b[0m\u001b[0;34m\u001b[0m\u001b[0m\n\u001b[1;32m   1656\u001b[0m         \u001b[0;32melse\u001b[0m\u001b[0;34m:\u001b[0m\u001b[0;34m\u001b[0m\u001b[0;34m\u001b[0m\u001b[0m\n\u001b[0;32m-> 1657\u001b[0;31m             \u001b[0mout\u001b[0m \u001b[0;34m=\u001b[0m \u001b[0mnp\u001b[0m\u001b[0;34m.\u001b[0m\u001b[0mempty\u001b[0m\u001b[0;34m(\u001b[0m\u001b[0mout_shape\u001b[0m\u001b[0;34m,\u001b[0m \u001b[0mdtype\u001b[0m\u001b[0;34m=\u001b[0m\u001b[0mdtype\u001b[0m\u001b[0;34m)\u001b[0m\u001b[0;34m\u001b[0m\u001b[0;34m\u001b[0m\u001b[0m\n\u001b[0m\u001b[1;32m   1658\u001b[0m \u001b[0;34m\u001b[0m\u001b[0m\n\u001b[1;32m   1659\u001b[0m     func = _get_take_nd_function(\n",
      "\u001b[0;31mMemoryError\u001b[0m: Unable to allocate 22.4 GiB for an array with shape (9, 334495112) and data type float64"
     ]
    }
   ],
   "source": [
    "data = pd.merge(data, sell_prices,\n",
    "                on=[\"store_id\", \"item_id\", \"wm_yr_wk\"],\n",
    "                how=\"left\")"
   ]
  },
  {
   "cell_type": "code",
   "execution_count": null,
   "metadata": {},
   "outputs": [],
   "source": [
    "data.rename({\"date\":\"ds\"}, axis=1, inplace=True)"
   ]
  },
  {
   "cell_type": "code",
   "execution_count": null,
   "metadata": {},
   "outputs": [],
   "source": [
    "data = (data\n",
    "        .merge(events_features, how=\"left\", on=[\"ds\"])\n",
    "        .merge(lw_features, how=\"left\", on=[\"ds\"]))"
   ]
  },
  {
   "cell_type": "code",
   "execution_count": null,
   "metadata": {},
   "outputs": [],
   "source": [
    "data.sort_values([\"item_id\",\"store_id\",\"ds\"], inplace=True, ignore_index=True)"
   ]
  },
  {
   "cell_type": "markdown",
   "metadata": {},
   "source": [
    "***\n",
    "## reduction of span features"
   ]
  },
  {
   "cell_type": "code",
   "execution_count": null,
   "metadata": {},
   "outputs": [],
   "source": [
    "data[\"snap\"] = 0\n",
    "\n",
    "idx_snap_ca = data.query(\"state_id==1 & snap_CA==1\").index\n",
    "data.loc[idx_snap_ca, \"snap\"] = 1\n",
    "\n",
    "idx_snap_tx = data.query(\"state_id==2 & snap_TX==1\").index\n",
    "data.loc[idx_snap_tx, \"snap\"] = 2\n",
    "\n",
    "idx_snap_wi = data.query(\"state_id==3 & snap_WI==1\").index\n",
    "data.loc[idx_snap_wi, \"snap\"] = 3"
   ]
  },
  {
   "cell_type": "code",
   "execution_count": null,
   "metadata": {},
   "outputs": [],
   "source": [
    "data.drop([\"snap_CA\", \"snap_TX\", \"snap_WI\"], axis=1, inplace=True)"
   ]
  },
  {
   "cell_type": "markdown",
   "metadata": {},
   "source": [
    "***\n",
    "## cleaning"
   ]
  },
  {
   "cell_type": "markdown",
   "metadata": {},
   "source": [
    "\n",
    "### removes zeros at the start of the time series"
   ]
  },
  {
   "cell_type": "code",
   "execution_count": null,
   "metadata": {},
   "outputs": [],
   "source": [
    "plt.figure(figsize=(15,5))\n",
    "sns.distplot(data.query(\"q <= 20\").q.values, kde=False)\n",
    "plt.grid()\n",
    "plt.show()"
   ]
  },
  {
   "cell_type": "code",
   "execution_count": null,
   "metadata": {},
   "outputs": [],
   "source": [
    "def remove_starting_zeros(dataframe):\n",
    "    idxmin = dataframe.query(\"q > 0\").index.min()\n",
    "    return dataframe.loc[idxmin:, :]"
   ]
  },
  {
   "cell_type": "code",
   "execution_count": null,
   "metadata": {},
   "outputs": [],
   "source": [
    "%%time\n",
    "data = (data\n",
    "        .groupby([\"item_id\",\"store_id\"])\n",
    "        .apply(remove_starting_zeros)\n",
    "        .reset_index(drop=True))"
   ]
  },
  {
   "cell_type": "code",
   "execution_count": null,
   "metadata": {},
   "outputs": [],
   "source": [
    "plt.figure(figsize=(15,5))\n",
    "sns.distplot(data.query(\"q <= 20\").q.values, kde=False)\n",
    "plt.grid()\n",
    "plt.show()"
   ]
  },
  {
   "cell_type": "markdown",
   "metadata": {},
   "source": [
    "***\n",
    "## out of stock patterns"
   ]
  },
  {
   "cell_type": "code",
   "execution_count": null,
   "metadata": {},
   "outputs": [],
   "source": [
    "def find_out_of_stock(df, threshold=28):\n",
    "    df = df.copy()\n",
    "    df[\"no_stock\"] = 0\n",
    "    zero_mask = (df.q == 0)\n",
    "    transition_mask = (zero_mask != zero_mask.shift(1))\n",
    "    zero_sequences = transition_mask.cumsum()[zero_mask]\n",
    "    idx = zero_sequences[zero_sequences.map(zero_sequences.value_counts()) >= threshold].index \n",
    "    df.loc[idx, \"no_stock\"] = 1\n",
    "    return df"
   ]
  },
  {
   "cell_type": "code",
   "execution_count": null,
   "metadata": {},
   "outputs": [],
   "source": [
    "%%time\n",
    "data = data.groupby([\"item_id\",\"store_id\"]).apply(find_out_of_stock, threshold=28)\n",
    "data.reset_index(drop=True, inplace=True)"
   ]
  },
  {
   "cell_type": "markdown",
   "metadata": {},
   "source": [
    "***"
   ]
  },
  {
   "cell_type": "code",
   "execution_count": null,
   "metadata": {},
   "outputs": [],
   "source": [
    "data = reduce_mem_usage(data)\n",
    "gc.collect()"
   ]
  },
  {
   "cell_type": "code",
   "execution_count": null,
   "metadata": {},
   "outputs": [],
   "source": [
    "data.drop([\"d\", \"wm_yr_wk\"], axis=1, inplace=True)"
   ]
  },
  {
   "cell_type": "markdown",
   "metadata": {},
   "source": [
    "***"
   ]
  },
  {
   "cell_type": "code",
   "execution_count": null,
   "metadata": {},
   "outputs": [],
   "source": [
    "# if the ts has no sales in the past 8 weeks, will be marked as out-of-stock for the prediction period.\n",
    "left_date = data.ds.max() - pd.DateOffset(days=56)\n",
    "no_sales_ts = (data\n",
    "               .query(\"ds >= @left_date\")\n",
    "               .groupby([\"ts_id\"])\n",
    "               .filter(lambda x: np.all(x.q==0))\n",
    "               .loc[:, [\"ts_id\"]]\n",
    "               .drop_duplicates()\n",
    "              )"
   ]
  },
  {
   "cell_type": "markdown",
   "metadata": {},
   "source": [
    "***\n",
    "## validation and evaluation dataframes"
   ]
  },
  {
   "cell_type": "code",
   "execution_count": null,
   "metadata": {},
   "outputs": [],
   "source": [
    "calendar_columns = [\"date\", \"wm_yr_wk\", \"snap_CA\", \"snap_TX\", \"snap_WI\",\n",
    "                    \"event_name_1\", \"event_type_1\", \"event_name_2\", \"event_type_2\"]\n",
    "\n",
    "valid_dataframe = (pd.concat([make_time_range(\"2016-04-25\", \"2016-05-22\", \"D\").assign(**row)\n",
    "                              for _,row in hierarchy.iterrows()], ignore_index=True)\n",
    "                   .merge(calendar.loc[:, calendar_columns],\n",
    "                          how=\"left\", left_on=\"ds\", right_on=\"date\")\n",
    "                   .merge(sell_prices, how=\"left\")\n",
    "                   .merge(events_features, how=\"left\", on=\"ds\")\n",
    "                   .merge(lw_features, how=\"left\", on=\"ds\")\n",
    "                   .drop([\"id\",\"date\",\"wm_yr_wk\"], axis=1)\n",
    "                  )"
   ]
  },
  {
   "cell_type": "code",
   "execution_count": null,
   "metadata": {},
   "outputs": [],
   "source": [
    "valid_dataframe[\"snap\"] = 0\n",
    "\n",
    "idx_snap_ca = valid_dataframe.query(\"state_id==1 & snap_CA==1\").index\n",
    "valid_dataframe.loc[idx_snap_ca, \"snap\"] = 1\n",
    "\n",
    "idx_snap_tx = valid_dataframe.query(\"state_id==2 & snap_TX==1\").index\n",
    "valid_dataframe.loc[idx_snap_tx, \"snap\"] = 2\n",
    "\n",
    "idx_snap_wi = valid_dataframe.query(\"state_id==3 & snap_WI==1\").index\n",
    "valid_dataframe.loc[idx_snap_wi, \"snap\"] = 3\n",
    "\n",
    "valid_dataframe.drop([\"snap_CA\", \"snap_TX\", \"snap_WI\"], axis=1, inplace=True)"
   ]
  },
  {
   "cell_type": "code",
   "execution_count": null,
   "metadata": {},
   "outputs": [],
   "source": [
    "valid_dataframe[\"no_stock\"] = 0\n",
    "idx = valid_dataframe.query(\"ts_id in @no_sales_ts.ts_id\").index\n",
    "valid_dataframe.loc[idx, \"no_stock\"] = 1"
   ]
  },
  {
   "cell_type": "code",
   "execution_count": null,
   "metadata": {},
   "outputs": [],
   "source": [
    "valid_dataframe = reduce_mem_usage(valid_dataframe)"
   ]
  },
  {
   "cell_type": "markdown",
   "metadata": {},
   "source": [
    "***"
   ]
  },
  {
   "cell_type": "code",
   "execution_count": null,
   "metadata": {},
   "outputs": [],
   "source": [
    "calendar_columns = [\"date\", \"wm_yr_wk\", \"snap_CA\", \"snap_TX\", \"snap_WI\",\n",
    "                    \"event_name_1\", \"event_type_1\", \"event_name_2\", \"event_type_2\"]\n",
    "\n",
    "eval_dataframe = (pd.concat([make_time_range(\"2016-05-23\", \"2016-06-19\", \"D\").assign(**row)\n",
    "                             for _,row in hierarchy.iterrows()], ignore_index=True)\n",
    "                  .merge(calendar.loc[:, calendar_columns],\n",
    "                         how=\"left\", left_on=\"ds\", right_on=\"date\")\n",
    "                  .merge(sell_prices, how=\"left\")\n",
    "                  .merge(events_features, how=\"left\", on=\"ds\")\n",
    "                  .merge(lw_features, how=\"left\", on=\"ds\")\n",
    "                  .drop([\"id\",\"date\",\"wm_yr_wk\"], axis=1)\n",
    "                 )"
   ]
  },
  {
   "cell_type": "code",
   "execution_count": null,
   "metadata": {},
   "outputs": [],
   "source": [
    "eval_dataframe[\"snap\"] = 0\n",
    "\n",
    "idx_snap_ca = eval_dataframe.query(\"state_id==1 & snap_CA==1\").index\n",
    "eval_dataframe.loc[idx_snap_ca, \"snap\"] = 1\n",
    "\n",
    "idx_snap_tx = eval_dataframe.query(\"state_id==2 & snap_TX==1\").index\n",
    "eval_dataframe.loc[idx_snap_tx, \"snap\"] = 2\n",
    "\n",
    "idx_snap_wi = eval_dataframe.query(\"state_id==3 & snap_WI==1\").index\n",
    "eval_dataframe.loc[idx_snap_wi, \"snap\"] = 3\n",
    "\n",
    "eval_dataframe.drop([\"snap_CA\", \"snap_TX\", \"snap_WI\"], axis=1, inplace=True)"
   ]
  },
  {
   "cell_type": "code",
   "execution_count": null,
   "metadata": {},
   "outputs": [],
   "source": [
    "eval_dataframe[\"no_stock\"] = 0\n",
    "idx = eval_dataframe.query(\"ts_id in @no_sales_ts.ts_id\").index\n",
    "eval_dataframe.loc[idx, \"no_stock\"] = 1"
   ]
  },
  {
   "cell_type": "code",
   "execution_count": null,
   "metadata": {},
   "outputs": [],
   "source": [
    "eval_dataframe = reduce_mem_usage(eval_dataframe)"
   ]
  },
  {
   "cell_type": "markdown",
   "metadata": {},
   "source": [
    "***\n",
    "### Saving the dataframes"
   ]
  },
  {
   "cell_type": "code",
   "execution_count": null,
   "metadata": {},
   "outputs": [],
   "source": [
    "# training data\n",
    "(data\n",
    " .to_parquet(\"../input/train_dataframe.parquet\", index=False)\n",
    ")"
   ]
  },
  {
   "cell_type": "code",
   "execution_count": null,
   "metadata": {},
   "outputs": [],
   "source": [
    "# validation data\n",
    "(valid_dataframe\n",
    " .to_parquet(\"../input/valid_dataframe.parquet\", index=False)\n",
    ")"
   ]
  },
  {
   "cell_type": "code",
   "execution_count": null,
   "metadata": {},
   "outputs": [],
   "source": [
    "# evaluation data\n",
    "(eval_dataframe\n",
    " .to_parquet(\"../input/eval_dataframe.parquet\", index=False)\n",
    ")"
   ]
  },
  {
   "cell_type": "markdown",
   "metadata": {},
   "source": [
    "***"
   ]
  }
 ],
 "metadata": {
  "kernelspec": {
   "display_name": "Python 3",
   "language": "python",
   "name": "python3"
  },
  "language_info": {
   "codemirror_mode": {
    "name": "ipython",
    "version": 3
   },
   "file_extension": ".py",
   "mimetype": "text/x-python",
   "name": "python",
   "nbconvert_exporter": "python",
   "pygments_lexer": "ipython3",
   "version": "3.7.6"
  }
 },
 "nbformat": 4,
 "nbformat_minor": 4
}

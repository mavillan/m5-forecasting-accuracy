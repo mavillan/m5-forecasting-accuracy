{
 "cells": [
  {
   "cell_type": "code",
   "execution_count": 1,
   "metadata": {},
   "outputs": [
    {
     "name": "stderr",
     "output_type": "stream",
     "text": [
      "/home/turing/miniconda/lib/python3.7/site-packages/statsmodels/tools/_testing.py:19: FutureWarning: pandas.util.testing is deprecated. Use the functions in the public API at pandas.testing instead.\n",
      "  import pandas.util.testing as tm\n"
     ]
    }
   ],
   "source": [
    "import gc\n",
    "import pickle\n",
    "import numpy as np \n",
    "import pandas as pd \n",
    "from category_encoders.ordinal import OrdinalEncoder\n",
    "import matplotlib.pyplot as plt\n",
    "from tsforest.utils import make_time_range\n",
    "\n",
    "import matplotlib.pyplot as plt\n",
    "import seaborn as sns\n",
    "\n",
    "# local modules\n",
    "import sys\n",
    "sys.path.append(\"../lib/\")\n",
    "from utils import compute_scaling, reduce_mem_usage"
   ]
  },
  {
   "cell_type": "markdown",
   "metadata": {},
   "source": [
    "***\n",
    "## data loading"
   ]
  },
  {
   "cell_type": "code",
   "execution_count": 2,
   "metadata": {},
   "outputs": [
    {
     "name": "stdout",
     "output_type": "stream",
     "text": [
      "<class 'pandas.core.frame.DataFrame'>\n",
      "RangeIndex: 30490 entries, 0 to 30489\n",
      "Columns: 1919 entries, id to d_1913\n",
      "dtypes: int64(1913), object(6)\n",
      "memory usage: 446.4+ MB\n"
     ]
    }
   ],
   "source": [
    "sales_train = pd.read_csv(\"../input/sales_train_validation.csv\")\n",
    "sales_train.info()"
   ]
  },
  {
   "cell_type": "code",
   "execution_count": 3,
   "metadata": {},
   "outputs": [
    {
     "name": "stdout",
     "output_type": "stream",
     "text": [
      "<class 'pandas.core.frame.DataFrame'>\n",
      "RangeIndex: 1969 entries, 0 to 1968\n",
      "Data columns (total 14 columns):\n",
      " #   Column        Non-Null Count  Dtype         \n",
      "---  ------        --------------  -----         \n",
      " 0   date          1969 non-null   datetime64[ns]\n",
      " 1   wm_yr_wk      1969 non-null   int64         \n",
      " 2   weekday       1969 non-null   object        \n",
      " 3   wday          1969 non-null   int64         \n",
      " 4   month         1969 non-null   int64         \n",
      " 5   year          1969 non-null   int64         \n",
      " 6   d             1969 non-null   object        \n",
      " 7   event_name_1  162 non-null    object        \n",
      " 8   event_type_1  162 non-null    object        \n",
      " 9   event_name_2  5 non-null      object        \n",
      " 10  event_type_2  5 non-null      object        \n",
      " 11  snap_CA       1969 non-null   int64         \n",
      " 12  snap_TX       1969 non-null   int64         \n",
      " 13  snap_WI       1969 non-null   int64         \n",
      "dtypes: datetime64[ns](1), int64(7), object(6)\n",
      "memory usage: 215.5+ KB\n"
     ]
    }
   ],
   "source": [
    "calendar = pd.read_csv(\"../input/calendar.csv\", parse_dates=[\"date\"])\n",
    "calendar.info()"
   ]
  },
  {
   "cell_type": "code",
   "execution_count": 4,
   "metadata": {},
   "outputs": [
    {
     "name": "stdout",
     "output_type": "stream",
     "text": [
      "<class 'pandas.core.frame.DataFrame'>\n",
      "RangeIndex: 6841121 entries, 0 to 6841120\n",
      "Data columns (total 4 columns):\n",
      " #   Column      Dtype  \n",
      "---  ------      -----  \n",
      " 0   store_id    object \n",
      " 1   item_id     object \n",
      " 2   wm_yr_wk    int64  \n",
      " 3   sell_price  float64\n",
      "dtypes: float64(1), int64(1), object(2)\n",
      "memory usage: 208.8+ MB\n"
     ]
    }
   ],
   "source": [
    "sell_prices = pd.read_csv(\"../input/sell_prices.csv\")\n",
    "sell_prices.info()"
   ]
  },
  {
   "cell_type": "markdown",
   "metadata": {},
   "source": [
    "***\n",
    "## hierarchy"
   ]
  },
  {
   "cell_type": "code",
   "execution_count": 5,
   "metadata": {},
   "outputs": [],
   "source": [
    "sales_train[\"id\"] = sales_train.id.map(lambda x: x.replace(\"_validation\", \"\"))\n",
    "hierarchy = (sales_train.loc[:, [\"id\", \"item_id\", \"dept_id\", \"cat_id\", \"store_id\", \"state_id\"]]\n",
    "             .drop_duplicates())\n",
    "encoders = dict()"
   ]
  },
  {
   "cell_type": "code",
   "execution_count": 6,
   "metadata": {},
   "outputs": [
    {
     "name": "stderr",
     "output_type": "stream",
     "text": [
      "/home/turing/miniconda/lib/python3.7/site-packages/fastparquet/dataframe.py:5: FutureWarning: pandas.core.index is deprecated and will be removed in a future version.  The public classes are available in the top-level namespace.\n",
      "  from pandas.core.index import CategoricalIndex, RangeIndex, Index, MultiIndex\n"
     ]
    }
   ],
   "source": [
    "hierarchy.to_parquet(\"../input/hierarchy_raw.parquet\", index=False)"
   ]
  },
  {
   "cell_type": "code",
   "execution_count": 7,
   "metadata": {},
   "outputs": [],
   "source": [
    "# hierarchy encoder\n",
    "id_encoder = OrdinalEncoder()\n",
    "id_encoder.fit(hierarchy.loc[:, [\"id\"]])\n",
    "hierarchy[\"ts_id\"]  = id_encoder.transform(hierarchy.loc[:, [\"id\"]])\n",
    "encoders[\"id\"] = id_encoder\n",
    "\n",
    "item_encoder = OrdinalEncoder()\n",
    "item_encoder.fit(hierarchy.loc[:, [\"item_id\"]])\n",
    "hierarchy.loc[:, \"item_id\"]  = item_encoder.transform(hierarchy.loc[:, [\"item_id\"]])\n",
    "encoders[\"item\"] = item_encoder\n",
    "\n",
    "dept_encoder = OrdinalEncoder()\n",
    "dept_encoder.fit(hierarchy.loc[:, [\"dept_id\"]])\n",
    "hierarchy.loc[:, \"dept_id\"]  = dept_encoder.transform(hierarchy.loc[:, [\"dept_id\"]])\n",
    "encoders[\"dept\"] = dept_encoder\n",
    "\n",
    "cat_encoder = OrdinalEncoder()\n",
    "cat_encoder.fit(hierarchy.loc[:, [\"cat_id\"]])\n",
    "hierarchy.loc[:, \"cat_id\"]   = cat_encoder.transform(hierarchy.loc[:, [\"cat_id\"]])\n",
    "encoders[\"cat\"] = cat_encoder\n",
    "\n",
    "store_encoder = OrdinalEncoder()\n",
    "store_encoder.fit(hierarchy.loc[:, [\"store_id\"]])\n",
    "hierarchy.loc[:, \"store_id\"] = store_encoder.transform(hierarchy.loc[:, [\"store_id\"]])\n",
    "encoders[\"store\"] = store_encoder\n",
    "\n",
    "state_encoder = OrdinalEncoder()\n",
    "state_encoder.fit(hierarchy.loc[:, [\"state_id\"]])\n",
    "hierarchy.loc[:, \"state_id\"] = state_encoder.transform(hierarchy.loc[:, [\"state_id\"]])\n",
    "encoders[\"state\"] = state_encoder"
   ]
  },
  {
   "cell_type": "code",
   "execution_count": 8,
   "metadata": {},
   "outputs": [],
   "source": [
    "hierarchy.to_parquet(\"../input/hierarchy.parquet\", index=False)"
   ]
  },
  {
   "cell_type": "code",
   "execution_count": 9,
   "metadata": {},
   "outputs": [],
   "source": [
    "outfile = open(\"../input/encoders.pkl\", \"wb\")\n",
    "pickle.dump(encoders, outfile)\n",
    "outfile.close()"
   ]
  },
  {
   "cell_type": "markdown",
   "metadata": {},
   "source": [
    "***\n",
    "## calendar events encoding"
   ]
  },
  {
   "cell_type": "code",
   "execution_count": 10,
   "metadata": {},
   "outputs": [],
   "source": [
    "event_name_1_encoder = OrdinalEncoder()\n",
    "event_name_1_encoder.fit(calendar.loc[:, [\"event_name_1\"]])\n",
    "calendar.loc[:, \"event_name_1\"] = event_name_1_encoder.transform(calendar.loc[:, [\"event_name_1\"]])"
   ]
  },
  {
   "cell_type": "code",
   "execution_count": 11,
   "metadata": {},
   "outputs": [],
   "source": [
    "event_type_1_encoder = OrdinalEncoder()\n",
    "event_type_1_encoder.fit(calendar.loc[:, [\"event_type_1\"]])\n",
    "calendar.loc[:, \"event_type_1\"] = event_type_1_encoder.transform(calendar.loc[:, [\"event_type_1\"]])"
   ]
  },
  {
   "cell_type": "code",
   "execution_count": 12,
   "metadata": {},
   "outputs": [],
   "source": [
    "event_name_2_encoder = OrdinalEncoder()\n",
    "event_name_2_encoder.fit(calendar.loc[:, [\"event_name_2\"]])\n",
    "calendar.loc[:, \"event_name_2\"] = event_name_2_encoder.transform(calendar.loc[:, [\"event_name_2\"]])"
   ]
  },
  {
   "cell_type": "code",
   "execution_count": 13,
   "metadata": {},
   "outputs": [],
   "source": [
    "event_type_2_encoder = OrdinalEncoder()\n",
    "event_type_2_encoder.fit(calendar.loc[:, [\"event_type_2\"]])\n",
    "calendar.loc[:, \"event_type_2\"] = event_type_2_encoder.transform(calendar.loc[:, [\"event_type_2\"]])"
   ]
  },
  {
   "cell_type": "markdown",
   "metadata": {},
   "source": [
    "***\n",
    "## categorical encoding"
   ]
  },
  {
   "cell_type": "code",
   "execution_count": 14,
   "metadata": {},
   "outputs": [],
   "source": [
    "sales_train[\"ts_id\"] = id_encoder.transform(sales_train.loc[:, [\"id\"]])\n",
    "sales_train.loc[:, \"item_id\"]  = item_encoder.transform(sales_train.loc[:, [\"item_id\"]])\n",
    "sales_train.loc[:, \"dept_id\"]  = dept_encoder.transform(sales_train.loc[:, [\"dept_id\"]])\n",
    "sales_train.loc[:, \"cat_id\"]   = cat_encoder.transform(sales_train.loc[:, [\"cat_id\"]])\n",
    "sales_train.loc[:, \"store_id\"] = store_encoder.transform(sales_train.loc[:, [\"store_id\"]])\n",
    "sales_train.loc[:, \"state_id\"] = state_encoder.transform(sales_train.loc[:, [\"state_id\"]])"
   ]
  },
  {
   "cell_type": "code",
   "execution_count": 15,
   "metadata": {},
   "outputs": [],
   "source": [
    "sell_prices.loc[:, \"store_id\"] = store_encoder.transform(sell_prices.loc[:, [\"store_id\"]])\n",
    "sell_prices.loc[:, \"item_id\"]  = item_encoder.transform(sell_prices.loc[:, [\"item_id\"]]) "
   ]
  },
  {
   "cell_type": "markdown",
   "metadata": {},
   "source": [
    "***\n",
    "## building price features"
   ]
  },
  {
   "cell_type": "code",
   "execution_count": 16,
   "metadata": {},
   "outputs": [],
   "source": [
    "number_prices = (sell_prices\n",
    "                 .groupby([\"store_id\", \"item_id\"])[\"sell_price\"]\n",
    "                 .apply(lambda x: len(np.unique(x)))\n",
    "                 .reset_index(name=\"n_prices\")\n",
    "                )"
   ]
  },
  {
   "cell_type": "code",
   "execution_count": 17,
   "metadata": {},
   "outputs": [
    {
     "data": {
      "text/plain": [
       "count    30490.000000\n",
       "mean         2.769367\n",
       "std          1.893627\n",
       "min          1.000000\n",
       "25%          1.000000\n",
       "50%          2.000000\n",
       "75%          4.000000\n",
       "max         21.000000\n",
       "Name: n_prices, dtype: float64"
      ]
     },
     "execution_count": 17,
     "metadata": {},
     "output_type": "execute_result"
    }
   ],
   "source": [
    "number_prices.n_prices.describe()"
   ]
  },
  {
   "cell_type": "code",
   "execution_count": 18,
   "metadata": {},
   "outputs": [
    {
     "data": {
      "text/plain": [
       "282"
      ]
     },
     "execution_count": 18,
     "metadata": {},
     "output_type": "execute_result"
    }
   ],
   "source": [
    "sell_prices.wm_yr_wk.nunique()"
   ]
  },
  {
   "cell_type": "markdown",
   "metadata": {},
   "source": [
    "La mayoría de item-stores no tiene más de 4 precios diferentes, y el 50% no tiene más de 2 precios. El que más tiene, tiene 21 precios sobre un rango de 282 semanas."
   ]
  },
  {
   "cell_type": "code",
   "execution_count": 19,
   "metadata": {},
   "outputs": [
    {
     "data": {
      "text/plain": [
       "8.26    141\n",
       "8.38     11\n",
       "9.58      2\n",
       "Name: sell_price, dtype: int64"
      ]
     },
     "execution_count": 19,
     "metadata": {},
     "output_type": "execute_result"
    }
   ],
   "source": [
    "sell_prices.query(\"item_id == 1 & store_id == 1\").sell_price.value_counts()"
   ]
  },
  {
   "cell_type": "code",
   "execution_count": 20,
   "metadata": {},
   "outputs": [],
   "source": [
    "regular_prices = (\n",
    "    sell_prices\n",
    "    .groupby([\"store_id\", \"item_id\"])[\"sell_price\"]\n",
    "    .apply(lambda x: x.value_counts().index[0])\n",
    "    .reset_index(name=\"regular_price\")\n",
    ")"
   ]
  },
  {
   "cell_type": "code",
   "execution_count": 21,
   "metadata": {},
   "outputs": [],
   "source": [
    "sell_prices = (\n",
    "    sell_prices\n",
    "    .merge(regular_prices, how=\"left\")\n",
    "    .assign(discount = lambda x: x.regular_price - x.sell_price)\n",
    "    .assign(discount_porc = lambda x: (x.regular_price - x.sell_price)/x.sell_price)\n",
    ")"
   ]
  },
  {
   "cell_type": "code",
   "execution_count": 22,
   "metadata": {},
   "outputs": [
    {
     "data": {
      "text/html": [
       "<div>\n",
       "<style scoped>\n",
       "    .dataframe tbody tr th:only-of-type {\n",
       "        vertical-align: middle;\n",
       "    }\n",
       "\n",
       "    .dataframe tbody tr th {\n",
       "        vertical-align: top;\n",
       "    }\n",
       "\n",
       "    .dataframe thead th {\n",
       "        text-align: right;\n",
       "    }\n",
       "</style>\n",
       "<table border=\"1\" class=\"dataframe\">\n",
       "  <thead>\n",
       "    <tr style=\"text-align: right;\">\n",
       "      <th></th>\n",
       "      <th>store_id</th>\n",
       "      <th>item_id</th>\n",
       "      <th>wm_yr_wk</th>\n",
       "      <th>sell_price</th>\n",
       "      <th>regular_price</th>\n",
       "      <th>discount</th>\n",
       "      <th>discount_porc</th>\n",
       "    </tr>\n",
       "  </thead>\n",
       "  <tbody>\n",
       "    <tr>\n",
       "      <th>0</th>\n",
       "      <td>1</td>\n",
       "      <td>1</td>\n",
       "      <td>11325</td>\n",
       "      <td>9.58</td>\n",
       "      <td>8.26</td>\n",
       "      <td>-1.32</td>\n",
       "      <td>-0.137787</td>\n",
       "    </tr>\n",
       "    <tr>\n",
       "      <th>1</th>\n",
       "      <td>1</td>\n",
       "      <td>1</td>\n",
       "      <td>11326</td>\n",
       "      <td>9.58</td>\n",
       "      <td>8.26</td>\n",
       "      <td>-1.32</td>\n",
       "      <td>-0.137787</td>\n",
       "    </tr>\n",
       "    <tr>\n",
       "      <th>2</th>\n",
       "      <td>1</td>\n",
       "      <td>1</td>\n",
       "      <td>11327</td>\n",
       "      <td>8.26</td>\n",
       "      <td>8.26</td>\n",
       "      <td>0.00</td>\n",
       "      <td>0.000000</td>\n",
       "    </tr>\n",
       "    <tr>\n",
       "      <th>3</th>\n",
       "      <td>1</td>\n",
       "      <td>1</td>\n",
       "      <td>11328</td>\n",
       "      <td>8.26</td>\n",
       "      <td>8.26</td>\n",
       "      <td>0.00</td>\n",
       "      <td>0.000000</td>\n",
       "    </tr>\n",
       "    <tr>\n",
       "      <th>4</th>\n",
       "      <td>1</td>\n",
       "      <td>1</td>\n",
       "      <td>11329</td>\n",
       "      <td>8.26</td>\n",
       "      <td>8.26</td>\n",
       "      <td>0.00</td>\n",
       "      <td>0.000000</td>\n",
       "    </tr>\n",
       "  </tbody>\n",
       "</table>\n",
       "</div>"
      ],
      "text/plain": [
       "   store_id  item_id  wm_yr_wk  sell_price  regular_price  discount  \\\n",
       "0         1        1     11325        9.58           8.26     -1.32   \n",
       "1         1        1     11326        9.58           8.26     -1.32   \n",
       "2         1        1     11327        8.26           8.26      0.00   \n",
       "3         1        1     11328        8.26           8.26      0.00   \n",
       "4         1        1     11329        8.26           8.26      0.00   \n",
       "\n",
       "   discount_porc  \n",
       "0      -0.137787  \n",
       "1      -0.137787  \n",
       "2       0.000000  \n",
       "3       0.000000  \n",
       "4       0.000000  "
      ]
     },
     "execution_count": 22,
     "metadata": {},
     "output_type": "execute_result"
    }
   ],
   "source": [
    "sell_prices.head()"
   ]
  },
  {
   "cell_type": "markdown",
   "metadata": {},
   "source": [
    "***\n",
    "## data wrangling"
   ]
  },
  {
   "cell_type": "code",
   "execution_count": 23,
   "metadata": {},
   "outputs": [],
   "source": [
    "data = pd.melt(sales_train, \n",
    "               id_vars=[\"ts_id\",\"item_id\",\"dept_id\",\"cat_id\",\"store_id\",\"state_id\"],\n",
    "               value_vars=[f\"d_{i}\" for i in range(1,1914)],\n",
    "               var_name=\"d\",\n",
    "               value_name=\"q\")"
   ]
  },
  {
   "cell_type": "code",
   "execution_count": 24,
   "metadata": {},
   "outputs": [],
   "source": [
    "calendar_columns = [\"date\", \"wm_yr_wk\", \"d\", \"snap_CA\", \"snap_TX\", \"snap_WI\",\n",
    "                    \"event_name_1\", \"event_type_1\", \"event_name_2\", \"event_type_2\"]\n",
    "\n",
    "data = pd.merge(data, \n",
    "                calendar.loc[:, calendar_columns],\n",
    "                how=\"left\",\n",
    "                on=\"d\")"
   ]
  },
  {
   "cell_type": "code",
   "execution_count": 26,
   "metadata": {},
   "outputs": [],
   "source": [
    "data = pd.merge(data, sell_prices,\n",
    "                on=[\"store_id\", \"item_id\", \"wm_yr_wk\"],\n",
    "                how=\"left\")"
   ]
  },
  {
   "cell_type": "code",
   "execution_count": 27,
   "metadata": {},
   "outputs": [],
   "source": [
    "data.sort_values([\"item_id\",\"store_id\",\"date\"], inplace=True, ignore_index=True)"
   ]
  },
  {
   "cell_type": "markdown",
   "metadata": {},
   "source": [
    "***\n",
    "## out of stock patterns"
   ]
  },
  {
   "cell_type": "code",
   "execution_count": 28,
   "metadata": {},
   "outputs": [],
   "source": [
    "def find_out_of_stock(df, threshold=28):\n",
    "    df = df.copy()\n",
    "    df[\"outofstock\"] = 0\n",
    "    zero_mask = (df.q == 0)\n",
    "    transition_mask = (zero_mask != zero_mask.shift(1))\n",
    "    zero_sequences = transition_mask.cumsum()[zero_mask]\n",
    "    idx = zero_sequences[zero_sequences.map(zero_sequences.value_counts()) >= threshold].index \n",
    "    df.loc[idx, \"outofstock\"] = 1\n",
    "    return df"
   ]
  },
  {
   "cell_type": "code",
   "execution_count": 29,
   "metadata": {},
   "outputs": [
    {
     "name": "stdout",
     "output_type": "stream",
     "text": [
      "<class 'pandas.core.frame.DataFrame'>\n",
      "RangeIndex: 58327370 entries, 0 to 58327369\n",
      "Data columns (total 21 columns):\n",
      " #   Column         Dtype         \n",
      "---  ------         -----         \n",
      " 0   ts_id          int64         \n",
      " 1   item_id        int64         \n",
      " 2   dept_id        int64         \n",
      " 3   cat_id         int64         \n",
      " 4   store_id       int64         \n",
      " 5   state_id       int64         \n",
      " 6   d              object        \n",
      " 7   q              int64         \n",
      " 8   date           datetime64[ns]\n",
      " 9   wm_yr_wk       int64         \n",
      " 10  snap_CA        int64         \n",
      " 11  snap_TX        int64         \n",
      " 12  snap_WI        int64         \n",
      " 13  event_name_1   int64         \n",
      " 14  event_type_1   int64         \n",
      " 15  event_name_2   int64         \n",
      " 16  event_type_2   int64         \n",
      " 17  sell_price     float64       \n",
      " 18  regular_price  float64       \n",
      " 19  discount       float64       \n",
      " 20  discount_porc  float64       \n",
      "dtypes: datetime64[ns](1), float64(4), int64(15), object(1)\n",
      "memory usage: 9.1+ GB\n"
     ]
    }
   ],
   "source": [
    "data.info()"
   ]
  },
  {
   "cell_type": "code",
   "execution_count": 30,
   "metadata": {},
   "outputs": [
    {
     "name": "stdout",
     "output_type": "stream",
     "text": [
      "CPU times: user 5min 2s, sys: 1min, total: 6min 3s\n",
      "Wall time: 6min 2s\n"
     ]
    }
   ],
   "source": [
    "%%time\n",
    "data = data.groupby([\"item_id\",\"store_id\"]).apply(find_out_of_stock)\n",
    "data.reset_index(drop=True, inplace=True)"
   ]
  },
  {
   "cell_type": "markdown",
   "metadata": {},
   "source": [
    "***\n",
    "## reduction of span features"
   ]
  },
  {
   "cell_type": "code",
   "execution_count": 36,
   "metadata": {},
   "outputs": [
    {
     "data": {
      "text/plain": [
       "CA     1\n",
       "TX     2\n",
       "WI     3\n",
       "NaN   -2\n",
       "dtype: int64"
      ]
     },
     "execution_count": 36,
     "metadata": {},
     "output_type": "execute_result"
    }
   ],
   "source": [
    "state_encoder.mapping[0][\"mapping\"]"
   ]
  },
  {
   "cell_type": "code",
   "execution_count": 37,
   "metadata": {},
   "outputs": [],
   "source": [
    "data[\"snap\"] = 0\n",
    "\n",
    "idx_snap_ca = data.query(\"state_id==1 & snap_CA==1\").index\n",
    "data.loc[idx_snap_ca, \"snap\"] = 1\n",
    "\n",
    "idx_snap_tx = data.query(\"state_id==2 & snap_TX==1\").index\n",
    "data.loc[idx_snap_tx, \"snap\"] = 2\n",
    "\n",
    "idx_snap_wi = data.query(\"state_id==3 & snap_WI==1\").index\n",
    "data.loc[idx_snap_wi, \"snap\"] = 3"
   ]
  },
  {
   "cell_type": "code",
   "execution_count": 38,
   "metadata": {},
   "outputs": [],
   "source": [
    "data.drop([\"snap_CA\", \"snap_TX\", \"snap_WI\"], axis=1, inplace=True)"
   ]
  },
  {
   "cell_type": "markdown",
   "metadata": {},
   "source": [
    "***"
   ]
  },
  {
   "cell_type": "code",
   "execution_count": 39,
   "metadata": {},
   "outputs": [
    {
     "data": {
      "text/plain": [
       "47"
      ]
     },
     "execution_count": 39,
     "metadata": {},
     "output_type": "execute_result"
    }
   ],
   "source": [
    "data = reduce_mem_usage(data)\n",
    "gc.collect()"
   ]
  },
  {
   "cell_type": "code",
   "execution_count": 40,
   "metadata": {},
   "outputs": [
    {
     "name": "stdout",
     "output_type": "stream",
     "text": [
      "<class 'pandas.core.frame.DataFrame'>\n",
      "RangeIndex: 58327370 entries, 0 to 58327369\n",
      "Data columns (total 20 columns):\n",
      " #   Column         Dtype         \n",
      "---  ------         -----         \n",
      " 0   ts_id          int16         \n",
      " 1   item_id        int16         \n",
      " 2   dept_id        int8          \n",
      " 3   cat_id         int8          \n",
      " 4   store_id       int8          \n",
      " 5   state_id       int8          \n",
      " 6   d              object        \n",
      " 7   q              int16         \n",
      " 8   date           datetime64[ns]\n",
      " 9   wm_yr_wk       int16         \n",
      " 10  event_name_1   int8          \n",
      " 11  event_type_1   int8          \n",
      " 12  event_name_2   int8          \n",
      " 13  event_type_2   int8          \n",
      " 14  sell_price     float32       \n",
      " 15  regular_price  float32       \n",
      " 16  discount       float32       \n",
      " 17  discount_porc  float32       \n",
      " 18  outofstock     int8          \n",
      " 19  snap           int8          \n",
      "dtypes: datetime64[ns](1), float32(4), int16(4), int8(10), object(1)\n",
      "memory usage: 2.7+ GB\n"
     ]
    }
   ],
   "source": [
    "data.info()"
   ]
  },
  {
   "cell_type": "code",
   "execution_count": 41,
   "metadata": {},
   "outputs": [
    {
     "data": {
      "text/plain": [
       "ts_id                   0\n",
       "item_id                 0\n",
       "dept_id                 0\n",
       "cat_id                  0\n",
       "store_id                0\n",
       "state_id                0\n",
       "d                       0\n",
       "q                       0\n",
       "date                    0\n",
       "wm_yr_wk                0\n",
       "event_name_1            0\n",
       "event_type_1            0\n",
       "event_name_2            0\n",
       "event_type_2            0\n",
       "sell_price       12299413\n",
       "regular_price    12299413\n",
       "discount         12299413\n",
       "discount_porc    12299413\n",
       "outofstock              0\n",
       "snap                    0\n",
       "dtype: int64"
      ]
     },
     "execution_count": 41,
     "metadata": {},
     "output_type": "execute_result"
    }
   ],
   "source": [
    "data.isnull().sum(axis=0)"
   ]
  },
  {
   "cell_type": "markdown",
   "metadata": {},
   "source": [
    "***\n",
    "## cleaning"
   ]
  },
  {
   "cell_type": "markdown",
   "metadata": {},
   "source": [
    "\n",
    "### removes zeros at the start of the time series"
   ]
  },
  {
   "cell_type": "code",
   "execution_count": 42,
   "metadata": {},
   "outputs": [
    {
     "data": {
      "image/png": "[encoded data removed]",
      "text/plain": [
       "<Figure size 1080x360 with 1 Axes>"
      ]
     },
     "metadata": {
      "needs_background": "light"
     },
     "output_type": "display_data"
    }
   ],
   "source": [
    "plt.figure(figsize=(15,5))\n",
    "sns.distplot(data.query(\"q <= 20\").q.values, kde=False)\n",
    "plt.grid()\n",
    "plt.show()"
   ]
  },
  {
   "cell_type": "code",
   "execution_count": 43,
   "metadata": {},
   "outputs": [],
   "source": [
    "def remove_starting_zeros(dataframe):\n",
    "    idxmin = dataframe.query(\"q > 0\").index.min()\n",
    "    return dataframe.loc[idxmin:, :]"
   ]
  },
  {
   "cell_type": "code",
   "execution_count": 44,
   "metadata": {},
   "outputs": [
    {
     "name": "stdout",
     "output_type": "stream",
     "text": [
      "CPU times: user 4min 19s, sys: 33.4 s, total: 4min 52s\n",
      "Wall time: 4min 50s\n"
     ]
    }
   ],
   "source": [
    "%%time\n",
    "data = (data\n",
    "        .groupby([\"item_id\",\"store_id\"])\n",
    "        .apply(remove_starting_zeros)\n",
    "        .reset_index(drop=True)\n",
    "       )"
   ]
  },
  {
   "cell_type": "code",
   "execution_count": 45,
   "metadata": {},
   "outputs": [
    {
     "name": "stdout",
     "output_type": "stream",
     "text": [
      "<class 'pandas.core.frame.DataFrame'>\n",
      "RangeIndex: 45942500 entries, 0 to 45942499\n",
      "Data columns (total 20 columns):\n",
      " #   Column         Dtype         \n",
      "---  ------         -----         \n",
      " 0   ts_id          int16         \n",
      " 1   item_id        int16         \n",
      " 2   dept_id        int8          \n",
      " 3   cat_id         int8          \n",
      " 4   store_id       int8          \n",
      " 5   state_id       int8          \n",
      " 6   d              object        \n",
      " 7   q              int16         \n",
      " 8   date           datetime64[ns]\n",
      " 9   wm_yr_wk       int16         \n",
      " 10  event_name_1   int8          \n",
      " 11  event_type_1   int8          \n",
      " 12  event_name_2   int8          \n",
      " 13  event_type_2   int8          \n",
      " 14  sell_price     float32       \n",
      " 15  regular_price  float32       \n",
      " 16  discount       float32       \n",
      " 17  discount_porc  float32       \n",
      " 18  outofstock     int8          \n",
      " 19  snap           int8          \n",
      "dtypes: datetime64[ns](1), float32(4), int16(4), int8(10), object(1)\n",
      "memory usage: 2.1+ GB\n"
     ]
    }
   ],
   "source": [
    "data.info()"
   ]
  },
  {
   "cell_type": "code",
   "execution_count": 46,
   "metadata": {},
   "outputs": [
    {
     "data": {
      "text/plain": [
       "ts_id            0\n",
       "item_id          0\n",
       "dept_id          0\n",
       "cat_id           0\n",
       "store_id         0\n",
       "state_id         0\n",
       "d                0\n",
       "q                0\n",
       "date             0\n",
       "wm_yr_wk         0\n",
       "event_name_1     0\n",
       "event_type_1     0\n",
       "event_name_2     0\n",
       "event_type_2     0\n",
       "sell_price       0\n",
       "regular_price    0\n",
       "discount         0\n",
       "discount_porc    0\n",
       "outofstock       0\n",
       "snap             0\n",
       "dtype: int64"
      ]
     },
     "execution_count": 46,
     "metadata": {},
     "output_type": "execute_result"
    }
   ],
   "source": [
    "data.isnull().sum(axis=0)"
   ]
  },
  {
   "cell_type": "code",
   "execution_count": 47,
   "metadata": {},
   "outputs": [
    {
     "data": {
      "image/png": "[encoded data removed]",
      "text/plain": [
       "<Figure size 1080x360 with 1 Axes>"
      ]
     },
     "metadata": {
      "needs_background": "light"
     },
     "output_type": "display_data"
    }
   ],
   "source": [
    "plt.figure(figsize=(15,5))\n",
    "sns.distplot(data.query(\"q <= 20\").q.values, kde=False)\n",
    "plt.grid()\n",
    "plt.show()"
   ]
  },
  {
   "cell_type": "markdown",
   "metadata": {},
   "source": [
    "***"
   ]
  },
  {
   "cell_type": "code",
   "execution_count": 48,
   "metadata": {},
   "outputs": [],
   "source": [
    "data.drop([\"d\", \"wm_yr_wk\"], axis=1, inplace=True)\n",
    "data.rename({\"date\":\"ds\"}, axis=1, inplace=True)"
   ]
  },
  {
   "cell_type": "markdown",
   "metadata": {},
   "source": [
    "***"
   ]
  },
  {
   "cell_type": "code",
   "execution_count": 60,
   "metadata": {},
   "outputs": [],
   "source": [
    "# if the ts has no sales in the past 8 weeks, will be marked as out-of-stock for the prediction period.\n",
    "left_date = data.ds.max() - pd.DateOffset(days=56)\n",
    "no_sales_ts = (data\n",
    "               .query(\"ds >= @left_date\")\n",
    "               .groupby([\"ts_id\"])\n",
    "               .filter(lambda x: np.all(x.q==0))\n",
    "               .loc[:, [\"ts_id\"]]\n",
    "               .drop_duplicates()\n",
    "              )"
   ]
  },
  {
   "cell_type": "markdown",
   "metadata": {},
   "source": [
    "***\n",
    "## validation and evaluation dataframes"
   ]
  },
  {
   "cell_type": "code",
   "execution_count": null,
   "metadata": {},
   "outputs": [],
   "source": [
    "calendar_columns = [\"date\", \"wm_yr_wk\", \"snap_CA\", \"snap_TX\", \"snap_WI\",\n",
    "                    \"event_name_1\", \"event_type_1\", \"event_name_2\", \"event_type_2\"]\n",
    "\n",
    "valid_dataframe = (pd.concat([make_time_range(\"2016-04-25\", \"2016-05-22\", \"D\").assign(**row)\n",
    "                              for _,row in hierarchy.iterrows()], ignore_index=True)\n",
    "                   .merge(calendar.loc[:, calendar_columns],\n",
    "                          how=\"left\", left_on=\"ds\", right_on=\"date\")\n",
    "                   .merge(sell_prices, how=\"left\")\n",
    "                   .drop([\"id\",\"date\",\"wm_yr_wk\"], axis=1)\n",
    "                  )"
   ]
  },
  {
   "cell_type": "code",
   "execution_count": null,
   "metadata": {},
   "outputs": [],
   "source": [
    "valid_dataframe[\"outofstock\"] = 0\n",
    "idx = valid_dataframe.query(\"ts_id in @no_sales_ts.ts_id\").index\n",
    "valid_dataframe.loc[idx, \"outofstock\"] = 1"
   ]
  },
  {
   "cell_type": "code",
   "execution_count": null,
   "metadata": {},
   "outputs": [],
   "source": [
    "valid_dataframe[\"snap\"] = 0\n",
    "\n",
    "idx_snap_ca = valid_dataframe.query(\"state_id==1 & snap_CA==1\").index\n",
    "valid_dataframe.loc[idx_snap_ca, \"snap\"] = 1\n",
    "\n",
    "idx_snap_tx = valid_dataframe.query(\"state_id==2 & snap_TX==1\").index\n",
    "valid_dataframe.loc[idx_snap_tx, \"snap\"] = 2\n",
    "\n",
    "idx_snap_wi = valid_dataframe.query(\"state_id==3 & snap_WI==1\").index\n",
    "valid_dataframe.loc[idx_snap_wi, \"snap\"] = 3\n",
    "\n",
    "valid_dataframe.drop([\"snap_CA\", \"snap_TX\", \"snap_WI\"], axis=1, inplace=True)"
   ]
  },
  {
   "cell_type": "code",
   "execution_count": 50,
   "metadata": {},
   "outputs": [],
   "source": [
    "valid_dataframe = reduce_mem_usage(valid_dataframe)"
   ]
  },
  {
   "cell_type": "markdown",
   "metadata": {},
   "source": [
    "***"
   ]
  },
  {
   "cell_type": "code",
   "execution_count": 52,
   "metadata": {},
   "outputs": [],
   "source": [
    "calendar_columns = [\"date\", \"wm_yr_wk\", \"snap_CA\", \"snap_TX\", \"snap_WI\",\n",
    "                    \"event_name_1\", \"event_type_1\", \"event_name_2\", \"event_type_2\"]\n",
    "\n",
    "eval_dataframe = (pd.concat([make_time_range(\"2016-05-23\", \"2016-06-19\", \"D\").assign(**row)\n",
    "                             for _,row in hierarchy.iterrows()], ignore_index=True)\n",
    "                  .merge(calendar.loc[:, calendar_columns],\n",
    "                         how=\"left\", left_on=\"ds\", right_on=\"date\")\n",
    "                  .merge(sell_prices, how=\"left\")\n",
    "                  .drop([\"id\",\"date\",\"wm_yr_wk\"], axis=1)\n",
    "                 )"
   ]
  },
  {
   "cell_type": "code",
   "execution_count": null,
   "metadata": {},
   "outputs": [],
   "source": [
    "eval_dataframe[\"outofstock\"] = 0\n",
    "idx = eval_dataframe.query(\"ts_id in @no_sales_ts.ts_id\").index\n",
    "eval_dataframe.loc[idx, \"outofstock\"] = 1"
   ]
  },
  {
   "cell_type": "code",
   "execution_count": 53,
   "metadata": {},
   "outputs": [],
   "source": [
    "eval_dataframe[\"snap\"] = 0\n",
    "\n",
    "idx_snap_ca = eval_dataframe.query(\"state_id==1 & snap_CA==1\").index\n",
    "eval_dataframe.loc[idx_snap_ca, \"snap\"] = 1\n",
    "\n",
    "idx_snap_tx = eval_dataframe.query(\"state_id==2 & snap_TX==1\").index\n",
    "eval_dataframe.loc[idx_snap_tx, \"snap\"] = 2\n",
    "\n",
    "idx_snap_wi = eval_dataframe.query(\"state_id==3 & snap_WI==1\").index\n",
    "eval_dataframe.loc[idx_snap_wi, \"snap\"] = 3\n",
    "\n",
    "eval_dataframe.drop([\"snap_CA\", \"snap_TX\", \"snap_WI\"], axis=1, inplace=True)"
   ]
  },
  {
   "cell_type": "code",
   "execution_count": 55,
   "metadata": {},
   "outputs": [],
   "source": [
    "eval_dataframe = reduce_mem_usage(eval_dataframe)"
   ]
  },
  {
   "cell_type": "markdown",
   "metadata": {},
   "source": [
    "***\n",
    "### Saving the dataframes"
   ]
  },
  {
   "cell_type": "code",
   "execution_count": 59,
   "metadata": {},
   "outputs": [],
   "source": [
    "# training data\n",
    "(data\n",
    " .to_parquet(\"../input/train_dataframe.parquet\", index=False)\n",
    ")"
   ]
  },
  {
   "cell_type": "code",
   "execution_count": 60,
   "metadata": {},
   "outputs": [],
   "source": [
    "# validation data\n",
    "(valid_dataframe\n",
    " .to_parquet(\"../input/valid_dataframe.parquet\", index=False)\n",
    ")"
   ]
  },
  {
   "cell_type": "code",
   "execution_count": 61,
   "metadata": {},
   "outputs": [],
   "source": [
    "# evaluation data\n",
    "(eval_dataframe\n",
    " .to_parquet(\"../input/eval_dataframe.parquet\", index=False)\n",
    ")"
   ]
  },
  {
   "cell_type": "markdown",
   "metadata": {},
   "source": [
    "***"
   ]
  }
 ],
 "metadata": {
  "kernelspec": {
   "display_name": "Python 3",
   "language": "python",
   "name": "python3"
  },
  "language_info": {
   "codemirror_mode": {
    "name": "ipython",
    "version": 3
   },
   "file_extension": ".py",
   "mimetype": "text/x-python",
   "name": "python",
   "nbconvert_exporter": "python",
   "pygments_lexer": "ipython3",
   "version": "3.7.4"
  }
 },
 "nbformat": 4,
 "nbformat_minor": 4
}

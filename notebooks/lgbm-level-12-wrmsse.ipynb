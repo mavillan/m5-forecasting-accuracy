{
 "cells": [
  {
   "cell_type": "code",
   "execution_count": 1,
   "metadata": {},
   "outputs": [],
   "source": [
    "import os\n",
    "import numpy as np\n",
    "import pandas as pd\n",
    "import lightgbm as lgb\n",
    "from tsforest.forecaster import LightGBMForecaster\n",
    "\n",
    "import matplotlib.pyplot as plt\n",
    "import seaborn as sns\n",
    "\n",
    "# local modules\n",
    "import sys\n",
    "sys.path.append(\"../lib/\")\n",
    "from utils import compute_scaling, reduce_mem_usage\n",
    "from evaluation import WRMSSEEvaluator"
   ]
  },
  {
   "cell_type": "markdown",
   "metadata": {},
   "source": [
    "***"
   ]
  },
  {
   "cell_type": "code",
   "execution_count": 2,
   "metadata": {},
   "outputs": [],
   "source": [
    "data = (pd.read_parquet(\"../input/train_dataframe.parquet\")\n",
    "        .dropna()\n",
    "        .reset_index(drop=True)\n",
    "        .rename({\"q\":\"y\"}, axis=1)\n",
    "       )"
   ]
  },
  {
   "cell_type": "code",
   "execution_count": 3,
   "metadata": {},
   "outputs": [
    {
     "data": {
      "text/html": [
       "<div>\n",
       "<style scoped>\n",
       "    .dataframe tbody tr th:only-of-type {\n",
       "        vertical-align: middle;\n",
       "    }\n",
       "\n",
       "    .dataframe tbody tr th {\n",
       "        vertical-align: top;\n",
       "    }\n",
       "\n",
       "    .dataframe thead th {\n",
       "        text-align: right;\n",
       "    }\n",
       "</style>\n",
       "<table border=\"1\" class=\"dataframe\">\n",
       "  <thead>\n",
       "    <tr style=\"text-align: right;\">\n",
       "      <th></th>\n",
       "      <th>item_id</th>\n",
       "      <th>store_id</th>\n",
       "      <th>weight</th>\n",
       "    </tr>\n",
       "  </thead>\n",
       "  <tbody>\n",
       "    <tr>\n",
       "      <th>0</th>\n",
       "      <td>1613</td>\n",
       "      <td>1</td>\n",
       "      <td>1.970000e-05</td>\n",
       "    </tr>\n",
       "    <tr>\n",
       "      <th>1</th>\n",
       "      <td>1613</td>\n",
       "      <td>2</td>\n",
       "      <td>1.850000e-05</td>\n",
       "    </tr>\n",
       "    <tr>\n",
       "      <th>2</th>\n",
       "      <td>1613</td>\n",
       "      <td>3</td>\n",
       "      <td>1.430000e-05</td>\n",
       "    </tr>\n",
       "    <tr>\n",
       "      <th>3</th>\n",
       "      <td>1613</td>\n",
       "      <td>4</td>\n",
       "      <td>5.380000e-06</td>\n",
       "    </tr>\n",
       "    <tr>\n",
       "      <th>4</th>\n",
       "      <td>1613</td>\n",
       "      <td>5</td>\n",
       "      <td>5.980000e-07</td>\n",
       "    </tr>\n",
       "  </tbody>\n",
       "</table>\n",
       "</div>"
      ],
      "text/plain": [
       "   item_id  store_id        weight\n",
       "0     1613         1  1.970000e-05\n",
       "1     1613         2  1.850000e-05\n",
       "2     1613         3  1.430000e-05\n",
       "3     1613         4  5.380000e-06\n",
       "4     1613         5  5.980000e-07"
      ]
     },
     "execution_count": 3,
     "metadata": {},
     "output_type": "execute_result"
    }
   ],
   "source": [
    "weights_level12 = pd.read_parquet(\"../input/weights_level12.parquet\")\n",
    "weights_level12.head()                         "
   ]
  },
  {
   "cell_type": "code",
   "execution_count": 4,
   "metadata": {},
   "outputs": [
    {
     "data": {
      "text/html": [
       "<div>\n",
       "<style scoped>\n",
       "    .dataframe tbody tr th:only-of-type {\n",
       "        vertical-align: middle;\n",
       "    }\n",
       "\n",
       "    .dataframe tbody tr th {\n",
       "        vertical-align: top;\n",
       "    }\n",
       "\n",
       "    .dataframe thead th {\n",
       "        text-align: right;\n",
       "    }\n",
       "</style>\n",
       "<table border=\"1\" class=\"dataframe\">\n",
       "  <thead>\n",
       "    <tr style=\"text-align: right;\">\n",
       "      <th></th>\n",
       "      <th>store_id</th>\n",
       "      <th>item_id</th>\n",
       "      <th>s</th>\n",
       "    </tr>\n",
       "  </thead>\n",
       "  <tbody>\n",
       "    <tr>\n",
       "      <th>0</th>\n",
       "      <td>1</td>\n",
       "      <td>1</td>\n",
       "      <td>1.168326</td>\n",
       "    </tr>\n",
       "    <tr>\n",
       "      <th>1</th>\n",
       "      <td>1</td>\n",
       "      <td>2</td>\n",
       "      <td>0.782439</td>\n",
       "    </tr>\n",
       "    <tr>\n",
       "      <th>2</th>\n",
       "      <td>1</td>\n",
       "      <td>3</td>\n",
       "      <td>0.886355</td>\n",
       "    </tr>\n",
       "    <tr>\n",
       "      <th>3</th>\n",
       "      <td>1</td>\n",
       "      <td>4</td>\n",
       "      <td>2.681374</td>\n",
       "    </tr>\n",
       "    <tr>\n",
       "      <th>4</th>\n",
       "      <td>1</td>\n",
       "      <td>5</td>\n",
       "      <td>1.634013</td>\n",
       "    </tr>\n",
       "  </tbody>\n",
       "</table>\n",
       "</div>"
      ],
      "text/plain": [
       "   store_id  item_id         s\n",
       "0         1        1  1.168326\n",
       "1         1        2  0.782439\n",
       "2         1        3  0.886355\n",
       "3         1        4  2.681374\n",
       "4         1        5  1.634013"
      ]
     },
     "execution_count": 4,
     "metadata": {},
     "output_type": "execute_result"
    }
   ],
   "source": [
    "scaling_input = pd.read_parquet(\"../input/scaling_input.parquet\")\n",
    "scales = compute_scaling(scaling_input, agg_columns=[\"store_id\",\"item_id\"]).rename({\"q\":\"s\"}, axis=1)\n",
    "scales.head()"
   ]
  },
  {
   "cell_type": "code",
   "execution_count": 5,
   "metadata": {},
   "outputs": [
    {
     "data": {
      "text/html": [
       "<div>\n",
       "<style scoped>\n",
       "    .dataframe tbody tr th:only-of-type {\n",
       "        vertical-align: middle;\n",
       "    }\n",
       "\n",
       "    .dataframe tbody tr th {\n",
       "        vertical-align: top;\n",
       "    }\n",
       "\n",
       "    .dataframe thead th {\n",
       "        text-align: right;\n",
       "    }\n",
       "</style>\n",
       "<table border=\"1\" class=\"dataframe\">\n",
       "  <thead>\n",
       "    <tr style=\"text-align: right;\">\n",
       "      <th></th>\n",
       "      <th>item_id</th>\n",
       "      <th>store_id</th>\n",
       "      <th>weight</th>\n",
       "    </tr>\n",
       "  </thead>\n",
       "  <tbody>\n",
       "    <tr>\n",
       "      <th>0</th>\n",
       "      <td>1613</td>\n",
       "      <td>1</td>\n",
       "      <td>0.930023</td>\n",
       "    </tr>\n",
       "    <tr>\n",
       "      <th>1</th>\n",
       "      <td>1613</td>\n",
       "      <td>2</td>\n",
       "      <td>0.623113</td>\n",
       "    </tr>\n",
       "    <tr>\n",
       "      <th>2</th>\n",
       "      <td>1613</td>\n",
       "      <td>3</td>\n",
       "      <td>0.361366</td>\n",
       "    </tr>\n",
       "    <tr>\n",
       "      <th>3</th>\n",
       "      <td>1613</td>\n",
       "      <td>4</td>\n",
       "      <td>0.430022</td>\n",
       "    </tr>\n",
       "    <tr>\n",
       "      <th>4</th>\n",
       "      <td>1613</td>\n",
       "      <td>5</td>\n",
       "      <td>0.025938</td>\n",
       "    </tr>\n",
       "  </tbody>\n",
       "</table>\n",
       "</div>"
      ],
      "text/plain": [
       "   item_id  store_id    weight\n",
       "0     1613         1  0.930023\n",
       "1     1613         2  0.623113\n",
       "2     1613         3  0.361366\n",
       "3     1613         4  0.430022\n",
       "4     1613         5  0.025938"
      ]
     },
     "execution_count": 5,
     "metadata": {},
     "output_type": "execute_result"
    }
   ],
   "source": [
    "weights = (weights_level12\n",
    "    .merge(scales, how=\"inner\", on=[\"store_id\",\"item_id\"])\n",
    "    .assign(weight = lambda x: x.weight/x.s)\n",
    "    .assign(weight = lambda x: x.weight/x.weight.median())\n",
    "    .drop([\"s\"], axis=1)\n",
    ")\n",
    "weights.head()"
   ]
  },
  {
   "cell_type": "code",
   "execution_count": 6,
   "metadata": {},
   "outputs": [
    {
     "data": {
      "text/html": [
       "<div>\n",
       "<style scoped>\n",
       "    .dataframe tbody tr th:only-of-type {\n",
       "        vertical-align: middle;\n",
       "    }\n",
       "\n",
       "    .dataframe tbody tr th {\n",
       "        vertical-align: top;\n",
       "    }\n",
       "\n",
       "    .dataframe thead th {\n",
       "        text-align: right;\n",
       "    }\n",
       "</style>\n",
       "<table border=\"1\" class=\"dataframe\">\n",
       "  <thead>\n",
       "    <tr style=\"text-align: right;\">\n",
       "      <th></th>\n",
       "      <th>ts_id</th>\n",
       "      <th>item_id</th>\n",
       "      <th>dept_id</th>\n",
       "      <th>cat_id</th>\n",
       "      <th>store_id</th>\n",
       "      <th>state_id</th>\n",
       "      <th>y</th>\n",
       "      <th>ds</th>\n",
       "      <th>event_name_1</th>\n",
       "      <th>event_type_1</th>\n",
       "      <th>...</th>\n",
       "      <th>snap</th>\n",
       "      <th>lag28</th>\n",
       "      <th>lag28_mean7</th>\n",
       "      <th>lag28_mean30</th>\n",
       "      <th>lag28_mean60</th>\n",
       "      <th>lag28_mean90</th>\n",
       "      <th>lag28_mean180</th>\n",
       "      <th>lag28_std7</th>\n",
       "      <th>lag28_std30</th>\n",
       "      <th>weight</th>\n",
       "    </tr>\n",
       "  </thead>\n",
       "  <tbody>\n",
       "    <tr>\n",
       "      <th>0</th>\n",
       "      <td>1</td>\n",
       "      <td>1</td>\n",
       "      <td>1</td>\n",
       "      <td>1</td>\n",
       "      <td>1</td>\n",
       "      <td>1</td>\n",
       "      <td>0.0</td>\n",
       "      <td>2014-02-10</td>\n",
       "      <td>1</td>\n",
       "      <td>1</td>\n",
       "      <td>...</td>\n",
       "      <td>1</td>\n",
       "      <td>0.0</td>\n",
       "      <td>0.571429</td>\n",
       "      <td>0.533333</td>\n",
       "      <td>0.566667</td>\n",
       "      <td>0.600000</td>\n",
       "      <td>0.500000</td>\n",
       "      <td>0.786796</td>\n",
       "      <td>0.776079</td>\n",
       "      <td>4.144386</td>\n",
       "    </tr>\n",
       "    <tr>\n",
       "      <th>1</th>\n",
       "      <td>1</td>\n",
       "      <td>1</td>\n",
       "      <td>1</td>\n",
       "      <td>1</td>\n",
       "      <td>1</td>\n",
       "      <td>1</td>\n",
       "      <td>0.0</td>\n",
       "      <td>2014-02-11</td>\n",
       "      <td>1</td>\n",
       "      <td>1</td>\n",
       "      <td>...</td>\n",
       "      <td>0</td>\n",
       "      <td>2.0</td>\n",
       "      <td>0.857143</td>\n",
       "      <td>0.500000</td>\n",
       "      <td>0.600000</td>\n",
       "      <td>0.622222</td>\n",
       "      <td>0.505556</td>\n",
       "      <td>0.899735</td>\n",
       "      <td>0.682288</td>\n",
       "      <td>4.144386</td>\n",
       "    </tr>\n",
       "    <tr>\n",
       "      <th>2</th>\n",
       "      <td>1</td>\n",
       "      <td>1</td>\n",
       "      <td>1</td>\n",
       "      <td>1</td>\n",
       "      <td>1</td>\n",
       "      <td>1</td>\n",
       "      <td>0.0</td>\n",
       "      <td>2014-02-12</td>\n",
       "      <td>1</td>\n",
       "      <td>1</td>\n",
       "      <td>...</td>\n",
       "      <td>0</td>\n",
       "      <td>0.0</td>\n",
       "      <td>0.714286</td>\n",
       "      <td>0.500000</td>\n",
       "      <td>0.600000</td>\n",
       "      <td>0.622222</td>\n",
       "      <td>0.505556</td>\n",
       "      <td>0.951190</td>\n",
       "      <td>0.682288</td>\n",
       "      <td>4.144386</td>\n",
       "    </tr>\n",
       "    <tr>\n",
       "      <th>3</th>\n",
       "      <td>1</td>\n",
       "      <td>1</td>\n",
       "      <td>1</td>\n",
       "      <td>1</td>\n",
       "      <td>1</td>\n",
       "      <td>1</td>\n",
       "      <td>0.0</td>\n",
       "      <td>2014-02-13</td>\n",
       "      <td>1</td>\n",
       "      <td>1</td>\n",
       "      <td>...</td>\n",
       "      <td>0</td>\n",
       "      <td>0.0</td>\n",
       "      <td>0.428571</td>\n",
       "      <td>0.466667</td>\n",
       "      <td>0.600000</td>\n",
       "      <td>0.622222</td>\n",
       "      <td>0.505556</td>\n",
       "      <td>0.786796</td>\n",
       "      <td>0.681445</td>\n",
       "      <td>4.144386</td>\n",
       "    </tr>\n",
       "    <tr>\n",
       "      <th>4</th>\n",
       "      <td>1</td>\n",
       "      <td>1</td>\n",
       "      <td>1</td>\n",
       "      <td>1</td>\n",
       "      <td>1</td>\n",
       "      <td>1</td>\n",
       "      <td>0.0</td>\n",
       "      <td>2014-02-14</td>\n",
       "      <td>3</td>\n",
       "      <td>3</td>\n",
       "      <td>...</td>\n",
       "      <td>0</td>\n",
       "      <td>0.0</td>\n",
       "      <td>0.428571</td>\n",
       "      <td>0.433333</td>\n",
       "      <td>0.600000</td>\n",
       "      <td>0.611111</td>\n",
       "      <td>0.505556</td>\n",
       "      <td>0.786796</td>\n",
       "      <td>0.678911</td>\n",
       "      <td>4.144386</td>\n",
       "    </tr>\n",
       "  </tbody>\n",
       "</table>\n",
       "<p>5 rows × 26 columns</p>\n",
       "</div>"
      ],
      "text/plain": [
       "   ts_id  item_id  dept_id  cat_id  store_id  state_id    y         ds  \\\n",
       "0      1        1        1       1         1         1  0.0 2014-02-10   \n",
       "1      1        1        1       1         1         1  0.0 2014-02-11   \n",
       "2      1        1        1       1         1         1  0.0 2014-02-12   \n",
       "3      1        1        1       1         1         1  0.0 2014-02-13   \n",
       "4      1        1        1       1         1         1  0.0 2014-02-14   \n",
       "\n",
       "   event_name_1  event_type_1  ...  snap  lag28  lag28_mean7  lag28_mean30  \\\n",
       "0             1             1  ...     1    0.0     0.571429      0.533333   \n",
       "1             1             1  ...     0    2.0     0.857143      0.500000   \n",
       "2             1             1  ...     0    0.0     0.714286      0.500000   \n",
       "3             1             1  ...     0    0.0     0.428571      0.466667   \n",
       "4             3             3  ...     0    0.0     0.428571      0.433333   \n",
       "\n",
       "   lag28_mean60  lag28_mean90  lag28_mean180  lag28_std7  lag28_std30  \\\n",
       "0      0.566667      0.600000       0.500000    0.786796     0.776079   \n",
       "1      0.600000      0.622222       0.505556    0.899735     0.682288   \n",
       "2      0.600000      0.622222       0.505556    0.951190     0.682288   \n",
       "3      0.600000      0.622222       0.505556    0.786796     0.681445   \n",
       "4      0.600000      0.611111       0.505556    0.786796     0.678911   \n",
       "\n",
       "     weight  \n",
       "0  4.144386  \n",
       "1  4.144386  \n",
       "2  4.144386  \n",
       "3  4.144386  \n",
       "4  4.144386  \n",
       "\n",
       "[5 rows x 26 columns]"
      ]
     },
     "execution_count": 6,
     "metadata": {},
     "output_type": "execute_result"
    }
   ],
   "source": [
    "data = pd.merge(data, weights, how=\"left\", on=[\"store_id\",\"item_id\"])\n",
    "data.head()"
   ]
  },
  {
   "cell_type": "code",
   "execution_count": 7,
   "metadata": {},
   "outputs": [
    {
     "data": {
      "text/plain": [
       "count    30490.000000\n",
       "mean         1.450298\n",
       "std          1.715868\n",
       "min          0.000000\n",
       "25%          0.480690\n",
       "50%          1.000000\n",
       "75%          1.832368\n",
       "max         34.385463\n",
       "Name: weight, dtype: float64"
      ]
     },
     "execution_count": 7,
     "metadata": {},
     "output_type": "execute_result"
    }
   ],
   "source": [
    "weights.weight.describe()"
   ]
  },
  {
   "cell_type": "markdown",
   "metadata": {},
   "source": [
    "***"
   ]
  },
  {
   "cell_type": "code",
   "execution_count": 8,
   "metadata": {},
   "outputs": [],
   "source": [
    "def make_valid_periods(end_date, valid_length, n_folds):\n",
    "    right_date = pd.to_datetime(end_date)\n",
    "    valid_periods = list()\n",
    "    \n",
    "    for i in range(n_folds):\n",
    "        left_date = right_date - pd.DateOffset(days=valid_length-1)\n",
    "        valid_periods.append((left_date, right_date))\n",
    "        right_date = left_date - pd.DateOffset(days=1)\n",
    "    \n",
    "    return valid_periods[::-1]"
   ]
  },
  {
   "cell_type": "code",
   "execution_count": null,
   "metadata": {},
   "outputs": [],
   "source": [
    "#valid_periods = make_valid_periods(\"2016-04-24\", valid_length=28, n_folds=13)\n",
    "#valid_periods = [(pd.to_datetime(\"2015-04-25\"), pd.to_datetime(\"2015-06-19\")), ]\n",
    "valid_periods = [(pd.to_datetime(\"2016-03-27\"), pd.to_datetime(\"2016-04-24\")), ]\n",
    "valid_periods"
   ]
  },
  {
   "cell_type": "markdown",
   "metadata": {},
   "source": [
    "***\n",
    "### adds time series stats features"
   ]
  },
  {
   "cell_type": "code",
   "execution_count": null,
   "metadata": {},
   "outputs": [],
   "source": [
    "def compute_ts_stats(data, ts_uid_columns, valid_index=None, period={\"days\":365}):\n",
    "    if valid_index is not None:\n",
    "        data = data.drop(valid_index, axis=0)\n",
    "    end_date = data.ds.max()\n",
    "    start_date = end_date - pd.DateOffset(**period)\n",
    "    result = (data\n",
    "              .query(\"@start_date <= ds <= @end_date\")\n",
    "              .groupby(ts_uid_columns)\n",
    "              .agg(mean_q=(\"y\", np.mean))\n",
    "              .reset_index()\n",
    "              )\n",
    "    return result\n",
    "\n",
    "#ts_stats = compute_ts_stats(data, [\"item_id\",\"store_id\"], valid_index, period={\"days\":365})\n",
    "#data = pd.merge(data, ts_stats, how=\"left\", on=[\"item_id\", \"store_id\"])"
   ]
  },
  {
   "cell_type": "markdown",
   "metadata": {},
   "source": [
    "***\n",
    "## training"
   ]
  },
  {
   "cell_type": "code",
   "execution_count": 9,
   "metadata": {},
   "outputs": [],
   "source": [
    "model_params = {\n",
    "    'objective':'l2',\n",
    "    'metric':'None',\n",
    "    'num_iterations':10000,\n",
    "    'early_stopping_rounds':200,\n",
    "    'max_bin': 255,\n",
    "    'bin_construct_sample_cnt':6000000,\n",
    "    'num_leaves': 127, \n",
    "    'learning_rate': 0.075, \n",
    "    #'min_data_in_leaf': 50,\n",
    "    #'min_sum_hessian_in_leaf':1e-4,\n",
    "    'feature_fraction': 0.9,\n",
    "    'bagging_fraction':0.75,\n",
    "    'bagging_freq':1,\n",
    "    'lambda_l2':0.1,\n",
    "    'seed':19\n",
    "}\n",
    "\n",
    "time_features = [\n",
    "    \"year\",\n",
    "    \"month\",\n",
    "    \"year_week\",\n",
    "    #\"year_day\",\n",
    "    #\"week_day\",\n",
    "    \"month_progress\",\n",
    "    \"week_day_cos\",\n",
    "    \"week_day_sin\",\n",
    "    #\"year_day_cos\",\n",
    "    #\"year_day_sin\",\n",
    "    #\"year_week_cos\",\n",
    "    #\"year_week_sin\",\n",
    "    #\"month_cos\",\n",
    "    #\"month_sin\"\n",
    "]\n",
    "\n",
    "model_kwargs = {\n",
    "    \"model_params\":model_params,\n",
    "    \"time_features\":time_features,\n",
    "    \"exclude_features\":[\"sell_price\",\n",
    "                        \"regular_price\",\n",
    "                        #\"ts_id\",\n",
    "                        \"event_type_1\",\n",
    "                        \"event_name_2\",\n",
    "                        \"event_type_2\"],\n",
    "    \"categorical_features\":{\"ts_id\":\"default\",\n",
    "                            \"item_id\":\"default\", \n",
    "                            \"dept_id\":\"default\",\n",
    "                            \"cat_id\":\"default\",\n",
    "                            \"store_id\":\"default\",\n",
    "                            \"state_id\":\"default\",\n",
    "                            \"event_name_1\":\"default\", \n",
    "                            #\"event_type_1\":\"default\", \n",
    "                            #\"event_name_2\":\"default\", \n",
    "                            #\"event_type_2\":\"default\",\n",
    "                            \"snap\":\"default\"},\n",
    "    \"ts_uid_columns\":[\"item_id\",\"store_id\"]\n",
    "}"
   ]
  },
  {
   "cell_type": "markdown",
   "metadata": {},
   "source": [
    "***\n",
    "### Training validation models"
   ]
  },
  {
   "cell_type": "code",
   "execution_count": 12,
   "metadata": {},
   "outputs": [],
   "source": [
    "# 3 years of history\n",
    "train_history = 1095"
   ]
  },
  {
   "cell_type": "code",
   "execution_count": 13,
   "metadata": {},
   "outputs": [
    {
     "name": "stdout",
     "output_type": "stream",
     "text": [
      "############################################### 1/1 ################################################\n",
      "##### Validation period: (Timestamp('2016-03-27 00:00:00'), Timestamp('2016-04-24 00:00:00')) ######\n",
      "####################################################################################################\n",
      "Training until validation scores don't improve for 200 rounds\n",
      "[25]\tvalid_0's wrmsse: 0.987511\n",
      "[50]\tvalid_0's wrmsse: 0.9103\n",
      "[75]\tvalid_0's wrmsse: 0.893402\n",
      "[100]\tvalid_0's wrmsse: 0.887986\n",
      "[125]\tvalid_0's wrmsse: 0.884612\n",
      "[150]\tvalid_0's wrmsse: 0.882751\n",
      "[175]\tvalid_0's wrmsse: 0.881097\n",
      "[200]\tvalid_0's wrmsse: 0.880626\n",
      "[225]\tvalid_0's wrmsse: 0.880055\n",
      "[250]\tvalid_0's wrmsse: 0.879759\n",
      "[275]\tvalid_0's wrmsse: 0.879483\n",
      "[300]\tvalid_0's wrmsse: 0.879306\n",
      "[325]\tvalid_0's wrmsse: 0.879029\n",
      "[350]\tvalid_0's wrmsse: 0.878971\n",
      "[375]\tvalid_0's wrmsse: 0.878922\n",
      "[400]\tvalid_0's wrmsse: 0.879043\n",
      "[425]\tvalid_0's wrmsse: 0.878965\n",
      "[450]\tvalid_0's wrmsse: 0.878766\n",
      "[475]\tvalid_0's wrmsse: 0.878819\n",
      "[500]\tvalid_0's wrmsse: 0.878812\n",
      "[525]\tvalid_0's wrmsse: 0.878776\n",
      "[550]\tvalid_0's wrmsse: 0.878735\n",
      "[575]\tvalid_0's wrmsse: 0.878564\n",
      "[600]\tvalid_0's wrmsse: 0.878409\n",
      "[625]\tvalid_0's wrmsse: 0.878299\n",
      "[650]\tvalid_0's wrmsse: 0.878359\n",
      "[675]\tvalid_0's wrmsse: 0.878404\n",
      "[700]\tvalid_0's wrmsse: 0.878277\n",
      "[725]\tvalid_0's wrmsse: 0.878159\n",
      "[750]\tvalid_0's wrmsse: 0.8781\n",
      "[775]\tvalid_0's wrmsse: 0.877976\n",
      "[800]\tvalid_0's wrmsse: 0.878118\n",
      "[825]\tvalid_0's wrmsse: 0.878154\n",
      "[850]\tvalid_0's wrmsse: 0.878046\n",
      "[875]\tvalid_0's wrmsse: 0.877919\n",
      "[900]\tvalid_0's wrmsse: 0.877957\n",
      "[925]\tvalid_0's wrmsse: 0.877959\n",
      "[950]\tvalid_0's wrmsse: 0.877925\n",
      "[975]\tvalid_0's wrmsse: 0.877839\n",
      "[1000]\tvalid_0's wrmsse: 0.877777\n",
      "[1025]\tvalid_0's wrmsse: 0.877904\n",
      "[1050]\tvalid_0's wrmsse: 0.877915\n",
      "[1075]\tvalid_0's wrmsse: 0.877999\n",
      "[1100]\tvalid_0's wrmsse: 0.877879\n",
      "[1125]\tvalid_0's wrmsse: 0.877907\n",
      "[1150]\tvalid_0's wrmsse: 0.87787\n",
      "[1175]\tvalid_0's wrmsse: 0.877839\n",
      "Early stopping, best iteration is:\n",
      "[995]\tvalid_0's wrmsse: 0.87773\n",
      "RMSE: 1575.0087732700208\n",
      "RMSSE: 0.2657788386565592\n"
     ]
    },
    {
     "data": {
      "image/png": "[encoded data removed]",
      "text/plain": [
       "<Figure size 1080x360 with 1 Axes>"
      ]
     },
     "metadata": {
      "needs_background": "light"
     },
     "output_type": "display_data"
    }
   ],
   "source": [
    "models = list()\n",
    "errors = list()\n",
    "best_iterations = list()\n",
    "\n",
    "for i,valid_period in enumerate(valid_periods):\n",
    "    print(f\" {i+1}/{len(valid_periods)} \".center(100, \"#\"))\n",
    "    print(f\" Validation period: {valid_period} \".center(100, \"#\"))\n",
    "    print(\"#\"*100)\n",
    "    \n",
    "    valid_start = valid_period[0]\n",
    "    valid_end = valid_period[1]\n",
    "    \n",
    "    train_start = valid_start - pd.DateOffset(days=train_history)\n",
    "        \n",
    "    _train_data = data.query(\"@train_start <= ds <= @valid_end\").reset_index(drop=True)\n",
    "    _valid_index = _train_data.query(\"@valid_start <= ds <= @valid_end\").index\n",
    "\n",
    "    _fcaster = LightGBMForecaster(**model_kwargs)\n",
    "    _fcaster.prepare_features(train_data=_train_data, valid_index=_valid_index);\n",
    "\n",
    "    _fcaster.train_features = reduce_mem_usage(_fcaster.train_features)\n",
    "    _fcaster.valid_features = reduce_mem_usage(_fcaster.valid_features)\n",
    "    \n",
    "    evaluator = WRMSSEEvaluator(_fcaster.valid_features.loc[:, [\"ds\"]+_fcaster.ts_uid_columns+[\"y\"]], \n",
    "                                weights_level12, \n",
    "                                scales,\n",
    "                                ts_uid_columns=_fcaster.ts_uid_columns)\n",
    "    _fcaster.fit(fit_kwargs={\"verbose_eval\":25, \"feval\":evaluator.evaluate})\n",
    "\n",
    "    #lgb.plot_importance(_fcaster.model.model, importance_type=\"split\", figsize=(10,8))\n",
    "    #lgb.plot_importance(_fcaster.model.model, importance_type=\"gain\", figsize=(10,8))\n",
    "    \n",
    "    models.append(_fcaster)\n",
    "    errors.append(_fcaster.model.model.best_score[\"valid_0\"][\"wrmsse\"])\n",
    "    best_iterations.append(_fcaster.best_iteration)\n",
    "    \n",
    "    # visualizing the predictions at level 1\n",
    "    predictions = _fcaster.predict(_fcaster.valid_features.loc[:, data.columns.drop(\"y\")])\n",
    "    mrg =  (data.loc[:, [\"ds\",\"item_id\",\"store_id\",\"y\"]]\n",
    "            .merge(predictions, how=\"inner\", on=[\"ds\",\"item_id\",\"store_id\"]))\n",
    "    df = mrg.groupby([\"ds\"])[\"y\",\"y_pred\"].sum().reset_index()\n",
    "    \n",
    "    print(\"RMSE:\", np.sqrt(np.mean(df.eval(\"(y-y_pred)**2\"))))\n",
    "    print(\"RMSSE:\", np.sqrt(np.mean(df.eval(\"(y-y_pred)**2\")))/5926.0127)\n",
    "    \n",
    "    plt.figure(figsize=(15,5))\n",
    "    plt.plot_date(df.ds, df.y, \"o-\", label=\"real\")\n",
    "    plt.plot_date(df.ds, df.y_pred, \"o-\", label=\"pred\")\n",
    "    plt.grid()\n",
    "    plt.xticks(rotation=90)\n",
    "    plt.legend(loc=\"best\")\n",
    "    plt.show()"
   ]
  },
  {
   "cell_type": "markdown",
   "metadata": {},
   "source": [
    "***\n",
    "### final model"
   ]
  },
  {
   "cell_type": "code",
   "execution_count": 11,
   "metadata": {},
   "outputs": [],
   "source": [
    "# 3 years of history\n",
    "train_history = 1095"
   ]
  },
  {
   "cell_type": "code",
   "execution_count": 10,
   "metadata": {},
   "outputs": [
    {
     "data": {
      "text/plain": [
       "{'objective': 'l2',\n",
       " 'metric': 'None',\n",
       " 'num_iterations': 2000,\n",
       " 'early_stopping_rounds': 200,\n",
       " 'max_bin': 255,\n",
       " 'bin_construct_sample_cnt': 6000000,\n",
       " 'num_leaves': 127,\n",
       " 'learning_rate': 0.075,\n",
       " 'feature_fraction': 0.9,\n",
       " 'bagging_fraction': 0.75,\n",
       " 'bagging_freq': 1,\n",
       " 'lambda_l2': 0.1,\n",
       " 'seed': 19}"
      ]
     },
     "execution_count": 10,
     "metadata": {},
     "output_type": "execute_result"
    }
   ],
   "source": [
    "#model_kwargs[\"model_params\"][\"num_iterations\"] = best_iterations[0]\n",
    "model_kwargs[\"model_params\"][\"num_iterations\"] = 2000\n",
    "model_kwargs[\"model_params\"]"
   ]
  },
  {
   "cell_type": "code",
   "execution_count": 12,
   "metadata": {},
   "outputs": [],
   "source": [
    "train_start = data.ds.max() - pd.DateOffset(days=train_history)\n",
    "train_data = data.query(\"ds >= @train_start\").reset_index(drop=True)"
   ]
  },
  {
   "cell_type": "code",
   "execution_count": 13,
   "metadata": {},
   "outputs": [],
   "source": [
    "fcaster = LightGBMForecaster(**model_kwargs)\n",
    "fcaster.prepare_features(train_data=train_data);\n",
    "fcaster.train_features = reduce_mem_usage(fcaster.train_features)\n",
    "fcaster.fit(fit_kwargs={\"verbose_eval\":20})"
   ]
  },
  {
   "cell_type": "code",
   "execution_count": 14,
   "metadata": {},
   "outputs": [
    {
     "data": {
      "image/png": "[encoded data removed]",
      "text/plain": [
       "<Figure size 1080x720 with 1 Axes>"
      ]
     },
     "metadata": {
      "needs_background": "light"
     },
     "output_type": "display_data"
    }
   ],
   "source": [
    "lgb.plot_importance(fcaster.model.model, importance_type=\"split\", figsize=(15,10));"
   ]
  },
  {
   "cell_type": "code",
   "execution_count": 15,
   "metadata": {},
   "outputs": [
    {
     "data": {
      "image/png": "[encoded data removed]",
      "text/plain": [
       "<Figure size 1080x720 with 1 Axes>"
      ]
     },
     "metadata": {
      "needs_background": "light"
     },
     "output_type": "display_data"
    }
   ],
   "source": [
    "lgb.plot_importance(fcaster.model.model, importance_type=\"gain\", figsize=(15,10));"
   ]
  },
  {
   "cell_type": "markdown",
   "metadata": {},
   "source": [
    "***\n",
    "### estimating residuals"
   ]
  },
  {
   "cell_type": "code",
   "execution_count": 21,
   "metadata": {},
   "outputs": [],
   "source": [
    "predict_columns = list(set(train_data.columns) - {\"y\"})"
   ]
  },
  {
   "cell_type": "code",
   "execution_count": 22,
   "metadata": {},
   "outputs": [],
   "source": [
    "predictions = fcaster.predict(train_data.loc[:, predict_columns])"
   ]
  },
  {
   "cell_type": "code",
   "execution_count": 23,
   "metadata": {},
   "outputs": [
    {
     "data": {
      "text/html": [
       "<div>\n",
       "<style scoped>\n",
       "    .dataframe tbody tr th:only-of-type {\n",
       "        vertical-align: middle;\n",
       "    }\n",
       "\n",
       "    .dataframe tbody tr th {\n",
       "        vertical-align: top;\n",
       "    }\n",
       "\n",
       "    .dataframe thead th {\n",
       "        text-align: right;\n",
       "    }\n",
       "</style>\n",
       "<table border=\"1\" class=\"dataframe\">\n",
       "  <thead>\n",
       "    <tr style=\"text-align: right;\">\n",
       "      <th></th>\n",
       "      <th>item_id</th>\n",
       "      <th>store_id</th>\n",
       "      <th>residual</th>\n",
       "    </tr>\n",
       "  </thead>\n",
       "  <tbody>\n",
       "    <tr>\n",
       "      <th>0</th>\n",
       "      <td>1</td>\n",
       "      <td>1</td>\n",
       "      <td>0.873202</td>\n",
       "    </tr>\n",
       "    <tr>\n",
       "      <th>1</th>\n",
       "      <td>1</td>\n",
       "      <td>2</td>\n",
       "      <td>0.833326</td>\n",
       "    </tr>\n",
       "    <tr>\n",
       "      <th>2</th>\n",
       "      <td>1</td>\n",
       "      <td>3</td>\n",
       "      <td>0.999084</td>\n",
       "    </tr>\n",
       "    <tr>\n",
       "      <th>3</th>\n",
       "      <td>1</td>\n",
       "      <td>4</td>\n",
       "      <td>0.896715</td>\n",
       "    </tr>\n",
       "    <tr>\n",
       "      <th>4</th>\n",
       "      <td>1</td>\n",
       "      <td>5</td>\n",
       "      <td>0.558514</td>\n",
       "    </tr>\n",
       "    <tr>\n",
       "      <th>...</th>\n",
       "      <td>...</td>\n",
       "      <td>...</td>\n",
       "      <td>...</td>\n",
       "    </tr>\n",
       "    <tr>\n",
       "      <th>30405</th>\n",
       "      <td>3049</td>\n",
       "      <td>6</td>\n",
       "      <td>0.563529</td>\n",
       "    </tr>\n",
       "    <tr>\n",
       "      <th>30406</th>\n",
       "      <td>3049</td>\n",
       "      <td>7</td>\n",
       "      <td>2.134287</td>\n",
       "    </tr>\n",
       "    <tr>\n",
       "      <th>30407</th>\n",
       "      <td>3049</td>\n",
       "      <td>8</td>\n",
       "      <td>3.420279</td>\n",
       "    </tr>\n",
       "    <tr>\n",
       "      <th>30408</th>\n",
       "      <td>3049</td>\n",
       "      <td>9</td>\n",
       "      <td>2.092668</td>\n",
       "    </tr>\n",
       "    <tr>\n",
       "      <th>30409</th>\n",
       "      <td>3049</td>\n",
       "      <td>10</td>\n",
       "      <td>1.926314</td>\n",
       "    </tr>\n",
       "  </tbody>\n",
       "</table>\n",
       "<p>30410 rows × 3 columns</p>\n",
       "</div>"
      ],
      "text/plain": [
       "       item_id  store_id  residual\n",
       "0            1         1  0.873202\n",
       "1            1         2  0.833326\n",
       "2            1         3  0.999084\n",
       "3            1         4  0.896715\n",
       "4            1         5  0.558514\n",
       "...        ...       ...       ...\n",
       "30405     3049         6  0.563529\n",
       "30406     3049         7  2.134287\n",
       "30407     3049         8  3.420279\n",
       "30408     3049         9  2.092668\n",
       "30409     3049        10  1.926314\n",
       "\n",
       "[30410 rows x 3 columns]"
      ]
     },
     "execution_count": 23,
     "metadata": {},
     "output_type": "execute_result"
    }
   ],
   "source": [
    "residual_variance = (pd.merge(train_data, predictions, how=\"inner\", on=[\"item_id\",\"store_id\",\"ds\"])\n",
    "                     .assign(residual = lambda x: x.y - x.y_pred)\n",
    "                     .groupby([\"item_id\",\"store_id\"])[\"residual\"].std()\n",
    "                     .reset_index())\n",
    "residual_variance"
   ]
  },
  {
   "cell_type": "code",
   "execution_count": 26,
   "metadata": {},
   "outputs": [],
   "source": [
    "residual_variance.to_parquet(\"../output/residuals_level12.parquet\", index=False)"
   ]
  },
  {
   "cell_type": "markdown",
   "metadata": {},
   "source": [
    "***\n",
    "### predicting"
   ]
  },
  {
   "cell_type": "code",
   "execution_count": 27,
   "metadata": {},
   "outputs": [],
   "source": [
    "valid_dataframe = pd.read_parquet(\"../input/valid_dataframe.parquet\")\n",
    "eval_dataframe = pd.read_parquet(\"../input/eval_dataframe.parquet\")\n",
    "hierarchy = pd.read_parquet(\"../input/hierarchy.parquet\")\n",
    "submission = pd.read_csv(\"../input/sample_submission.csv\")"
   ]
  },
  {
   "cell_type": "code",
   "execution_count": 28,
   "metadata": {},
   "outputs": [],
   "source": [
    "valid_dataframe = pd.merge(valid_dataframe, weights, how=\"left\")\n",
    "eval_dataframe = pd.merge(eval_dataframe, weights, how=\"left\")"
   ]
  },
  {
   "cell_type": "code",
   "execution_count": 29,
   "metadata": {},
   "outputs": [],
   "source": [
    "#valid_dataframe = (valid_dataframe\n",
    "#        .merge(scale, how=\"left\", on=[\"store_id\",\"item_id\"])\n",
    "#        .assign(lag28 = lambda x: x.lag28/x.s)\n",
    "#        .drop(\"s\", axis=1)\n",
    "#       )\n",
    "\n",
    "## updating rolling-window features\n",
    "#valid_dataframe[\"lag28_mean7\"] = valid_dataframe.groupby(\"ts_id\")[\"lag28\"].rolling(7).mean().reset_index(0, drop=True)\n",
    "#valid_dataframe[\"lag28_mean30\"] = valid_dataframe.groupby(\"ts_id\")[\"lag28\"].rolling(30).mean().reset_index(0, drop=True)\n",
    "#valid_dataframe[\"lag28_mean60\"] = valid_dataframe.groupby(\"ts_id\")[\"lag28\"].rolling(60).mean().reset_index(0, drop=True)\n",
    "#valid_dataframe[\"lag28_mean90\"] = valid_dataframe.groupby(\"ts_id\")[\"lag28\"].rolling(90).mean().reset_index(0, drop=True)\n",
    "#valid_dataframe[\"lag28_mean180\"] = valid_dataframe.groupby(\"ts_id\")[\"lag28\"].rolling(180).mean().reset_index(0, drop=True)\n",
    "#valid_dataframe[\"lag28_std7\"] = valid_dataframe.groupby(\"ts_id\")[\"lag28\"].rolling(7).std().reset_index(0, drop=True)\n",
    "#valid_dataframe[\"lag28_std30\"] = valid_dataframe.groupby(\"ts_id\")[\"lag28\"].rolling(30).std().reset_index(0, drop=True)"
   ]
  },
  {
   "cell_type": "code",
   "execution_count": 30,
   "metadata": {},
   "outputs": [],
   "source": [
    "#eval_dataframe = (eval_dataframe\n",
    "#        .merge(scale, how=\"left\", on=[\"store_id\",\"item_id\"])\n",
    "#        .assign(lag28 = lambda x: x.lag28/x.s)\n",
    "#        .drop(\"s\", axis=1)\n",
    "#       )\n",
    "\n",
    "# updating rolling-window features\n",
    "#eval_dataframe[\"lag28_mean7\"] = eval_dataframe.groupby(\"ts_id\")[\"lag28\"].rolling(7).mean().reset_index(0, drop=True)\n",
    "#eval_dataframe[\"lag28_mean30\"] = eval_dataframe.groupby(\"ts_id\")[\"lag28\"].rolling(30).mean().reset_index(0, drop=True)\n",
    "#eval_dataframe[\"lag28_mean60\"] = eval_dataframe.groupby(\"ts_id\")[\"lag28\"].rolling(60).mean().reset_index(0, drop=True)\n",
    "#eval_dataframe[\"lag28_mean90\"] = eval_dataframe.groupby(\"ts_id\")[\"lag28\"].rolling(90).mean().reset_index(0, drop=True)\n",
    "#eval_dataframe[\"lag28_mean180\"] = eval_dataframe.groupby(\"ts_id\")[\"lag28\"].rolling(180).mean().reset_index(0, drop=True)\n",
    "#eval_dataframe[\"lag28_std7\"] = eval_dataframe.groupby(\"ts_id\")[\"lag28\"].rolling(7).std().reset_index(0, drop=True)\n",
    "#eval_dataframe[\"lag28_std30\"] = eval_dataframe.groupby(\"ts_id\")[\"lag28\"].rolling(30).std().reset_index(0, drop=True)"
   ]
  },
  {
   "cell_type": "markdown",
   "metadata": {},
   "source": [
    "***\n",
    "### predictions for validation period"
   ]
  },
  {
   "cell_type": "code",
   "execution_count": 31,
   "metadata": {},
   "outputs": [],
   "source": [
    "predictions_valid = pd.merge(fcaster.predict(valid_dataframe), \n",
    "                             hierarchy.loc[:, [\"id\", \"item_id\", \"store_id\"]], \n",
    "                             how=\"left\")\n",
    "predictions_valid[\"id\"] = predictions_valid.id.map(lambda x: x+\"_validation\")"
   ]
  },
  {
   "cell_type": "code",
   "execution_count": 32,
   "metadata": {},
   "outputs": [],
   "source": [
    "#predictions_valid = (\n",
    "#    predictions_valid\n",
    "#    .merge(scales, how=\"left\", on=[\"store_id\",\"item_id\"])\n",
    "#    .assign(y_pred = lambda x: x.y_pred*x.s)\n",
    "#    .assign(lag28 = lambda x: x.lag28*)\n",
    "#    .drop(\"s\", axis=1)\n",
    "#)"
   ]
  },
  {
   "cell_type": "code",
   "execution_count": 33,
   "metadata": {},
   "outputs": [
    {
     "data": {
      "text/plain": [
       "count    853720.000000\n",
       "mean          1.478047\n",
       "std           3.071841\n",
       "min         -10.898887\n",
       "25%           0.350657\n",
       "50%           0.690792\n",
       "75%           1.431833\n",
       "max         193.854143\n",
       "Name: y_pred, dtype: float64"
      ]
     },
     "execution_count": 33,
     "metadata": {},
     "output_type": "execute_result"
    }
   ],
   "source": [
    "predictions_valid.y_pred.describe()"
   ]
  },
  {
   "cell_type": "code",
   "execution_count": 34,
   "metadata": {},
   "outputs": [
    {
     "data": {
      "image/png": "[encoded data removed]",
      "text/plain": [
       "<Figure size 1080x360 with 1 Axes>"
      ]
     },
     "metadata": {
      "needs_background": "light"
     },
     "output_type": "display_data"
    }
   ],
   "source": [
    "plt.figure(figsize=(15,5))\n",
    "sns.distplot(predictions_valid.query(\"y_pred < 10\").y_pred.values, kde=False, norm_hist=True)\n",
    "plt.title(\"forecast distribution on validation period\")\n",
    "plt.grid()"
   ]
  },
  {
   "cell_type": "code",
   "execution_count": 35,
   "metadata": {},
   "outputs": [],
   "source": [
    "predictions_valid = (predictions_valid\n",
    "                     .pivot(index=\"id\", columns=\"ds\", values=\"y_pred\")\n",
    "                     .reset_index()\n",
    "                     )\n",
    "predictions_valid.columns = [\"id\"] + [f\"F{i}\" for i in range (1,29)]"
   ]
  },
  {
   "cell_type": "markdown",
   "metadata": {},
   "source": [
    "***\n",
    "### predictions for evaluation period"
   ]
  },
  {
   "cell_type": "code",
   "execution_count": 36,
   "metadata": {},
   "outputs": [],
   "source": [
    "#eval_dataframe = pd.merge(eval_dataframe, ts_stats, how=\"left\")"
   ]
  },
  {
   "cell_type": "code",
   "execution_count": 37,
   "metadata": {},
   "outputs": [],
   "source": [
    "predictions_eval = pd.merge(fcaster.predict(eval_dataframe), \n",
    "                            hierarchy.loc[:, [\"id\", \"item_id\", \"store_id\"]],\n",
    "                            how=\"left\")\n",
    "predictions_eval[\"id\"] = predictions_eval.id.map(lambda x: x+\"_evaluation\")"
   ]
  },
  {
   "cell_type": "code",
   "execution_count": 38,
   "metadata": {},
   "outputs": [],
   "source": [
    "#predictions_eval = (\n",
    "#    predictions_eval\n",
    "#    .merge(scales, how=\"left\", on=[\"store_id\",\"item_id\"])\n",
    "#    .assign(y_pred = lambda x: x.y_pred*x.s)\n",
    "#    .drop(\"s\", axis=1)\n",
    "#)"
   ]
  },
  {
   "cell_type": "code",
   "execution_count": 39,
   "metadata": {},
   "outputs": [
    {
     "data": {
      "text/plain": [
       "count    853720.000000\n",
       "mean          0.821000\n",
       "std           1.902484\n",
       "min          -4.710068\n",
       "25%           0.194205\n",
       "50%           0.277045\n",
       "75%           0.567504\n",
       "max          87.189787\n",
       "Name: y_pred, dtype: float64"
      ]
     },
     "execution_count": 39,
     "metadata": {},
     "output_type": "execute_result"
    }
   ],
   "source": [
    "predictions_eval.y_pred.describe()"
   ]
  },
  {
   "cell_type": "code",
   "execution_count": 40,
   "metadata": {},
   "outputs": [
    {
     "data": {
      "image/png": "[encoded data removed]",
      "text/plain": [
       "<Figure size 1080x360 with 1 Axes>"
      ]
     },
     "metadata": {
      "needs_background": "light"
     },
     "output_type": "display_data"
    }
   ],
   "source": [
    "plt.figure(figsize=(15,5))\n",
    "sns.distplot(predictions_eval.query(\"y_pred < 10\").y_pred.values, kde=False)\n",
    "plt.title(\"forecast distribution on evaluation period\")\n",
    "plt.grid()"
   ]
  },
  {
   "cell_type": "code",
   "execution_count": 41,
   "metadata": {},
   "outputs": [],
   "source": [
    "predictions_eval = (predictions_eval\n",
    "                    .pivot(index=\"id\", columns=\"ds\", values=\"y_pred\")\n",
    "                    .reset_index()\n",
    "                   )\n",
    "predictions_eval.columns = [\"id\"] + [f\"F{i}\" for i in range (1,29)]"
   ]
  },
  {
   "cell_type": "markdown",
   "metadata": {},
   "source": [
    "***\n",
    "### submission file"
   ]
  },
  {
   "cell_type": "code",
   "execution_count": 42,
   "metadata": {},
   "outputs": [],
   "source": [
    "predictions_all = pd.concat([predictions_valid, predictions_eval], ignore_index=True)"
   ]
  },
  {
   "cell_type": "code",
   "execution_count": 43,
   "metadata": {},
   "outputs": [],
   "source": [
    "assert set(predictions_all.id) == set(submission.id), \\\n",
    "    \"there are missing time series predictions.\""
   ]
  },
  {
   "cell_type": "code",
   "execution_count": 44,
   "metadata": {},
   "outputs": [],
   "source": [
    "submission = pd.merge(submission.loc[:, [\"id\"]], predictions_all)"
   ]
  },
  {
   "cell_type": "code",
   "execution_count": 46,
   "metadata": {},
   "outputs": [],
   "source": [
    "file_path = \"../output/lgbm_bottom_v38.csv.gz\"\n",
    "\n",
    "if os.path.isfile(file_path):\n",
    "    print(\"File already exists.\")\n",
    "else:\n",
    "    submission.to_csv(file_path, index=False, compression=\"gzip\")"
   ]
  },
  {
   "cell_type": "code",
   "execution_count": 48,
   "metadata": {},
   "outputs": [
    {
     "name": "stdout",
     "output_type": "stream",
     "text": [
      "forecast_level1.csv\tlgbm_bottom_v19.csv.gz\tlgbm_bottom_v32.csv.gz\n",
      "forecast_level2.csv\tlgbm_bottom_v2.csv.gz\tlgbm_bottom_v33.csv.gz\n",
      "forecast_level3.csv\tlgbm_bottom_v20.csv.gz\tlgbm_bottom_v34.csv.gz\n",
      "forecast_root.csv\tlgbm_bottom_v21.csv.gz\tlgbm_bottom_v35.csv.gz\n",
      "kaggle_submissions\tlgbm_bottom_v22.csv.gz\tlgbm_bottom_v36.csv.gz\n",
      "lgbm_bottom_v1.csv.gz\tlgbm_bottom_v23.csv.gz\tlgbm_bottom_v37.csv.gz\n",
      "lgbm_bottom_v10.csv.gz\tlgbm_bottom_v24.csv.gz\tlgbm_bottom_v38.csv.gz\n",
      "lgbm_bottom_v11.csv.gz\tlgbm_bottom_v25.csv.gz\tlgbm_bottom_v4.csv.gz\n",
      "lgbm_bottom_v12.csv.gz\tlgbm_bottom_v26.csv.gz\tlgbm_bottom_v5.csv.gz\n",
      "lgbm_bottom_v13.csv.gz\tlgbm_bottom_v27.csv.gz\tlgbm_bottom_v6.csv.gz\n",
      "lgbm_bottom_v14.csv.gz\tlgbm_bottom_v28.csv.gz\tlgbm_bottom_v7.csv.gz\n",
      "lgbm_bottom_v15.csv.gz\tlgbm_bottom_v29.csv.gz\tlgbm_bottom_v8.csv.gz\n",
      "lgbm_bottom_v16.csv.gz\tlgbm_bottom_v3.csv.gz\tlgbm_bottom_v9.csv.gz\n",
      "lgbm_bottom_v17.csv.gz\tlgbm_bottom_v30.csv.gz\tresiduals_level12.parquet\n",
      "lgbm_bottom_v18.csv.gz\tlgbm_bottom_v31.csv.gz\n"
     ]
    }
   ],
   "source": [
    "!ls ../output"
   ]
  },
  {
   "cell_type": "code",
   "execution_count": 49,
   "metadata": {},
   "outputs": [
    {
     "name": "stdout",
     "output_type": "stream",
     "text": [
      "Warning: Your Kaggle API key is readable by other users on this system! To fix this, you can run 'chmod 600 /home/turing/.kaggle/kaggle.json'\n",
      "100%|██████████████████████████████████████| 12.6M/12.6M [00:04<00:00, 2.94MB/s]\n",
      "Successfully submitted to M5 Forecasting - Accuracy"
     ]
    }
   ],
   "source": [
    "!kaggle competitions submit -c m5-forecasting-accuracy -f ../output/lgbm_bottom_v38.csv.gz -m \"\""
   ]
  },
  {
   "cell_type": "markdown",
   "metadata": {},
   "source": [
    "***"
   ]
  }
 ],
 "metadata": {
  "kernelspec": {
   "display_name": "Python 3",
   "language": "python",
   "name": "python3"
  },
  "language_info": {
   "codemirror_mode": {
    "name": "ipython",
    "version": 3
   },
   "file_extension": ".py",
   "mimetype": "text/x-python",
   "name": "python",
   "nbconvert_exporter": "python",
   "pygments_lexer": "ipython3",
   "version": "3.7.4"
  }
 },
 "nbformat": 4,
 "nbformat_minor": 4
}

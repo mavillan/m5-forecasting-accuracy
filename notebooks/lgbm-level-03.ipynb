{
 "cells": [
  {
   "cell_type": "markdown",
   "metadata": {},
   "source": [
    "## Level 3: Unit sales of all products, aggregated for all stores"
   ]
  },
  {
   "cell_type": "code",
   "execution_count": 1,
   "metadata": {},
   "outputs": [],
   "source": [
    "import os\n",
    "import numpy as np\n",
    "import pandas as pd\n",
    "import lightgbm as lgb\n",
    "import matplotlib.pyplot as plt\n",
    "\n",
    "from tsforest.trend import compute_trend_models\n",
    "from tsforest.forecaster import LightGBMForecaster\n",
    "\n",
    "# local modules\n",
    "import sys\n",
    "sys.path.append(\"../lib/\")\n",
    "from utils import compute_scaling, reduce_mem_usage\n",
    "from evaluation import WRMSSEEvaluator\n",
    "\n",
    "SEEDS = [2, 3, 5, 7, 11, 13, 17, 19, 23, 29, 31, 37, 41, 43, 47, 53, 59, 61, 67, 71]"
   ]
  },
  {
   "cell_type": "markdown",
   "metadata": {},
   "source": [
    "***"
   ]
  },
  {
   "cell_type": "code",
   "execution_count": 2,
   "metadata": {},
   "outputs": [],
   "source": [
    "data = (pd.read_parquet(\"../input/train_dataframe.parquet\")\n",
    "        .groupby([\"store_id\",\"ds\"])\n",
    "        .agg({\"q\":\"sum\",\n",
    "              \"state_id\":lambda x: int(x.unique()),\n",
    "              \"snap\":lambda x: int(x.unique()),\n",
    "              \"event_name_1\":lambda x: int(x.unique()),\n",
    "             })\n",
    "        .reset_index()\n",
    "       )\n",
    "\n",
    "data[\"q\"] = data.q.astype(int)\n",
    "data.rename({\"q\":\"y\"}, axis=1, inplace=True)\n",
    "data.sort_values([\"store_id\",\"ds\"], inplace=True)\n",
    "data.reset_index(drop=True, inplace=True)"
   ]
  },
  {
   "cell_type": "code",
   "execution_count": 3,
   "metadata": {},
   "outputs": [
    {
     "data": {
      "text/html": [
       "<div>\n",
       "<style scoped>\n",
       "    .dataframe tbody tr th:only-of-type {\n",
       "        vertical-align: middle;\n",
       "    }\n",
       "\n",
       "    .dataframe tbody tr th {\n",
       "        vertical-align: top;\n",
       "    }\n",
       "\n",
       "    .dataframe thead th {\n",
       "        text-align: right;\n",
       "    }\n",
       "</style>\n",
       "<table border=\"1\" class=\"dataframe\">\n",
       "  <thead>\n",
       "    <tr style=\"text-align: right;\">\n",
       "      <th></th>\n",
       "      <th>store_id</th>\n",
       "      <th>weight</th>\n",
       "    </tr>\n",
       "  </thead>\n",
       "  <tbody>\n",
       "    <tr>\n",
       "      <th>0</th>\n",
       "      <td>1</td>\n",
       "      <td>0.110888</td>\n",
       "    </tr>\n",
       "    <tr>\n",
       "      <th>1</th>\n",
       "      <td>2</td>\n",
       "      <td>0.110247</td>\n",
       "    </tr>\n",
       "    <tr>\n",
       "      <th>2</th>\n",
       "      <td>3</td>\n",
       "      <td>0.155628</td>\n",
       "    </tr>\n",
       "    <tr>\n",
       "      <th>3</th>\n",
       "      <td>4</td>\n",
       "      <td>0.065608</td>\n",
       "    </tr>\n",
       "    <tr>\n",
       "      <th>4</th>\n",
       "      <td>5</td>\n",
       "      <td>0.077561</td>\n",
       "    </tr>\n",
       "  </tbody>\n",
       "</table>\n",
       "</div>"
      ],
      "text/plain": [
       "   store_id    weight\n",
       "0         1  0.110888\n",
       "1         2  0.110247\n",
       "2         3  0.155628\n",
       "3         4  0.065608\n",
       "4         5  0.077561"
      ]
     },
     "execution_count": 3,
     "metadata": {},
     "output_type": "execute_result"
    }
   ],
   "source": [
    "weights_level3 = pd.read_parquet(\"../input/weights_level3.parquet\")\n",
    "weights_level3.head()"
   ]
  },
  {
   "cell_type": "code",
   "execution_count": 4,
   "metadata": {},
   "outputs": [
    {
     "data": {
      "text/html": [
       "<div>\n",
       "<style scoped>\n",
       "    .dataframe tbody tr th:only-of-type {\n",
       "        vertical-align: middle;\n",
       "    }\n",
       "\n",
       "    .dataframe tbody tr th {\n",
       "        vertical-align: top;\n",
       "    }\n",
       "\n",
       "    .dataframe thead th {\n",
       "        text-align: right;\n",
       "    }\n",
       "</style>\n",
       "<table border=\"1\" class=\"dataframe\">\n",
       "  <thead>\n",
       "    <tr style=\"text-align: right;\">\n",
       "      <th></th>\n",
       "      <th>store_id</th>\n",
       "      <th>s</th>\n",
       "    </tr>\n",
       "  </thead>\n",
       "  <tbody>\n",
       "    <tr>\n",
       "      <th>0</th>\n",
       "      <td>1</td>\n",
       "      <td>865.992302</td>\n",
       "    </tr>\n",
       "    <tr>\n",
       "      <th>1</th>\n",
       "      <td>2</td>\n",
       "      <td>758.015494</td>\n",
       "    </tr>\n",
       "    <tr>\n",
       "      <th>2</th>\n",
       "      <td>3</td>\n",
       "      <td>961.931475</td>\n",
       "    </tr>\n",
       "    <tr>\n",
       "      <th>3</th>\n",
       "      <td>4</td>\n",
       "      <td>316.500720</td>\n",
       "    </tr>\n",
       "    <tr>\n",
       "      <th>4</th>\n",
       "      <td>5</td>\n",
       "      <td>596.928132</td>\n",
       "    </tr>\n",
       "  </tbody>\n",
       "</table>\n",
       "</div>"
      ],
      "text/plain": [
       "   store_id           s\n",
       "0         1  865.992302\n",
       "1         2  758.015494\n",
       "2         3  961.931475\n",
       "3         4  316.500720\n",
       "4         5  596.928132"
      ]
     },
     "execution_count": 4,
     "metadata": {},
     "output_type": "execute_result"
    }
   ],
   "source": [
    "scaling_input = pd.read_parquet(\"../input/scaling_input.parquet\")\n",
    "scales = compute_scaling(scaling_input, agg_columns=[\"store_id\"]).rename({\"q\":\"s\"}, axis=1)\n",
    "scales.head()"
   ]
  },
  {
   "cell_type": "code",
   "execution_count": 5,
   "metadata": {},
   "outputs": [
    {
     "data": {
      "text/html": [
       "<div>\n",
       "<style scoped>\n",
       "    .dataframe tbody tr th:only-of-type {\n",
       "        vertical-align: middle;\n",
       "    }\n",
       "\n",
       "    .dataframe tbody tr th {\n",
       "        vertical-align: top;\n",
       "    }\n",
       "\n",
       "    .dataframe thead th {\n",
       "        text-align: right;\n",
       "    }\n",
       "</style>\n",
       "<table border=\"1\" class=\"dataframe\">\n",
       "  <thead>\n",
       "    <tr style=\"text-align: right;\">\n",
       "      <th></th>\n",
       "      <th>store_id</th>\n",
       "      <th>weight</th>\n",
       "    </tr>\n",
       "  </thead>\n",
       "  <tbody>\n",
       "    <tr>\n",
       "      <th>0</th>\n",
       "      <td>1</td>\n",
       "      <td>0.929992</td>\n",
       "    </tr>\n",
       "    <tr>\n",
       "      <th>1</th>\n",
       "      <td>2</td>\n",
       "      <td>1.056317</td>\n",
       "    </tr>\n",
       "    <tr>\n",
       "      <th>2</th>\n",
       "      <td>3</td>\n",
       "      <td>1.175037</td>\n",
       "    </tr>\n",
       "    <tr>\n",
       "      <th>3</th>\n",
       "      <td>4</td>\n",
       "      <td>1.505539</td>\n",
       "    </tr>\n",
       "    <tr>\n",
       "      <th>4</th>\n",
       "      <td>5</td>\n",
       "      <td>0.943683</td>\n",
       "    </tr>\n",
       "  </tbody>\n",
       "</table>\n",
       "</div>"
      ],
      "text/plain": [
       "   store_id    weight\n",
       "0         1  0.929992\n",
       "1         2  1.056317\n",
       "2         3  1.175037\n",
       "3         4  1.505539\n",
       "4         5  0.943683"
      ]
     },
     "execution_count": 5,
     "metadata": {},
     "output_type": "execute_result"
    }
   ],
   "source": [
    "weights = (weights_level3\n",
    "    .merge(scales, how=\"inner\", on=[\"store_id\"])\n",
    "    .assign(weight = lambda x: x.weight/x.s)\n",
    "    .assign(weight = lambda x: x.weight/x.weight.median())\n",
    "    .drop([\"s\"], axis=1)\n",
    ")\n",
    "weights.head()"
   ]
  },
  {
   "cell_type": "code",
   "execution_count": 6,
   "metadata": {},
   "outputs": [
    {
     "data": {
      "text/html": [
       "<div>\n",
       "<style scoped>\n",
       "    .dataframe tbody tr th:only-of-type {\n",
       "        vertical-align: middle;\n",
       "    }\n",
       "\n",
       "    .dataframe tbody tr th {\n",
       "        vertical-align: top;\n",
       "    }\n",
       "\n",
       "    .dataframe thead th {\n",
       "        text-align: right;\n",
       "    }\n",
       "</style>\n",
       "<table border=\"1\" class=\"dataframe\">\n",
       "  <thead>\n",
       "    <tr style=\"text-align: right;\">\n",
       "      <th></th>\n",
       "      <th>store_id</th>\n",
       "      <th>ds</th>\n",
       "      <th>y</th>\n",
       "      <th>state_id</th>\n",
       "      <th>snap</th>\n",
       "      <th>event_name_1</th>\n",
       "      <th>weight</th>\n",
       "    </tr>\n",
       "  </thead>\n",
       "  <tbody>\n",
       "    <tr>\n",
       "      <th>0</th>\n",
       "      <td>1</td>\n",
       "      <td>2011-01-29</td>\n",
       "      <td>4337</td>\n",
       "      <td>1</td>\n",
       "      <td>0</td>\n",
       "      <td>1</td>\n",
       "      <td>0.929992</td>\n",
       "    </tr>\n",
       "    <tr>\n",
       "      <th>1</th>\n",
       "      <td>1</td>\n",
       "      <td>2011-01-30</td>\n",
       "      <td>4155</td>\n",
       "      <td>1</td>\n",
       "      <td>0</td>\n",
       "      <td>1</td>\n",
       "      <td>0.929992</td>\n",
       "    </tr>\n",
       "    <tr>\n",
       "      <th>2</th>\n",
       "      <td>1</td>\n",
       "      <td>2011-01-31</td>\n",
       "      <td>2816</td>\n",
       "      <td>1</td>\n",
       "      <td>0</td>\n",
       "      <td>1</td>\n",
       "      <td>0.929992</td>\n",
       "    </tr>\n",
       "    <tr>\n",
       "      <th>3</th>\n",
       "      <td>1</td>\n",
       "      <td>2011-02-01</td>\n",
       "      <td>3051</td>\n",
       "      <td>1</td>\n",
       "      <td>1</td>\n",
       "      <td>1</td>\n",
       "      <td>0.929992</td>\n",
       "    </tr>\n",
       "    <tr>\n",
       "      <th>4</th>\n",
       "      <td>1</td>\n",
       "      <td>2011-02-02</td>\n",
       "      <td>2630</td>\n",
       "      <td>1</td>\n",
       "      <td>1</td>\n",
       "      <td>1</td>\n",
       "      <td>0.929992</td>\n",
       "    </tr>\n",
       "  </tbody>\n",
       "</table>\n",
       "</div>"
      ],
      "text/plain": [
       "   store_id         ds     y  state_id  snap  event_name_1    weight\n",
       "0         1 2011-01-29  4337         1     0             1  0.929992\n",
       "1         1 2011-01-30  4155         1     0             1  0.929992\n",
       "2         1 2011-01-31  2816         1     0             1  0.929992\n",
       "3         1 2011-02-01  3051         1     1             1  0.929992\n",
       "4         1 2011-02-02  2630         1     1             1  0.929992"
      ]
     },
     "execution_count": 6,
     "metadata": {},
     "output_type": "execute_result"
    }
   ],
   "source": [
    "data = pd.merge(data, weights, how=\"left\", on=[\"store_id\"])\n",
    "data.head()"
   ]
  },
  {
   "cell_type": "markdown",
   "metadata": {},
   "source": [
    "***\n",
    "### time series visualization"
   ]
  },
  {
   "cell_type": "code",
   "execution_count": 7,
   "metadata": {},
   "outputs": [
    {
     "data": {
      "image/png": "[encoded data removed]",
      "text/plain": [
       "<Figure size 1080x360 with 1 Axes>"
      ]
     },
     "metadata": {
      "needs_background": "light"
     },
     "output_type": "display_data"
    }
   ],
   "source": [
    "store_id = 3\n",
    "start_date = '2015-03-01'\n",
    "end_date = '2015-04-30'\n",
    "\n",
    "df = data.query(\"store_id == @store_id & @start_date <= ds <= @end_date\")\n",
    "\n",
    "plt.figure(figsize=(15,5))\n",
    "plt.plot_date(df.ds, df.y, \"o-\")\n",
    "plt.xticks(rotation=90)\n",
    "plt.grid()\n",
    "plt.show()"
   ]
  },
  {
   "cell_type": "markdown",
   "metadata": {},
   "source": [
    "***"
   ]
  },
  {
   "cell_type": "code",
   "execution_count": 8,
   "metadata": {},
   "outputs": [
    {
     "data": {
      "text/plain": [
       "[(Timestamp('2015-04-25 00:00:00'), Timestamp('2015-05-22 00:00:00')),\n",
       " (Timestamp('2015-05-23 00:00:00'), Timestamp('2015-06-19 00:00:00')),\n",
       " (Timestamp('2016-02-27 00:00:00'), Timestamp('2016-03-26 00:00:00')),\n",
       " (Timestamp('2016-03-27 00:00:00'), Timestamp('2016-04-24 00:00:00'))]"
      ]
     },
     "execution_count": 8,
     "metadata": {},
     "output_type": "execute_result"
    }
   ],
   "source": [
    "valid_periods = [(pd.to_datetime(\"2015-04-25\"), pd.to_datetime(\"2015-05-22\")),\n",
    "                 (pd.to_datetime(\"2015-05-23\"), pd.to_datetime(\"2015-06-19\")),\n",
    "                 (pd.to_datetime(\"2016-02-27\"), pd.to_datetime(\"2016-03-26\")),\n",
    "                 (pd.to_datetime(\"2016-03-27\"), pd.to_datetime(\"2016-04-24\")),\n",
    "                ]\n",
    "valid_periods"
   ]
  },
  {
   "cell_type": "markdown",
   "metadata": {},
   "source": [
    "***\n",
    "### training validation models"
   ]
  },
  {
   "cell_type": "code",
   "execution_count": 9,
   "metadata": {},
   "outputs": [],
   "source": [
    "model_params = {\n",
    "    'objective':'l2',\n",
    "    'metric':'None',\n",
    "    'num_iterations':10000,\n",
    "    'early_stopping_rounds':250,\n",
    "    #'max_bin': 255,\n",
    "    'num_leaves': 31, \n",
    "    'learning_rate': 0.05, \n",
    "    'min_data_in_leaf': 20,\n",
    "    #'min_sum_hessian_in_leaf':1e-4,\n",
    "    'feature_fraction': 0.66,\n",
    "    'bagging_fraction':0.9,\n",
    "    'bagging_freq':1,\n",
    "    'lambda_l2':1.,\n",
    "    'seed':23\n",
    "}\n",
    "\n",
    "time_features = [\n",
    "    \"year\",\n",
    "    \"month\",\n",
    "    \"year_week\",\n",
    "    \"year_day\",\n",
    "    \"week_day\",\n",
    "    \"month_progress\",\n",
    "    \"week_day_cos\",\n",
    "    \"week_day_sin\",\n",
    "    \"year_day_cos\",\n",
    "    \"year_day_sin\",\n",
    "    \"year_week_cos\",\n",
    "    \"year_week_sin\",\n",
    "    \"month_cos\",\n",
    "    \"month_sin\"\n",
    "]\n",
    "\n",
    "model_kwargs = {\n",
    "    \"model_params\":model_params,\n",
    "    \"time_features\":time_features,\n",
    "    \"categorical_features\":{\n",
    "        \"store_id\":\"default\",\n",
    "        \"state_id\":\"default\",\n",
    "        \"event_name_1\":\"default\",\n",
    "        \"snap\":\"default\"},\n",
    "    \"ts_uid_columns\":[\"store_id\"],  \n",
    "}"
   ]
  },
  {
   "cell_type": "code",
   "execution_count": 10,
   "metadata": {},
   "outputs": [],
   "source": [
    "# 4+ years of history\n",
    "train_history = 1800"
   ]
  },
  {
   "cell_type": "code",
   "execution_count": 11,
   "metadata": {},
   "outputs": [
    {
     "name": "stdout",
     "output_type": "stream",
     "text": [
      "############################################### 1/4 ################################################\n",
      "##### Validation period: (Timestamp('2015-04-25 00:00:00'), Timestamp('2015-05-22 00:00:00')) ######\n",
      "####################################################################################################\n"
     ]
    },
    {
     "name": "stderr",
     "output_type": "stream",
     "text": [
      "100%|██████████| 10/10 [00:00<00:00, 4022.16it/s]\n"
     ]
    },
    {
     "name": "stdout",
     "output_type": "stream",
     "text": [
      "Training until validation scores don't improve for 250 rounds\n",
      "[25]\tvalid_0's wrmsse: 0.541659\n",
      "[50]\tvalid_0's wrmsse: 0.438901\n",
      "[75]\tvalid_0's wrmsse: 0.421622\n",
      "[100]\tvalid_0's wrmsse: 0.413799\n",
      "[125]\tvalid_0's wrmsse: 0.401899\n",
      "[150]\tvalid_0's wrmsse: 0.389818\n",
      "[175]\tvalid_0's wrmsse: 0.38654\n",
      "[200]\tvalid_0's wrmsse: 0.383165\n",
      "[225]\tvalid_0's wrmsse: 0.382737\n",
      "[250]\tvalid_0's wrmsse: 0.379191\n",
      "[275]\tvalid_0's wrmsse: 0.378429\n",
      "[300]\tvalid_0's wrmsse: 0.377365\n",
      "[325]\tvalid_0's wrmsse: 0.376632\n",
      "[350]\tvalid_0's wrmsse: 0.373421\n",
      "[375]\tvalid_0's wrmsse: 0.371909\n",
      "[400]\tvalid_0's wrmsse: 0.369543\n",
      "[425]\tvalid_0's wrmsse: 0.369562\n",
      "[450]\tvalid_0's wrmsse: 0.367622\n",
      "[475]\tvalid_0's wrmsse: 0.366297\n",
      "[500]\tvalid_0's wrmsse: 0.36561\n",
      "[525]\tvalid_0's wrmsse: 0.365048\n",
      "[550]\tvalid_0's wrmsse: 0.364463\n",
      "[575]\tvalid_0's wrmsse: 0.364177\n",
      "[600]\tvalid_0's wrmsse: 0.363855\n",
      "[625]\tvalid_0's wrmsse: 0.363183\n",
      "[650]\tvalid_0's wrmsse: 0.361995\n",
      "[675]\tvalid_0's wrmsse: 0.360887\n",
      "[700]\tvalid_0's wrmsse: 0.360337\n",
      "[725]\tvalid_0's wrmsse: 0.360098\n",
      "[750]\tvalid_0's wrmsse: 0.358518\n",
      "[775]\tvalid_0's wrmsse: 0.358789\n",
      "[800]\tvalid_0's wrmsse: 0.357881\n",
      "[825]\tvalid_0's wrmsse: 0.358201\n",
      "[850]\tvalid_0's wrmsse: 0.358719\n",
      "[875]\tvalid_0's wrmsse: 0.359156\n",
      "[900]\tvalid_0's wrmsse: 0.35927\n",
      "[925]\tvalid_0's wrmsse: 0.3601\n",
      "[950]\tvalid_0's wrmsse: 0.360363\n",
      "[975]\tvalid_0's wrmsse: 0.359694\n",
      "[1000]\tvalid_0's wrmsse: 0.359743\n",
      "[1025]\tvalid_0's wrmsse: 0.360134\n",
      "[1050]\tvalid_0's wrmsse: 0.360124\n",
      "[1075]\tvalid_0's wrmsse: 0.359964\n",
      "[1100]\tvalid_0's wrmsse: 0.361\n",
      "Early stopping, best iteration is:\n",
      "[870]\tvalid_0's wrmsse: 0.35677\n",
      "############################################### 2/4 ################################################\n",
      "##### Validation period: (Timestamp('2015-05-23 00:00:00'), Timestamp('2015-06-19 00:00:00')) ######\n",
      "####################################################################################################\n"
     ]
    },
    {
     "name": "stderr",
     "output_type": "stream",
     "text": [
      "100%|██████████| 10/10 [00:00<00:00, 14841.84it/s]\n"
     ]
    },
    {
     "name": "stdout",
     "output_type": "stream",
     "text": [
      "Training until validation scores don't improve for 250 rounds\n",
      "[25]\tvalid_0's wrmsse: 0.744209\n",
      "[50]\tvalid_0's wrmsse: 0.663924\n",
      "[75]\tvalid_0's wrmsse: 0.637192\n",
      "[100]\tvalid_0's wrmsse: 0.621341\n",
      "[125]\tvalid_0's wrmsse: 0.610965\n",
      "[150]\tvalid_0's wrmsse: 0.606493\n",
      "[175]\tvalid_0's wrmsse: 0.602005\n",
      "[200]\tvalid_0's wrmsse: 0.600143\n",
      "[225]\tvalid_0's wrmsse: 0.596394\n",
      "[250]\tvalid_0's wrmsse: 0.59598\n",
      "[275]\tvalid_0's wrmsse: 0.594331\n",
      "[300]\tvalid_0's wrmsse: 0.592978\n",
      "[325]\tvalid_0's wrmsse: 0.590599\n",
      "[350]\tvalid_0's wrmsse: 0.588267\n",
      "[375]\tvalid_0's wrmsse: 0.587436\n",
      "[400]\tvalid_0's wrmsse: 0.58695\n",
      "[425]\tvalid_0's wrmsse: 0.585969\n",
      "[450]\tvalid_0's wrmsse: 0.584213\n",
      "[475]\tvalid_0's wrmsse: 0.583123\n",
      "[500]\tvalid_0's wrmsse: 0.582314\n",
      "[525]\tvalid_0's wrmsse: 0.582415\n",
      "[550]\tvalid_0's wrmsse: 0.581508\n",
      "[575]\tvalid_0's wrmsse: 0.581069\n",
      "[600]\tvalid_0's wrmsse: 0.580716\n",
      "[625]\tvalid_0's wrmsse: 0.578794\n",
      "[650]\tvalid_0's wrmsse: 0.579335\n",
      "[675]\tvalid_0's wrmsse: 0.579958\n",
      "[700]\tvalid_0's wrmsse: 0.579007\n",
      "[725]\tvalid_0's wrmsse: 0.579587\n",
      "[750]\tvalid_0's wrmsse: 0.579599\n",
      "[775]\tvalid_0's wrmsse: 0.578791\n",
      "[800]\tvalid_0's wrmsse: 0.578197\n",
      "[825]\tvalid_0's wrmsse: 0.578356\n",
      "[850]\tvalid_0's wrmsse: 0.578564\n",
      "[875]\tvalid_0's wrmsse: 0.577687\n",
      "[900]\tvalid_0's wrmsse: 0.576745\n",
      "[925]\tvalid_0's wrmsse: 0.576752\n",
      "[950]\tvalid_0's wrmsse: 0.576823\n",
      "[975]\tvalid_0's wrmsse: 0.575528\n",
      "[1000]\tvalid_0's wrmsse: 0.575963\n",
      "[1025]\tvalid_0's wrmsse: 0.575617\n",
      "[1050]\tvalid_0's wrmsse: 0.575804\n",
      "[1075]\tvalid_0's wrmsse: 0.575527\n",
      "[1100]\tvalid_0's wrmsse: 0.575523\n",
      "[1125]\tvalid_0's wrmsse: 0.575886\n",
      "[1150]\tvalid_0's wrmsse: 0.575793\n",
      "[1175]\tvalid_0's wrmsse: 0.575576\n",
      "[1200]\tvalid_0's wrmsse: 0.575458\n",
      "[1225]\tvalid_0's wrmsse: 0.574902\n",
      "[1250]\tvalid_0's wrmsse: 0.576038\n",
      "[1275]\tvalid_0's wrmsse: 0.576076\n",
      "[1300]\tvalid_0's wrmsse: 0.575739\n",
      "[1325]\tvalid_0's wrmsse: 0.575619\n",
      "[1350]\tvalid_0's wrmsse: 0.575105\n",
      "[1375]\tvalid_0's wrmsse: 0.575469\n",
      "[1400]\tvalid_0's wrmsse: 0.575373\n",
      "[1425]\tvalid_0's wrmsse: 0.5758\n",
      "[1450]\tvalid_0's wrmsse: 0.576237\n",
      "Early stopping, best iteration is:\n",
      "[1218]\tvalid_0's wrmsse: 0.574856\n",
      "############################################### 3/4 ################################################\n",
      "##### Validation period: (Timestamp('2016-02-27 00:00:00'), Timestamp('2016-03-26 00:00:00')) ######\n",
      "####################################################################################################\n"
     ]
    },
    {
     "name": "stderr",
     "output_type": "stream",
     "text": [
      "100%|██████████| 10/10 [00:00<00:00, 8348.54it/s]\n"
     ]
    },
    {
     "name": "stdout",
     "output_type": "stream",
     "text": [
      "Training until validation scores don't improve for 250 rounds\n",
      "[25]\tvalid_0's wrmsse: 0.797819\n",
      "[50]\tvalid_0's wrmsse: 0.695586\n",
      "[75]\tvalid_0's wrmsse: 0.657005\n",
      "[100]\tvalid_0's wrmsse: 0.619998\n",
      "[125]\tvalid_0's wrmsse: 0.602072\n",
      "[150]\tvalid_0's wrmsse: 0.593519\n",
      "[175]\tvalid_0's wrmsse: 0.583576\n",
      "[200]\tvalid_0's wrmsse: 0.573785\n",
      "[225]\tvalid_0's wrmsse: 0.566936\n",
      "[250]\tvalid_0's wrmsse: 0.564699\n",
      "[275]\tvalid_0's wrmsse: 0.56289\n",
      "[300]\tvalid_0's wrmsse: 0.559162\n",
      "[325]\tvalid_0's wrmsse: 0.557789\n",
      "[350]\tvalid_0's wrmsse: 0.556101\n",
      "[375]\tvalid_0's wrmsse: 0.554596\n",
      "[400]\tvalid_0's wrmsse: 0.553856\n",
      "[425]\tvalid_0's wrmsse: 0.553742\n",
      "[450]\tvalid_0's wrmsse: 0.553812\n",
      "[475]\tvalid_0's wrmsse: 0.552108\n",
      "[500]\tvalid_0's wrmsse: 0.550975\n",
      "[525]\tvalid_0's wrmsse: 0.55104\n",
      "[550]\tvalid_0's wrmsse: 0.550846\n",
      "[575]\tvalid_0's wrmsse: 0.549628\n",
      "[600]\tvalid_0's wrmsse: 0.550361\n",
      "[625]\tvalid_0's wrmsse: 0.548794\n",
      "[650]\tvalid_0's wrmsse: 0.548511\n",
      "[675]\tvalid_0's wrmsse: 0.546307\n",
      "[700]\tvalid_0's wrmsse: 0.545616\n",
      "[725]\tvalid_0's wrmsse: 0.545157\n",
      "[750]\tvalid_0's wrmsse: 0.545414\n",
      "[775]\tvalid_0's wrmsse: 0.544152\n",
      "[800]\tvalid_0's wrmsse: 0.542852\n",
      "[825]\tvalid_0's wrmsse: 0.543682\n",
      "[850]\tvalid_0's wrmsse: 0.543914\n",
      "[875]\tvalid_0's wrmsse: 0.543596\n",
      "[900]\tvalid_0's wrmsse: 0.543628\n",
      "[925]\tvalid_0's wrmsse: 0.54361\n",
      "[950]\tvalid_0's wrmsse: 0.54276\n",
      "[975]\tvalid_0's wrmsse: 0.542242\n",
      "[1000]\tvalid_0's wrmsse: 0.542354\n",
      "[1025]\tvalid_0's wrmsse: 0.543119\n",
      "[1050]\tvalid_0's wrmsse: 0.543281\n",
      "[1075]\tvalid_0's wrmsse: 0.54321\n",
      "[1100]\tvalid_0's wrmsse: 0.54303\n",
      "[1125]\tvalid_0's wrmsse: 0.543078\n",
      "[1150]\tvalid_0's wrmsse: 0.542586\n",
      "[1175]\tvalid_0's wrmsse: 0.542201\n",
      "[1200]\tvalid_0's wrmsse: 0.542291\n",
      "[1225]\tvalid_0's wrmsse: 0.541525\n",
      "[1250]\tvalid_0's wrmsse: 0.541224\n",
      "[1275]\tvalid_0's wrmsse: 0.541905\n",
      "[1300]\tvalid_0's wrmsse: 0.541002\n",
      "[1325]\tvalid_0's wrmsse: 0.541433\n",
      "[1350]\tvalid_0's wrmsse: 0.540522\n",
      "[1375]\tvalid_0's wrmsse: 0.539933\n",
      "[1400]\tvalid_0's wrmsse: 0.538388\n",
      "[1425]\tvalid_0's wrmsse: 0.538417\n",
      "[1450]\tvalid_0's wrmsse: 0.538564\n",
      "[1475]\tvalid_0's wrmsse: 0.53876\n",
      "[1500]\tvalid_0's wrmsse: 0.538812\n",
      "[1525]\tvalid_0's wrmsse: 0.539121\n",
      "[1550]\tvalid_0's wrmsse: 0.538914\n",
      "[1575]\tvalid_0's wrmsse: 0.538967\n",
      "[1600]\tvalid_0's wrmsse: 0.539226\n",
      "[1625]\tvalid_0's wrmsse: 0.540815\n",
      "[1650]\tvalid_0's wrmsse: 0.541291\n",
      "Early stopping, best iteration is:\n",
      "[1420]\tvalid_0's wrmsse: 0.538095\n",
      "############################################### 4/4 ################################################\n",
      "##### Validation period: (Timestamp('2016-03-27 00:00:00'), Timestamp('2016-04-24 00:00:00')) ######\n",
      "####################################################################################################\n"
     ]
    },
    {
     "name": "stderr",
     "output_type": "stream",
     "text": [
      "100%|██████████| 10/10 [00:00<00:00, 11043.45it/s]\n"
     ]
    },
    {
     "name": "stdout",
     "output_type": "stream",
     "text": [
      "Training until validation scores don't improve for 250 rounds\n",
      "[25]\tvalid_0's wrmsse: 0.707634\n",
      "[50]\tvalid_0's wrmsse: 0.576313\n",
      "[75]\tvalid_0's wrmsse: 0.528051\n",
      "[100]\tvalid_0's wrmsse: 0.495531\n",
      "[125]\tvalid_0's wrmsse: 0.485578\n",
      "[150]\tvalid_0's wrmsse: 0.489027\n",
      "[175]\tvalid_0's wrmsse: 0.49118\n",
      "[200]\tvalid_0's wrmsse: 0.491948\n",
      "[225]\tvalid_0's wrmsse: 0.491822\n",
      "[250]\tvalid_0's wrmsse: 0.493901\n",
      "[275]\tvalid_0's wrmsse: 0.497007\n",
      "[300]\tvalid_0's wrmsse: 0.499397\n",
      "[325]\tvalid_0's wrmsse: 0.498112\n",
      "[350]\tvalid_0's wrmsse: 0.501979\n",
      "[375]\tvalid_0's wrmsse: 0.503262\n",
      "Early stopping, best iteration is:\n",
      "[135]\tvalid_0's wrmsse: 0.482966\n"
     ]
    }
   ],
   "source": [
    "models = list()\n",
    "errors = list()\n",
    "best_iterations = list()\n",
    "\n",
    "for i,valid_period in enumerate(valid_periods):\n",
    "    print(f\" {i+1}/{len(valid_periods)} \".center(100, \"#\"))\n",
    "    print(f\" Validation period: {valid_period} \".center(100, \"#\"))\n",
    "    print(\"#\"*100)\n",
    "    \n",
    "    valid_start = valid_period[0]\n",
    "    valid_end = valid_period[1]\n",
    "    \n",
    "    train_start = valid_start - pd.DateOffset(days=train_history)\n",
    "        \n",
    "    _train_data = data.query(\"@train_start <= ds <= @valid_end\").reset_index(drop=True)\n",
    "    _valid_index = _train_data.query(\"@valid_start <= ds <= @valid_end\").index\n",
    "\n",
    "    model_kwargs[\"trend_models\"] = compute_trend_models(_train_data,\n",
    "                                                        _valid_index,\n",
    "                                                        ts_uid_columns=[\"store_id\"])\n",
    "\n",
    "    _fcaster = LightGBMForecaster(**model_kwargs)\n",
    "    _fcaster.prepare_features(train_data=_train_data, valid_index=_valid_index);\n",
    "\n",
    "    _fcaster.train_features = reduce_mem_usage(_fcaster.train_features)\n",
    "    _fcaster.valid_features = reduce_mem_usage(_fcaster.valid_features)\n",
    "    \n",
    "    evaluator = WRMSSEEvaluator(_fcaster.valid_features.loc[:, [\"ds\"]+_fcaster.ts_uid_columns+[\"y\"]], \n",
    "                                weights_level3, \n",
    "                                scales,\n",
    "                                ts_uid_columns=_fcaster.ts_uid_columns)\n",
    "    _fcaster.fit(fit_kwargs={\"verbose_eval\":25, \"feval\":evaluator.evaluate})\n",
    "\n",
    "    \n",
    "    models.append(_fcaster)\n",
    "    errors.append(_fcaster.model.model.best_score[\"valid_0\"][\"wrmsse\"])\n",
    "    best_iterations.append(_fcaster.best_iteration)"
   ]
  },
  {
   "cell_type": "markdown",
   "metadata": {},
   "source": [
    "***\n",
    "### training final model"
   ]
  },
  {
   "cell_type": "code",
   "execution_count": 15,
   "metadata": {},
   "outputs": [
    {
     "data": {
      "text/plain": [
       "{'objective': 'l2',\n",
       " 'metric': 'None',\n",
       " 'num_iterations': 1044,\n",
       " 'early_stopping_rounds': 250,\n",
       " 'num_leaves': 31,\n",
       " 'learning_rate': 0.05,\n",
       " 'min_data_in_leaf': 20,\n",
       " 'feature_fraction': 0.66,\n",
       " 'bagging_fraction': 0.9,\n",
       " 'bagging_freq': 1,\n",
       " 'lambda_l2': 1.0,\n",
       " 'seed': 71}"
      ]
     },
     "execution_count": 15,
     "metadata": {},
     "output_type": "execute_result"
    }
   ],
   "source": [
    "model_kwargs[\"model_params\"][\"num_iterations\"] = int(np.median(best_iterations))\n",
    "model_kwargs[\"model_params\"]"
   ]
  },
  {
   "cell_type": "code",
   "execution_count": 13,
   "metadata": {},
   "outputs": [
    {
     "name": "stderr",
     "output_type": "stream",
     "text": [
      "100%|██████████| 10/10 [00:00<00:00, 14041.86it/s]\n",
      "100%|██████████| 10/10 [00:00<00:00, 16513.01it/s]\n",
      "100%|██████████| 10/10 [00:00<00:00, 14256.64it/s]\n",
      "100%|██████████| 10/10 [00:00<00:00, 13929.94it/s]\n",
      "100%|██████████| 10/10 [00:00<00:00, 13953.11it/s]\n",
      "100%|██████████| 10/10 [00:00<00:00, 18165.02it/s]\n",
      "100%|██████████| 10/10 [00:00<00:00, 8125.35it/s]\n",
      "100%|██████████| 10/10 [00:00<00:00, 15341.27it/s]\n",
      "100%|██████████| 10/10 [00:00<00:00, 12052.60it/s]\n",
      "100%|██████████| 10/10 [00:00<00:00, 10623.87it/s]\n",
      "100%|██████████| 10/10 [00:00<00:00, 12622.04it/s]\n",
      "100%|██████████| 10/10 [00:00<00:00, 13353.40it/s]\n",
      "100%|██████████| 10/10 [00:00<00:00, 12479.33it/s]\n",
      "100%|██████████| 10/10 [00:00<00:00, 12282.00it/s]\n",
      "100%|██████████| 10/10 [00:00<00:00, 11308.45it/s]\n",
      "100%|██████████| 10/10 [00:00<00:00, 12483.05it/s]\n",
      "100%|██████████| 10/10 [00:00<00:00, 14463.12it/s]\n",
      "100%|██████████| 10/10 [00:00<00:00, 17133.59it/s]\n",
      "100%|██████████| 10/10 [00:00<00:00, 16113.35it/s]\n",
      "100%|██████████| 10/10 [00:00<00:00, 12153.88it/s]\n"
     ]
    }
   ],
   "source": [
    "train_data = data.copy(deep=True)\n",
    "all_models = list()\n",
    "\n",
    "for seed in SEEDS:\n",
    "    model_kwargs[\"model_params\"][\"seed\"] = seed\n",
    "    model_kwargs[\"trend_models\"] = compute_trend_models(train_data,\n",
    "                                                        ts_uid_columns=[\"store_id\"])\n",
    "    fcaster = LightGBMForecaster(**model_kwargs)\n",
    "    fcaster.prepare_features(train_data=train_data);\n",
    "    fcaster.fit()\n",
    "    all_models.append(fcaster)"
   ]
  },
  {
   "cell_type": "markdown",
   "metadata": {},
   "source": [
    "***\n",
    "### estimating residuals"
   ]
  },
  {
   "cell_type": "code",
   "execution_count": 14,
   "metadata": {},
   "outputs": [
    {
     "data": {
      "text/html": [
       "<div>\n",
       "<style scoped>\n",
       "    .dataframe tbody tr th:only-of-type {\n",
       "        vertical-align: middle;\n",
       "    }\n",
       "\n",
       "    .dataframe tbody tr th {\n",
       "        vertical-align: top;\n",
       "    }\n",
       "\n",
       "    .dataframe thead th {\n",
       "        text-align: right;\n",
       "    }\n",
       "</style>\n",
       "<table border=\"1\" class=\"dataframe\">\n",
       "  <thead>\n",
       "    <tr style=\"text-align: right;\">\n",
       "      <th></th>\n",
       "      <th>store_id</th>\n",
       "      <th>ds</th>\n",
       "      <th>y</th>\n",
       "      <th>state_id</th>\n",
       "      <th>snap</th>\n",
       "      <th>event_name_1</th>\n",
       "      <th>weight</th>\n",
       "    </tr>\n",
       "  </thead>\n",
       "  <tbody>\n",
       "    <tr>\n",
       "      <th>0</th>\n",
       "      <td>1</td>\n",
       "      <td>2011-01-29</td>\n",
       "      <td>4337</td>\n",
       "      <td>1</td>\n",
       "      <td>0</td>\n",
       "      <td>1</td>\n",
       "      <td>0.929992</td>\n",
       "    </tr>\n",
       "    <tr>\n",
       "      <th>1</th>\n",
       "      <td>1</td>\n",
       "      <td>2011-01-30</td>\n",
       "      <td>4155</td>\n",
       "      <td>1</td>\n",
       "      <td>0</td>\n",
       "      <td>1</td>\n",
       "      <td>0.929992</td>\n",
       "    </tr>\n",
       "    <tr>\n",
       "      <th>2</th>\n",
       "      <td>1</td>\n",
       "      <td>2011-01-31</td>\n",
       "      <td>2816</td>\n",
       "      <td>1</td>\n",
       "      <td>0</td>\n",
       "      <td>1</td>\n",
       "      <td>0.929992</td>\n",
       "    </tr>\n",
       "    <tr>\n",
       "      <th>3</th>\n",
       "      <td>1</td>\n",
       "      <td>2011-02-01</td>\n",
       "      <td>3051</td>\n",
       "      <td>1</td>\n",
       "      <td>1</td>\n",
       "      <td>1</td>\n",
       "      <td>0.929992</td>\n",
       "    </tr>\n",
       "    <tr>\n",
       "      <th>4</th>\n",
       "      <td>1</td>\n",
       "      <td>2011-02-02</td>\n",
       "      <td>2630</td>\n",
       "      <td>1</td>\n",
       "      <td>1</td>\n",
       "      <td>1</td>\n",
       "      <td>0.929992</td>\n",
       "    </tr>\n",
       "  </tbody>\n",
       "</table>\n",
       "</div>"
      ],
      "text/plain": [
       "   store_id         ds     y  state_id  snap  event_name_1    weight\n",
       "0         1 2011-01-29  4337         1     0             1  0.929992\n",
       "1         1 2011-01-30  4155         1     0             1  0.929992\n",
       "2         1 2011-01-31  2816         1     0             1  0.929992\n",
       "3         1 2011-02-01  3051         1     1             1  0.929992\n",
       "4         1 2011-02-02  2630         1     1             1  0.929992"
      ]
     },
     "execution_count": 14,
     "metadata": {},
     "output_type": "execute_result"
    }
   ],
   "source": [
    "train_data.head()"
   ]
  },
  {
   "cell_type": "code",
   "execution_count": 20,
   "metadata": {},
   "outputs": [],
   "source": [
    "all_residuals = list()\n",
    "\n",
    "for fcaster in all_models:\n",
    "    predictions = fcaster.predict(train_data.loc[:, [\"ds\",\"store_id\",\"state_id\",\"event_name_1\",\"snap\",\"weight\"]])\n",
    "    residual = (pd.merge(train_data, predictions, how=\"inner\", on=[\"ds\",\"store_id\"])\n",
    "           .assign(residual = lambda x : x.y - x.y_pred)\n",
    "           .groupby(\"store_id\")[\"residual\"].std()\n",
    "           .reset_index())\n",
    "    all_residuals.append(residual)\n",
    "     \n",
    "residual_variance = all_residuals[0].copy(deep=True)\n",
    "residual_variance.loc[:, \"residual\"] = np.mean([r.residual.values for r in all_residuals], axis=0)"
   ]
  },
  {
   "cell_type": "code",
   "execution_count": 31,
   "metadata": {},
   "outputs": [
    {
     "data": {
      "text/html": [
       "<div>\n",
       "<style scoped>\n",
       "    .dataframe tbody tr th:only-of-type {\n",
       "        vertical-align: middle;\n",
       "    }\n",
       "\n",
       "    .dataframe tbody tr th {\n",
       "        vertical-align: top;\n",
       "    }\n",
       "\n",
       "    .dataframe thead th {\n",
       "        text-align: right;\n",
       "    }\n",
       "</style>\n",
       "<table border=\"1\" class=\"dataframe\">\n",
       "  <thead>\n",
       "    <tr style=\"text-align: right;\">\n",
       "      <th></th>\n",
       "      <th>store_id</th>\n",
       "      <th>residual</th>\n",
       "    </tr>\n",
       "  </thead>\n",
       "  <tbody>\n",
       "    <tr>\n",
       "      <th>0</th>\n",
       "      <td>1</td>\n",
       "      <td>191.696049</td>\n",
       "    </tr>\n",
       "    <tr>\n",
       "      <th>1</th>\n",
       "      <td>2</td>\n",
       "      <td>186.930838</td>\n",
       "    </tr>\n",
       "    <tr>\n",
       "      <th>2</th>\n",
       "      <td>3</td>\n",
       "      <td>243.934122</td>\n",
       "    </tr>\n",
       "    <tr>\n",
       "      <th>3</th>\n",
       "      <td>4</td>\n",
       "      <td>113.910485</td>\n",
       "    </tr>\n",
       "    <tr>\n",
       "      <th>4</th>\n",
       "      <td>5</td>\n",
       "      <td>156.807282</td>\n",
       "    </tr>\n",
       "    <tr>\n",
       "      <th>5</th>\n",
       "      <td>6</td>\n",
       "      <td>220.916225</td>\n",
       "    </tr>\n",
       "    <tr>\n",
       "      <th>6</th>\n",
       "      <td>7</td>\n",
       "      <td>165.716004</td>\n",
       "    </tr>\n",
       "    <tr>\n",
       "      <th>7</th>\n",
       "      <td>8</td>\n",
       "      <td>205.164055</td>\n",
       "    </tr>\n",
       "    <tr>\n",
       "      <th>8</th>\n",
       "      <td>9</td>\n",
       "      <td>204.697503</td>\n",
       "    </tr>\n",
       "    <tr>\n",
       "      <th>9</th>\n",
       "      <td>10</td>\n",
       "      <td>200.869899</td>\n",
       "    </tr>\n",
       "  </tbody>\n",
       "</table>\n",
       "</div>"
      ],
      "text/plain": [
       "   store_id    residual\n",
       "0         1  191.696049\n",
       "1         2  186.930838\n",
       "2         3  243.934122\n",
       "3         4  113.910485\n",
       "4         5  156.807282\n",
       "5         6  220.916225\n",
       "6         7  165.716004\n",
       "7         8  205.164055\n",
       "8         9  204.697503\n",
       "9        10  200.869899"
      ]
     },
     "execution_count": 31,
     "metadata": {},
     "output_type": "execute_result"
    }
   ],
   "source": [
    "residual_variance"
   ]
  },
  {
   "cell_type": "code",
   "execution_count": 32,
   "metadata": {},
   "outputs": [],
   "source": [
    "residual_variance.to_parquet(\"../output/residuals_level3.parquet\", index=False)"
   ]
  },
  {
   "cell_type": "markdown",
   "metadata": {},
   "source": [
    "***\n",
    "### prediction"
   ]
  },
  {
   "cell_type": "code",
   "execution_count": 28,
   "metadata": {},
   "outputs": [],
   "source": [
    "valid_dataframe = (pd.read_parquet(\"../input/valid_dataframe.parquet\")\n",
    "                   .loc[:, [\"ds\",\"store_id\",\"state_id\",\"event_name_1\",\"snap\"]]\n",
    "                   .drop_duplicates()\n",
    "                   .merge(weights, how=\"left\", on=\"store_id\"))\n",
    "eval_dataframe = (pd.read_parquet(\"../input/eval_dataframe.parquet\")\n",
    "                  .loc[:, [\"ds\",\"store_id\",\"state_id\",\"event_name_1\",\"snap\"]]\n",
    "                  .drop_duplicates()\n",
    "                  .merge(weights, how=\"left\", on=\"store_id\"))"
   ]
  },
  {
   "cell_type": "code",
   "execution_count": 29,
   "metadata": {},
   "outputs": [],
   "source": [
    "all_forecasts = list()\n",
    "for fcaster in all_models:\n",
    "    _forecast = fcaster.predict(pd.concat([valid_dataframe, eval_dataframe], ignore_index=True))\n",
    "    all_forecasts.append(_forecast)\n",
    "    \n",
    "forecast = all_forecasts[0].copy(deep=True)\n",
    "forecast[\"y_pred\"] = np.mean([_forecast.y_pred for _forecast in all_forecasts], axis=0)"
   ]
  },
  {
   "cell_type": "code",
   "execution_count": 30,
   "metadata": {},
   "outputs": [],
   "source": [
    "forecast.to_csv(\"../output/forecast_level3.csv\", index=False)"
   ]
  },
  {
   "cell_type": "markdown",
   "metadata": {},
   "source": [
    "***"
   ]
  }
 ],
 "metadata": {
  "kernelspec": {
   "display_name": "Python 3",
   "language": "python",
   "name": "python3"
  },
  "language_info": {
   "codemirror_mode": {
    "name": "ipython",
    "version": 3
   },
   "file_extension": ".py",
   "mimetype": "text/x-python",
   "name": "python",
   "nbconvert_exporter": "python",
   "pygments_lexer": "ipython3",
   "version": "3.7.4"
  }
 },
 "nbformat": 4,
 "nbformat_minor": 4
}

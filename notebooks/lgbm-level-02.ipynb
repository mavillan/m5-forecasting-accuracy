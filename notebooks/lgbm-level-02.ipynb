{
 "cells": [
  {
   "cell_type": "markdown",
   "metadata": {},
   "source": [
    "## Level 2: Unit sales of all products, aggregated for all stores/states"
   ]
  },
  {
   "cell_type": "code",
   "execution_count": 1,
   "metadata": {},
   "outputs": [
    {
     "name": "stderr",
     "output_type": "stream",
     "text": [
      "/home/turing/miniconda/lib/python3.7/site-packages/statsmodels/tools/_testing.py:19: FutureWarning:\n",
      "\n",
      "pandas.util.testing is deprecated. Use the functions in the public API at pandas.testing instead.\n",
      "\n"
     ]
    }
   ],
   "source": [
    "import os\n",
    "import numpy as np\n",
    "import pandas as pd\n",
    "import lightgbm as lgb\n",
    "import matplotlib.pyplot as plt\n",
    "\n",
    "from tsforest.trend import compute_trend_models\n",
    "from tsforest.forecaster import LightGBMForecaster\n",
    "\n",
    "# local modules\n",
    "import sys\n",
    "sys.path.append(\"../lib/\")\n",
    "from utils import compute_scaling, reduce_mem_usage\n",
    "from evaluation import WRMSSEEvaluator\n",
    "\n",
    "SEEDS = [2, 3, 5, 7, 11, 13, 17, 19, 23, 29, 31, 37, 41, 43, 47, 53, 59, 61, 67, 71]"
   ]
  },
  {
   "cell_type": "markdown",
   "metadata": {},
   "source": [
    "***"
   ]
  },
  {
   "cell_type": "code",
   "execution_count": 2,
   "metadata": {},
   "outputs": [],
   "source": [
    "data = (pd.read_parquet(\"../input/train_dataframe.parquet\")\n",
    "        .groupby([\"state_id\",\"ds\"])\n",
    "        .agg({\"q\":\"sum\",\n",
    "              \"event_name_1\":lambda x: int(x.unique()),\n",
    "             })\n",
    "        .reset_index()\n",
    "       )\n",
    "\n",
    "data[\"q\"] = data.q.astype(int)\n",
    "data.rename({\"q\":\"y\"}, axis=1, inplace=True)\n",
    "data.sort_values([\"state_id\",\"ds\"], inplace=True)\n",
    "data.reset_index(drop=True, inplace=True)"
   ]
  },
  {
   "cell_type": "code",
   "execution_count": 3,
   "metadata": {},
   "outputs": [
    {
     "data": {
      "text/html": [
       "<div>\n",
       "<style scoped>\n",
       "    .dataframe tbody tr th:only-of-type {\n",
       "        vertical-align: middle;\n",
       "    }\n",
       "\n",
       "    .dataframe tbody tr th {\n",
       "        vertical-align: top;\n",
       "    }\n",
       "\n",
       "    .dataframe thead th {\n",
       "        text-align: right;\n",
       "    }\n",
       "</style>\n",
       "<table border=\"1\" class=\"dataframe\">\n",
       "  <thead>\n",
       "    <tr style=\"text-align: right;\">\n",
       "      <th></th>\n",
       "      <th>state_id</th>\n",
       "      <th>weight</th>\n",
       "    </tr>\n",
       "  </thead>\n",
       "  <tbody>\n",
       "    <tr>\n",
       "      <th>0</th>\n",
       "      <td>1</td>\n",
       "      <td>0.442371</td>\n",
       "    </tr>\n",
       "    <tr>\n",
       "      <th>1</th>\n",
       "      <td>2</td>\n",
       "      <td>0.269297</td>\n",
       "    </tr>\n",
       "    <tr>\n",
       "      <th>2</th>\n",
       "      <td>3</td>\n",
       "      <td>0.288332</td>\n",
       "    </tr>\n",
       "  </tbody>\n",
       "</table>\n",
       "</div>"
      ],
      "text/plain": [
       "   state_id    weight\n",
       "0         1  0.442371\n",
       "1         2  0.269297\n",
       "2         3  0.288332"
      ]
     },
     "execution_count": 3,
     "metadata": {},
     "output_type": "execute_result"
    }
   ],
   "source": [
    "weights_level2 = pd.read_parquet(\"../input/weights_level2.parquet\")\n",
    "weights_level2.head()"
   ]
  },
  {
   "cell_type": "code",
   "execution_count": 4,
   "metadata": {},
   "outputs": [
    {
     "name": "stderr",
     "output_type": "stream",
     "text": [
      "INFO:numexpr.utils:Note: NumExpr detected 20 cores but \"NUMEXPR_MAX_THREADS\" not set, so enforcing safe limit of 8.\n",
      "INFO:numexpr.utils:NumExpr defaulting to 8 threads.\n"
     ]
    },
    {
     "data": {
      "text/html": [
       "<div>\n",
       "<style scoped>\n",
       "    .dataframe tbody tr th:only-of-type {\n",
       "        vertical-align: middle;\n",
       "    }\n",
       "\n",
       "    .dataframe tbody tr th {\n",
       "        vertical-align: top;\n",
       "    }\n",
       "\n",
       "    .dataframe thead th {\n",
       "        text-align: right;\n",
       "    }\n",
       "</style>\n",
       "<table border=\"1\" class=\"dataframe\">\n",
       "  <thead>\n",
       "    <tr style=\"text-align: right;\">\n",
       "      <th></th>\n",
       "      <th>state_id</th>\n",
       "      <th>s</th>\n",
       "    </tr>\n",
       "  </thead>\n",
       "  <tbody>\n",
       "    <tr>\n",
       "      <th>0</th>\n",
       "      <td>1</td>\n",
       "      <td>2709.476919</td>\n",
       "    </tr>\n",
       "    <tr>\n",
       "      <th>1</th>\n",
       "      <td>2</td>\n",
       "      <td>1827.443035</td>\n",
       "    </tr>\n",
       "    <tr>\n",
       "      <th>2</th>\n",
       "      <td>3</td>\n",
       "      <td>1940.451981</td>\n",
       "    </tr>\n",
       "  </tbody>\n",
       "</table>\n",
       "</div>"
      ],
      "text/plain": [
       "   state_id            s\n",
       "0         1  2709.476919\n",
       "1         2  1827.443035\n",
       "2         3  1940.451981"
      ]
     },
     "execution_count": 4,
     "metadata": {},
     "output_type": "execute_result"
    }
   ],
   "source": [
    "scaling_input = pd.read_parquet(\"../input/scaling_input.parquet\")\n",
    "scales = compute_scaling(scaling_input, agg_columns=[\"state_id\"]).rename({\"q\":\"s\"}, axis=1)\n",
    "scales.head()"
   ]
  },
  {
   "cell_type": "code",
   "execution_count": 5,
   "metadata": {},
   "outputs": [
    {
     "data": {
      "text/html": [
       "<div>\n",
       "<style scoped>\n",
       "    .dataframe tbody tr th:only-of-type {\n",
       "        vertical-align: middle;\n",
       "    }\n",
       "\n",
       "    .dataframe tbody tr th {\n",
       "        vertical-align: top;\n",
       "    }\n",
       "\n",
       "    .dataframe thead th {\n",
       "        text-align: right;\n",
       "    }\n",
       "</style>\n",
       "<table border=\"1\" class=\"dataframe\">\n",
       "  <thead>\n",
       "    <tr style=\"text-align: right;\">\n",
       "      <th></th>\n",
       "      <th>state_id</th>\n",
       "      <th>weight</th>\n",
       "    </tr>\n",
       "  </thead>\n",
       "  <tbody>\n",
       "    <tr>\n",
       "      <th>0</th>\n",
       "      <td>1</td>\n",
       "      <td>1.098782</td>\n",
       "    </tr>\n",
       "    <tr>\n",
       "      <th>1</th>\n",
       "      <td>2</td>\n",
       "      <td>0.991738</td>\n",
       "    </tr>\n",
       "    <tr>\n",
       "      <th>2</th>\n",
       "      <td>3</td>\n",
       "      <td>1.000000</td>\n",
       "    </tr>\n",
       "  </tbody>\n",
       "</table>\n",
       "</div>"
      ],
      "text/plain": [
       "   state_id    weight\n",
       "0         1  1.098782\n",
       "1         2  0.991738\n",
       "2         3  1.000000"
      ]
     },
     "execution_count": 5,
     "metadata": {},
     "output_type": "execute_result"
    }
   ],
   "source": [
    "weights = (weights_level2\n",
    "    .merge(scales, how=\"inner\", on=[\"state_id\"])\n",
    "    .assign(weight = lambda x: x.weight/x.s)\n",
    "    .assign(weight = lambda x: x.weight/x.weight.median())\n",
    "    .drop([\"s\"], axis=1)\n",
    ")\n",
    "weights.head()"
   ]
  },
  {
   "cell_type": "code",
   "execution_count": 6,
   "metadata": {},
   "outputs": [
    {
     "data": {
      "text/html": [
       "<div>\n",
       "<style scoped>\n",
       "    .dataframe tbody tr th:only-of-type {\n",
       "        vertical-align: middle;\n",
       "    }\n",
       "\n",
       "    .dataframe tbody tr th {\n",
       "        vertical-align: top;\n",
       "    }\n",
       "\n",
       "    .dataframe thead th {\n",
       "        text-align: right;\n",
       "    }\n",
       "</style>\n",
       "<table border=\"1\" class=\"dataframe\">\n",
       "  <thead>\n",
       "    <tr style=\"text-align: right;\">\n",
       "      <th></th>\n",
       "      <th>state_id</th>\n",
       "      <th>ds</th>\n",
       "      <th>y</th>\n",
       "      <th>event_name_1</th>\n",
       "      <th>weight</th>\n",
       "    </tr>\n",
       "  </thead>\n",
       "  <tbody>\n",
       "    <tr>\n",
       "      <th>0</th>\n",
       "      <td>1</td>\n",
       "      <td>2011-01-29</td>\n",
       "      <td>14195</td>\n",
       "      <td>1</td>\n",
       "      <td>1.098782</td>\n",
       "    </tr>\n",
       "    <tr>\n",
       "      <th>1</th>\n",
       "      <td>1</td>\n",
       "      <td>2011-01-30</td>\n",
       "      <td>13805</td>\n",
       "      <td>1</td>\n",
       "      <td>1.098782</td>\n",
       "    </tr>\n",
       "    <tr>\n",
       "      <th>2</th>\n",
       "      <td>1</td>\n",
       "      <td>2011-01-31</td>\n",
       "      <td>10108</td>\n",
       "      <td>1</td>\n",
       "      <td>1.098782</td>\n",
       "    </tr>\n",
       "    <tr>\n",
       "      <th>3</th>\n",
       "      <td>1</td>\n",
       "      <td>2011-02-01</td>\n",
       "      <td>11047</td>\n",
       "      <td>1</td>\n",
       "      <td>1.098782</td>\n",
       "    </tr>\n",
       "    <tr>\n",
       "      <th>4</th>\n",
       "      <td>1</td>\n",
       "      <td>2011-02-02</td>\n",
       "      <td>9925</td>\n",
       "      <td>1</td>\n",
       "      <td>1.098782</td>\n",
       "    </tr>\n",
       "  </tbody>\n",
       "</table>\n",
       "</div>"
      ],
      "text/plain": [
       "   state_id         ds      y  event_name_1    weight\n",
       "0         1 2011-01-29  14195             1  1.098782\n",
       "1         1 2011-01-30  13805             1  1.098782\n",
       "2         1 2011-01-31  10108             1  1.098782\n",
       "3         1 2011-02-01  11047             1  1.098782\n",
       "4         1 2011-02-02   9925             1  1.098782"
      ]
     },
     "execution_count": 6,
     "metadata": {},
     "output_type": "execute_result"
    }
   ],
   "source": [
    "data = pd.merge(data, weights, how=\"left\", on=[\"state_id\"])\n",
    "data.head()"
   ]
  },
  {
   "cell_type": "markdown",
   "metadata": {},
   "source": [
    "***\n",
    "### time series visualization"
   ]
  },
  {
   "cell_type": "code",
   "execution_count": 7,
   "metadata": {},
   "outputs": [
    {
     "data": {
      "image/png": "[encoded data removed]",
      "text/plain": [
       "<Figure size 1080x360 with 1 Axes>"
      ]
     },
     "metadata": {
      "needs_background": "light"
     },
     "output_type": "display_data"
    }
   ],
   "source": [
    "state_id = 3\n",
    "start_date = '2015-03-01'\n",
    "end_date = '2015-04-30'\n",
    "\n",
    "df = data.query(\"state_id == @state_id & @start_date <= ds <= @end_date\")\n",
    "\n",
    "plt.figure(figsize=(15,5))\n",
    "plt.plot_date(df.ds, df.y, \"o-\")\n",
    "plt.xticks(rotation=90)\n",
    "plt.grid()\n",
    "plt.show()"
   ]
  },
  {
   "cell_type": "markdown",
   "metadata": {},
   "source": [
    "***"
   ]
  },
  {
   "cell_type": "code",
   "execution_count": 8,
   "metadata": {},
   "outputs": [
    {
     "data": {
      "text/plain": [
       "[(Timestamp('2015-04-25 00:00:00'), Timestamp('2015-05-22 00:00:00')),\n",
       " (Timestamp('2015-05-23 00:00:00'), Timestamp('2015-06-19 00:00:00')),\n",
       " (Timestamp('2016-02-27 00:00:00'), Timestamp('2016-03-26 00:00:00')),\n",
       " (Timestamp('2016-03-27 00:00:00'), Timestamp('2016-04-24 00:00:00'))]"
      ]
     },
     "execution_count": 8,
     "metadata": {},
     "output_type": "execute_result"
    }
   ],
   "source": [
    "valid_periods = [(pd.to_datetime(\"2015-04-25\"), pd.to_datetime(\"2015-05-22\")),\n",
    "                 (pd.to_datetime(\"2015-05-23\"), pd.to_datetime(\"2015-06-19\")),\n",
    "                 (pd.to_datetime(\"2016-02-27\"), pd.to_datetime(\"2016-03-26\")),\n",
    "                 (pd.to_datetime(\"2016-03-27\"), pd.to_datetime(\"2016-04-24\")),\n",
    "                ]\n",
    "valid_periods"
   ]
  },
  {
   "cell_type": "markdown",
   "metadata": {},
   "source": [
    "***\n",
    "### training validation models"
   ]
  },
  {
   "cell_type": "code",
   "execution_count": 9,
   "metadata": {},
   "outputs": [],
   "source": [
    "model_params = {\n",
    "    'objective':'l2',\n",
    "    'metric':'None',\n",
    "    'num_iterations':10000,\n",
    "    'early_stopping_rounds':250,\n",
    "    #'max_bin': 255,\n",
    "    'num_leaves': 31, \n",
    "    'learning_rate': 0.1, \n",
    "    'min_data_in_leaf': 20,\n",
    "    #'min_sum_hessian_in_leaf':1e-4,\n",
    "    'feature_fraction': 0.66,\n",
    "    'bagging_fraction':0.9,\n",
    "    'bagging_freq':1,\n",
    "    'lambda_l2':1.,\n",
    "    'seed':23\n",
    "}\n",
    "\n",
    "time_features = [\n",
    "    \"year\",\n",
    "    \"month\",\n",
    "    \"year_week\",\n",
    "    \"year_day\",\n",
    "    \"week_day\",\n",
    "    \"month_progress\",\n",
    "    \"week_day_cos\",\n",
    "    \"week_day_sin\",\n",
    "    \"year_day_cos\",\n",
    "    \"year_day_sin\",\n",
    "    \"year_week_cos\",\n",
    "    \"year_week_sin\",\n",
    "    \"month_cos\",\n",
    "    \"month_sin\"\n",
    "]\n",
    "\n",
    "model_kwargs = {\n",
    "    \"model_params\":model_params,\n",
    "    \"time_features\":time_features,\n",
    "    \"categorical_features\":{\n",
    "        \"state_id\":\"default\",\n",
    "        \"event_name_1\":\"default\"},\n",
    "    \"ts_uid_columns\":[\"state_id\"],\n",
    "    \n",
    "}"
   ]
  },
  {
   "cell_type": "code",
   "execution_count": 10,
   "metadata": {},
   "outputs": [],
   "source": [
    "# 4+ years of history\n",
    "train_history = 1800"
   ]
  },
  {
   "cell_type": "code",
   "execution_count": 11,
   "metadata": {},
   "outputs": [
    {
     "name": "stdout",
     "output_type": "stream",
     "text": [
      "############################################### 1/4 ################################################\n",
      "##### Validation period: (Timestamp('2015-04-25 00:00:00'), Timestamp('2015-05-22 00:00:00')) ######\n",
      "####################################################################################################\n",
      "Training until validation scores don't improve for 250 rounds\n",
      "[25]\tvalid_0's wrmsse: 0.436421\n",
      "[50]\tvalid_0's wrmsse: 0.328758\n",
      "[75]\tvalid_0's wrmsse: 0.304055\n",
      "[100]\tvalid_0's wrmsse: 0.295541\n",
      "[125]\tvalid_0's wrmsse: 0.296087\n",
      "[150]\tvalid_0's wrmsse: 0.290544\n",
      "[175]\tvalid_0's wrmsse: 0.289808\n",
      "[200]\tvalid_0's wrmsse: 0.290767\n",
      "[225]\tvalid_0's wrmsse: 0.290154\n",
      "[250]\tvalid_0's wrmsse: 0.289291\n",
      "[275]\tvalid_0's wrmsse: 0.290448\n",
      "[300]\tvalid_0's wrmsse: 0.289213\n",
      "[325]\tvalid_0's wrmsse: 0.288294\n",
      "[350]\tvalid_0's wrmsse: 0.284523\n",
      "[375]\tvalid_0's wrmsse: 0.286064\n",
      "[400]\tvalid_0's wrmsse: 0.284285\n",
      "[425]\tvalid_0's wrmsse: 0.283524\n",
      "[450]\tvalid_0's wrmsse: 0.281815\n",
      "[475]\tvalid_0's wrmsse: 0.28304\n",
      "[500]\tvalid_0's wrmsse: 0.278364\n",
      "[525]\tvalid_0's wrmsse: 0.276852\n",
      "[550]\tvalid_0's wrmsse: 0.279309\n",
      "[575]\tvalid_0's wrmsse: 0.279963\n",
      "[600]\tvalid_0's wrmsse: 0.28245\n",
      "[625]\tvalid_0's wrmsse: 0.287005\n",
      "[650]\tvalid_0's wrmsse: 0.287145\n",
      "[675]\tvalid_0's wrmsse: 0.286811\n",
      "[700]\tvalid_0's wrmsse: 0.286509\n",
      "[725]\tvalid_0's wrmsse: 0.289573\n",
      "[750]\tvalid_0's wrmsse: 0.289613\n",
      "Early stopping, best iteration is:\n",
      "[521]\tvalid_0's wrmsse: 0.276608\n",
      "############################################### 2/4 ################################################\n",
      "##### Validation period: (Timestamp('2015-05-23 00:00:00'), Timestamp('2015-06-19 00:00:00')) ######\n",
      "####################################################################################################\n",
      "Training until validation scores don't improve for 250 rounds\n",
      "[25]\tvalid_0's wrmsse: 0.666869\n",
      "[50]\tvalid_0's wrmsse: 0.51808\n",
      "[75]\tvalid_0's wrmsse: 0.484784\n",
      "[100]\tvalid_0's wrmsse: 0.474765\n",
      "[125]\tvalid_0's wrmsse: 0.472066\n",
      "[150]\tvalid_0's wrmsse: 0.4703\n",
      "[175]\tvalid_0's wrmsse: 0.464608\n",
      "[200]\tvalid_0's wrmsse: 0.459824\n",
      "[225]\tvalid_0's wrmsse: 0.458551\n",
      "[250]\tvalid_0's wrmsse: 0.453906\n",
      "[275]\tvalid_0's wrmsse: 0.453857\n",
      "[300]\tvalid_0's wrmsse: 0.452443\n",
      "[325]\tvalid_0's wrmsse: 0.452847\n",
      "[350]\tvalid_0's wrmsse: 0.450199\n",
      "[375]\tvalid_0's wrmsse: 0.450438\n",
      "[400]\tvalid_0's wrmsse: 0.448532\n",
      "[425]\tvalid_0's wrmsse: 0.448323\n",
      "[450]\tvalid_0's wrmsse: 0.449378\n",
      "[475]\tvalid_0's wrmsse: 0.44815\n",
      "[500]\tvalid_0's wrmsse: 0.449332\n",
      "[525]\tvalid_0's wrmsse: 0.449856\n",
      "[550]\tvalid_0's wrmsse: 0.450278\n",
      "[575]\tvalid_0's wrmsse: 0.451535\n",
      "[600]\tvalid_0's wrmsse: 0.451661\n",
      "[625]\tvalid_0's wrmsse: 0.450668\n",
      "[650]\tvalid_0's wrmsse: 0.451439\n",
      "[675]\tvalid_0's wrmsse: 0.451736\n",
      "[700]\tvalid_0's wrmsse: 0.451733\n",
      "Early stopping, best iteration is:\n",
      "[463]\tvalid_0's wrmsse: 0.447375\n",
      "############################################### 3/4 ################################################\n",
      "##### Validation period: (Timestamp('2016-02-27 00:00:00'), Timestamp('2016-03-26 00:00:00')) ######\n",
      "####################################################################################################\n",
      "Training until validation scores don't improve for 250 rounds\n",
      "[25]\tvalid_0's wrmsse: 0.791604\n",
      "[50]\tvalid_0's wrmsse: 0.583772\n",
      "[75]\tvalid_0's wrmsse: 0.542732\n",
      "[100]\tvalid_0's wrmsse: 0.522709\n",
      "[125]\tvalid_0's wrmsse: 0.503819\n",
      "[150]\tvalid_0's wrmsse: 0.493675\n",
      "[175]\tvalid_0's wrmsse: 0.48879\n",
      "[200]\tvalid_0's wrmsse: 0.48543\n",
      "[225]\tvalid_0's wrmsse: 0.476943\n",
      "[250]\tvalid_0's wrmsse: 0.476617\n",
      "[275]\tvalid_0's wrmsse: 0.4763\n",
      "[300]\tvalid_0's wrmsse: 0.476167\n",
      "[325]\tvalid_0's wrmsse: 0.471732\n",
      "[350]\tvalid_0's wrmsse: 0.471969\n",
      "[375]\tvalid_0's wrmsse: 0.470832\n",
      "[400]\tvalid_0's wrmsse: 0.472955\n",
      "[425]\tvalid_0's wrmsse: 0.469848\n",
      "[450]\tvalid_0's wrmsse: 0.470467\n",
      "[475]\tvalid_0's wrmsse: 0.473489\n",
      "[500]\tvalid_0's wrmsse: 0.471403\n",
      "[525]\tvalid_0's wrmsse: 0.46846\n",
      "[550]\tvalid_0's wrmsse: 0.46751\n",
      "[575]\tvalid_0's wrmsse: 0.468337\n",
      "[600]\tvalid_0's wrmsse: 0.469683\n",
      "[625]\tvalid_0's wrmsse: 0.469377\n",
      "[650]\tvalid_0's wrmsse: 0.470318\n",
      "[675]\tvalid_0's wrmsse: 0.470515\n",
      "[700]\tvalid_0's wrmsse: 0.473317\n",
      "[725]\tvalid_0's wrmsse: 0.469602\n",
      "[750]\tvalid_0's wrmsse: 0.472348\n",
      "[775]\tvalid_0's wrmsse: 0.471024\n",
      "[800]\tvalid_0's wrmsse: 0.471114\n",
      "Early stopping, best iteration is:\n",
      "[552]\tvalid_0's wrmsse: 0.467118\n",
      "############################################### 4/4 ################################################\n",
      "##### Validation period: (Timestamp('2016-03-27 00:00:00'), Timestamp('2016-04-24 00:00:00')) ######\n",
      "####################################################################################################\n",
      "Training until validation scores don't improve for 250 rounds\n",
      "[25]\tvalid_0's wrmsse: 0.755861\n",
      "[50]\tvalid_0's wrmsse: 0.496115\n",
      "[75]\tvalid_0's wrmsse: 0.438198\n",
      "[100]\tvalid_0's wrmsse: 0.412939\n",
      "[125]\tvalid_0's wrmsse: 0.389306\n",
      "[150]\tvalid_0's wrmsse: 0.387078\n",
      "[175]\tvalid_0's wrmsse: 0.385903\n",
      "[200]\tvalid_0's wrmsse: 0.378399\n",
      "[225]\tvalid_0's wrmsse: 0.376155\n",
      "[250]\tvalid_0's wrmsse: 0.375277\n",
      "[275]\tvalid_0's wrmsse: 0.373321\n",
      "[300]\tvalid_0's wrmsse: 0.37786\n",
      "[325]\tvalid_0's wrmsse: 0.374996\n",
      "[350]\tvalid_0's wrmsse: 0.378101\n",
      "[375]\tvalid_0's wrmsse: 0.374011\n",
      "[400]\tvalid_0's wrmsse: 0.372478\n",
      "[425]\tvalid_0's wrmsse: 0.372208\n",
      "[450]\tvalid_0's wrmsse: 0.371237\n",
      "[475]\tvalid_0's wrmsse: 0.373313\n",
      "[500]\tvalid_0's wrmsse: 0.375181\n",
      "[525]\tvalid_0's wrmsse: 0.376504\n",
      "[550]\tvalid_0's wrmsse: 0.376927\n",
      "[575]\tvalid_0's wrmsse: 0.372841\n",
      "[600]\tvalid_0's wrmsse: 0.374124\n",
      "[625]\tvalid_0's wrmsse: 0.373029\n",
      "[650]\tvalid_0's wrmsse: 0.374283\n",
      "[675]\tvalid_0's wrmsse: 0.375803\n",
      "Early stopping, best iteration is:\n",
      "[435]\tvalid_0's wrmsse: 0.370183\n"
     ]
    }
   ],
   "source": [
    "models = list()\n",
    "errors = list()\n",
    "best_iterations = list()\n",
    "\n",
    "for i,valid_period in enumerate(valid_periods):\n",
    "    print(f\" {i+1}/{len(valid_periods)} \".center(100, \"#\"))\n",
    "    print(f\" Validation period: {valid_period} \".center(100, \"#\"))\n",
    "    print(\"#\"*100)\n",
    "    \n",
    "    valid_start = valid_period[0]\n",
    "    valid_end = valid_period[1]\n",
    "    \n",
    "    train_start = valid_start - pd.DateOffset(days=train_history)\n",
    "        \n",
    "    _train_data = data.query(\"@train_start <= ds <= @valid_end\").reset_index(drop=True)\n",
    "    _valid_index = _train_data.query(\"@valid_start <= ds <= @valid_end\").index\n",
    "\n",
    "    _fcaster = LightGBMForecaster(**model_kwargs)\n",
    "    _fcaster.prepare_features(train_data=_train_data, valid_index=_valid_index);\n",
    "\n",
    "    _fcaster.train_features = reduce_mem_usage(_fcaster.train_features)\n",
    "    _fcaster.valid_features = reduce_mem_usage(_fcaster.valid_features)\n",
    "    \n",
    "    evaluator = WRMSSEEvaluator(_fcaster.valid_features.loc[:, [\"ds\"]+_fcaster.ts_uid_columns+[\"y\"]], \n",
    "                                weights_level2, \n",
    "                                scales,\n",
    "                                ts_uid_columns=_fcaster.ts_uid_columns)\n",
    "    _fcaster.fit(fit_kwargs={\"verbose_eval\":25, \"feval\":evaluator.evaluate})\n",
    "\n",
    "    \n",
    "    models.append(_fcaster)\n",
    "    errors.append(_fcaster.model.model.best_score[\"valid_0\"][\"wrmsse\"])\n",
    "    best_iterations.append(_fcaster.best_iteration)"
   ]
  },
  {
   "cell_type": "markdown",
   "metadata": {},
   "source": [
    "***\n",
    "### training final model"
   ]
  },
  {
   "cell_type": "code",
   "execution_count": 12,
   "metadata": {},
   "outputs": [
    {
     "data": {
      "text/plain": [
       "{'objective': 'l2',\n",
       " 'metric': 'None',\n",
       " 'num_iterations': 492,\n",
       " 'early_stopping_rounds': 250,\n",
       " 'num_leaves': 31,\n",
       " 'learning_rate': 0.1,\n",
       " 'min_data_in_leaf': 20,\n",
       " 'feature_fraction': 0.66,\n",
       " 'bagging_fraction': 0.9,\n",
       " 'bagging_freq': 1,\n",
       " 'lambda_l2': 1.0,\n",
       " 'seed': 23}"
      ]
     },
     "execution_count": 12,
     "metadata": {},
     "output_type": "execute_result"
    }
   ],
   "source": [
    "model_kwargs[\"model_params\"][\"num_iterations\"] = int(np.median(best_iterations))\n",
    "model_kwargs[\"model_params\"]"
   ]
  },
  {
   "cell_type": "code",
   "execution_count": 13,
   "metadata": {},
   "outputs": [],
   "source": [
    "train_data = data.copy(deep=True)\n",
    "all_models = list()\n",
    "\n",
    "for seed in SEEDS:\n",
    "    model_kwargs[\"model_params\"][\"seed\"] = seed\n",
    "    fcaster = LightGBMForecaster(**model_kwargs)\n",
    "    fcaster.prepare_features(train_data=train_data);\n",
    "    fcaster.fit()\n",
    "    all_models.append(fcaster)"
   ]
  },
  {
   "cell_type": "markdown",
   "metadata": {},
   "source": [
    "***\n",
    "### estimating residuals"
   ]
  },
  {
   "cell_type": "code",
   "execution_count": 15,
   "metadata": {},
   "outputs": [
    {
     "data": {
      "text/html": [
       "<div>\n",
       "<style scoped>\n",
       "    .dataframe tbody tr th:only-of-type {\n",
       "        vertical-align: middle;\n",
       "    }\n",
       "\n",
       "    .dataframe tbody tr th {\n",
       "        vertical-align: top;\n",
       "    }\n",
       "\n",
       "    .dataframe thead th {\n",
       "        text-align: right;\n",
       "    }\n",
       "</style>\n",
       "<table border=\"1\" class=\"dataframe\">\n",
       "  <thead>\n",
       "    <tr style=\"text-align: right;\">\n",
       "      <th></th>\n",
       "      <th>ds</th>\n",
       "      <th>state_id</th>\n",
       "      <th>event_name_1</th>\n",
       "      <th>weight</th>\n",
       "    </tr>\n",
       "  </thead>\n",
       "  <tbody>\n",
       "    <tr>\n",
       "      <th>0</th>\n",
       "      <td>2011-01-29</td>\n",
       "      <td>1</td>\n",
       "      <td>1</td>\n",
       "      <td>1.098782</td>\n",
       "    </tr>\n",
       "    <tr>\n",
       "      <th>1</th>\n",
       "      <td>2011-01-30</td>\n",
       "      <td>1</td>\n",
       "      <td>1</td>\n",
       "      <td>1.098782</td>\n",
       "    </tr>\n",
       "    <tr>\n",
       "      <th>2</th>\n",
       "      <td>2011-01-31</td>\n",
       "      <td>1</td>\n",
       "      <td>1</td>\n",
       "      <td>1.098782</td>\n",
       "    </tr>\n",
       "    <tr>\n",
       "      <th>3</th>\n",
       "      <td>2011-02-01</td>\n",
       "      <td>1</td>\n",
       "      <td>1</td>\n",
       "      <td>1.098782</td>\n",
       "    </tr>\n",
       "    <tr>\n",
       "      <th>4</th>\n",
       "      <td>2011-02-02</td>\n",
       "      <td>1</td>\n",
       "      <td>1</td>\n",
       "      <td>1.098782</td>\n",
       "    </tr>\n",
       "    <tr>\n",
       "      <th>...</th>\n",
       "      <td>...</td>\n",
       "      <td>...</td>\n",
       "      <td>...</td>\n",
       "      <td>...</td>\n",
       "    </tr>\n",
       "    <tr>\n",
       "      <th>5734</th>\n",
       "      <td>2016-04-20</td>\n",
       "      <td>3</td>\n",
       "      <td>1</td>\n",
       "      <td>1.000000</td>\n",
       "    </tr>\n",
       "    <tr>\n",
       "      <th>5735</th>\n",
       "      <td>2016-04-21</td>\n",
       "      <td>3</td>\n",
       "      <td>1</td>\n",
       "      <td>1.000000</td>\n",
       "    </tr>\n",
       "    <tr>\n",
       "      <th>5736</th>\n",
       "      <td>2016-04-22</td>\n",
       "      <td>3</td>\n",
       "      <td>1</td>\n",
       "      <td>1.000000</td>\n",
       "    </tr>\n",
       "    <tr>\n",
       "      <th>5737</th>\n",
       "      <td>2016-04-23</td>\n",
       "      <td>3</td>\n",
       "      <td>1</td>\n",
       "      <td>1.000000</td>\n",
       "    </tr>\n",
       "    <tr>\n",
       "      <th>5738</th>\n",
       "      <td>2016-04-24</td>\n",
       "      <td>3</td>\n",
       "      <td>1</td>\n",
       "      <td>1.000000</td>\n",
       "    </tr>\n",
       "  </tbody>\n",
       "</table>\n",
       "<p>5739 rows × 4 columns</p>\n",
       "</div>"
      ],
      "text/plain": [
       "             ds  state_id  event_name_1    weight\n",
       "0    2011-01-29         1             1  1.098782\n",
       "1    2011-01-30         1             1  1.098782\n",
       "2    2011-01-31         1             1  1.098782\n",
       "3    2011-02-01         1             1  1.098782\n",
       "4    2011-02-02         1             1  1.098782\n",
       "...         ...       ...           ...       ...\n",
       "5734 2016-04-20         3             1  1.000000\n",
       "5735 2016-04-21         3             1  1.000000\n",
       "5736 2016-04-22         3             1  1.000000\n",
       "5737 2016-04-23         3             1  1.000000\n",
       "5738 2016-04-24         3             1  1.000000\n",
       "\n",
       "[5739 rows x 4 columns]"
      ]
     },
     "execution_count": 15,
     "metadata": {},
     "output_type": "execute_result"
    }
   ],
   "source": [
    "train_data.loc[:, [\"ds\",\"state_id\",\"event_name_1\",\"weight\"]]"
   ]
  },
  {
   "cell_type": "code",
   "execution_count": 17,
   "metadata": {},
   "outputs": [],
   "source": [
    "residual_variance = list()\n",
    "\n",
    "for fcaster in all_models:\n",
    "    predictions = fcaster.predict(train_data.loc[:, [\"ds\",\"state_id\",\"event_name_1\",\"weight\"]])\n",
    "    #rv = (pd.merge(train_data, predictions, how=\"inner\", on=\"ds\")\n",
    "    #      .assign(residual = lambda x: x.y - x.y_pred)\n",
    "    #      .residual.std())\n",
    "    #residual_variance.append(rv)\n",
    "    break"
   ]
  },
  {
   "cell_type": "code",
   "execution_count": 22,
   "metadata": {},
   "outputs": [
    {
     "data": {
      "text/html": [
       "<div>\n",
       "<style scoped>\n",
       "    .dataframe tbody tr th:only-of-type {\n",
       "        vertical-align: middle;\n",
       "    }\n",
       "\n",
       "    .dataframe tbody tr th {\n",
       "        vertical-align: top;\n",
       "    }\n",
       "\n",
       "    .dataframe thead th {\n",
       "        text-align: right;\n",
       "    }\n",
       "</style>\n",
       "<table border=\"1\" class=\"dataframe\">\n",
       "  <thead>\n",
       "    <tr style=\"text-align: right;\">\n",
       "      <th></th>\n",
       "      <th>state_id</th>\n",
       "      <th>residual</th>\n",
       "    </tr>\n",
       "  </thead>\n",
       "  <tbody>\n",
       "    <tr>\n",
       "      <th>0</th>\n",
       "      <td>1</td>\n",
       "      <td>400.530432</td>\n",
       "    </tr>\n",
       "    <tr>\n",
       "      <th>1</th>\n",
       "      <td>2</td>\n",
       "      <td>380.307743</td>\n",
       "    </tr>\n",
       "    <tr>\n",
       "      <th>2</th>\n",
       "      <td>3</td>\n",
       "      <td>409.911164</td>\n",
       "    </tr>\n",
       "  </tbody>\n",
       "</table>\n",
       "</div>"
      ],
      "text/plain": [
       "   state_id    residual\n",
       "0         1  400.530432\n",
       "1         2  380.307743\n",
       "2         3  409.911164"
      ]
     },
     "execution_count": 22,
     "metadata": {},
     "output_type": "execute_result"
    }
   ],
   "source": [
    "(pd.merge(train_data, predictions, how=\"inner\", on=[\"ds\",\"state_id\"])\n",
    " .assign(residual = lambda x : x.y - x.y_pred)\n",
    " .groupby(\"state_id\")[\"residual\"].std()\n",
    " .reset_index()\n",
    ")"
   ]
  },
  {
   "cell_type": "markdown",
   "metadata": {},
   "source": [
    "***\n",
    "### prediction"
   ]
  },
  {
   "cell_type": "code",
   "execution_count": 19,
   "metadata": {},
   "outputs": [],
   "source": [
    "valid_dataframe = (pd.read_parquet(\"../input/valid_dataframe.parquet\")\n",
    "                   .loc[:, [\"ds\",\"state_id\",\"event_name_1\"]]\n",
    "                   .drop_duplicates()\n",
    "                   .merge(weights, how=\"left\", on=\"state_id\"))\n",
    "eval_dataframe = (pd.read_parquet(\"../input/eval_dataframe.parquet\")\n",
    "                  .loc[:, [\"ds\",\"state_id\",\"event_name_1\"]]\n",
    "                  .drop_duplicates()\n",
    "                  .merge(weights, how=\"left\", on=\"state_id\"))"
   ]
  },
  {
   "cell_type": "code",
   "execution_count": 20,
   "metadata": {},
   "outputs": [],
   "source": [
    "all_forecasts = list()\n",
    "for fcaster in all_models:\n",
    "    _forecast = fcaster.predict(pd.concat([valid_dataframe, eval_dataframe], ignore_index=True))\n",
    "    all_forecasts.append(_forecast)\n",
    "    \n",
    "forecast = all_forecasts[0].copy(deep=True)\n",
    "forecast[\"y_pred\"] = np.mean([_forecast.y_pred for _forecast in all_forecasts], axis=0)"
   ]
  },
  {
   "cell_type": "code",
   "execution_count": 21,
   "metadata": {},
   "outputs": [],
   "source": [
    "forecast.to_csv(\"../output/forecast_level2.csv\", index=False)"
   ]
  },
  {
   "cell_type": "markdown",
   "metadata": {},
   "source": [
    "***"
   ]
  }
 ],
 "metadata": {
  "kernelspec": {
   "display_name": "Python 3",
   "language": "python",
   "name": "python3"
  },
  "language_info": {
   "codemirror_mode": {
    "name": "ipython",
    "version": 3
   },
   "file_extension": ".py",
   "mimetype": "text/x-python",
   "name": "python",
   "nbconvert_exporter": "python",
   "pygments_lexer": "ipython3",
   "version": "3.7.4"
  }
 },
 "nbformat": 4,
 "nbformat_minor": 4
}

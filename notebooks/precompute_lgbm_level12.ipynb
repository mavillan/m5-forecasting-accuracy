{
 "cells": [
  {
   "cell_type": "code",
   "execution_count": 1,
   "metadata": {},
   "outputs": [
    {
     "name": "stderr",
     "output_type": "stream",
     "text": [
      "/home/turing/miniconda/lib/python3.7/site-packages/statsmodels/tools/_testing.py:19: FutureWarning:\n",
      "\n",
      "pandas.util.testing is deprecated. Use the functions in the public API at pandas.testing instead.\n",
      "\n"
     ]
    }
   ],
   "source": [
    "import os\n",
    "import pickle\n",
    "import numpy as np\n",
    "import pandas as pd\n",
    "import lightgbm as lgb\n",
    "from tsforest.forecaster import LightGBMForecaster\n",
    "\n",
    "import matplotlib.pyplot as plt\n",
    "import seaborn as sns\n",
    "\n",
    "# local modules\n",
    "import sys\n",
    "sys.path.append(\"../lib/\")\n",
    "from utils import compute_scaling, reduce_mem_usage\n",
    "from evaluation import WRMSSEEvaluator"
   ]
  },
  {
   "cell_type": "code",
   "execution_count": 2,
   "metadata": {},
   "outputs": [],
   "source": [
    "data = (pd.read_parquet(\"../input/train_dataframe.parquet\")\n",
    "        .dropna()\n",
    "        .reset_index(drop=True)\n",
    "        .rename({\"q\":\"y\"}, axis=1)\n",
    "       )"
   ]
  },
  {
   "cell_type": "markdown",
   "metadata": {},
   "source": [
    "***\n",
    "validation periods"
   ]
  },
  {
   "cell_type": "code",
   "execution_count": 5,
   "metadata": {},
   "outputs": [],
   "source": [
    "def make_valid_periods(end_date, valid_length, n_folds):\n",
    "    right_date = pd.to_datetime(end_date)\n",
    "    valid_periods = list()\n",
    "    \n",
    "    for i in range(n_folds):\n",
    "        left_date = right_date - pd.DateOffset(days=valid_length-1)\n",
    "        valid_periods.append((left_date, right_date))\n",
    "        right_date = left_date - pd.DateOffset(days=1)\n",
    "    \n",
    "    return valid_periods[::-1]"
   ]
  },
  {
   "cell_type": "code",
   "execution_count": 28,
   "metadata": {},
   "outputs": [
    {
     "data": {
      "text/plain": [
       "[(Timestamp('2015-04-25 00:00:00'), Timestamp('2015-05-22 00:00:00')),\n",
       " (Timestamp('2015-05-23 00:00:00'), Timestamp('2015-06-19 00:00:00')),\n",
       " (Timestamp('2016-02-29 00:00:00'), Timestamp('2016-03-27 00:00:00')),\n",
       " (Timestamp('2016-03-28 00:00:00'), Timestamp('2016-04-24 00:00:00'))]"
      ]
     },
     "execution_count": 28,
     "metadata": {},
     "output_type": "execute_result"
    }
   ],
   "source": [
    "valid_periods = [(pd.to_datetime(\"2015-04-25\"), pd.to_datetime(\"2015-05-22\")),\n",
    "                 (pd.to_datetime(\"2015-05-23\"), pd.to_datetime(\"2015-06-19\")),\n",
    "                 (pd.to_datetime(\"2016-02-29\"), pd.to_datetime(\"2016-03-27\")),\n",
    "                 (pd.to_datetime(\"2016-03-28\"), pd.to_datetime(\"2016-04-24\"))]\n",
    "valid_periods"
   ]
  },
  {
   "cell_type": "markdown",
   "metadata": {},
   "source": [
    "***\n",
    "building the models"
   ]
  },
  {
   "cell_type": "code",
   "execution_count": 32,
   "metadata": {},
   "outputs": [],
   "source": [
    "# 5 years of history\n",
    "train_history = 1500"
   ]
  },
  {
   "cell_type": "code",
   "execution_count": 33,
   "metadata": {},
   "outputs": [],
   "source": [
    "time_features = [\n",
    "    \"year\",\n",
    "    \"month\",\n",
    "    \"year_week\",\n",
    "    \"week_day\",\n",
    "    \"month_progress\", \n",
    "]\n",
    "\n",
    "model_kwargs = {\n",
    "    \"time_features\":time_features,\n",
    "    \"lags\": list(range(1,15)),\n",
    "    \"window_functions\":[\"mean\",\"std\"],\n",
    "    \"window_sizes\":[7,14,28,56,84],\n",
    "    \"exclude_features\":[\"regular_price\",\n",
    "                        \"ts_id\",\n",
    "                        \"event_type_1\",\n",
    "                        \"event_name_2\",\n",
    "                        \"event_type_2\"],\n",
    "    \"categorical_features\":{#\"ts_id\":\"default\",\n",
    "                            \"item_id\":\"default\", \n",
    "                            \"dept_id\":\"default\",\n",
    "                            \"cat_id\":\"default\",\n",
    "                            \"store_id\":\"default\",\n",
    "                            \"state_id\":\"default\",\n",
    "                            \"event_name_1\":\"default\", \n",
    "                            #\"event_type_1\":\"default\", \n",
    "                            #\"event_name_2\":\"default\", \n",
    "                            #\"event_type_2\":\"default\",\n",
    "                            \"snap\":\"default\"},\n",
    "    \"ts_uid_columns\":[\"item_id\",\"store_id\"]\n",
    "}"
   ]
  },
  {
   "cell_type": "code",
   "execution_count": 34,
   "metadata": {},
   "outputs": [
    {
     "name": "stdout",
     "output_type": "stream",
     "text": [
      "############################################### 1/4 ################################################\n",
      "##### Validation period: (Timestamp('2015-04-25 00:00:00'), Timestamp('2015-05-22 00:00:00')) ######\n",
      "####################################################################################################\n",
      "############################################### 2/4 ################################################\n",
      "##### Validation period: (Timestamp('2015-05-23 00:00:00'), Timestamp('2015-06-19 00:00:00')) ######\n",
      "####################################################################################################\n",
      "############################################### 3/4 ################################################\n",
      "##### Validation period: (Timestamp('2016-02-29 00:00:00'), Timestamp('2016-03-27 00:00:00')) ######\n",
      "####################################################################################################\n",
      "############################################### 4/4 ################################################\n",
      "##### Validation period: (Timestamp('2016-03-28 00:00:00'), Timestamp('2016-04-24 00:00:00')) ######\n",
      "####################################################################################################\n",
      "CPU times: user 1h 31min 43s, sys: 1h 5min 9s, total: 2h 36min 53s\n",
      "Wall time: 1h 9min 22s\n"
     ]
    }
   ],
   "source": [
    "%%time\n",
    "\n",
    "models = list()\n",
    "\n",
    "for i,valid_period in enumerate(valid_periods):\n",
    "    print(f\" {i+1}/{len(valid_periods)} \".center(100, \"#\"))\n",
    "    print(f\" Validation period: {valid_period} \".center(100, \"#\"))\n",
    "    print(\"#\"*100)\n",
    "    \n",
    "    valid_start = valid_period[0]\n",
    "    valid_end = valid_period[1]\n",
    "    train_start = valid_start - pd.DateOffset(days=train_history)\n",
    "        \n",
    "    _train_data = data.query(\"ds <= @valid_end\").reset_index(drop=True)\n",
    "    _valid_index = _train_data.query(\"@valid_start <= ds <= @valid_end\").index\n",
    "\n",
    "    _fcaster = LightGBMForecaster(**model_kwargs)\n",
    "    _fcaster.prepare_features(train_data=_train_data, valid_index=_valid_index);\n",
    "    _fcaster.train_features.dropna(inplace=True)\n",
    "    _fcaster.train_features = _fcaster.train_features.query(\"ds >= @train_start\")\n",
    "    _fcaster.train_features = reduce_mem_usage(_fcaster.train_features)\n",
    "    _fcaster.valid_features = reduce_mem_usage(_fcaster.valid_features)\n",
    "    _fcaster.train_data = _fcaster.train_data.query(\"ds >= @train_start\")\n",
    "    \n",
    "    with open(f\"model{i}.pickle\", \"wb\") as handler:\n",
    "        pickle.dump(_fcaster, handler, protocol=4)\n",
    "        handler.close()\n"
   ]
  },
  {
   "cell_type": "markdown",
   "metadata": {},
   "source": [
    "***"
   ]
  },
  {
   "cell_type": "code",
   "execution_count": 35,
   "metadata": {},
   "outputs": [],
   "source": [
    "# precomputed (features) models\n",
    "precomputed_models = list()\n",
    "for i in range(4):\n",
    "    with open(f\"model{i}.pickle\", \"rb\") as handler: \n",
    "        model = pickle.load(handler)\n",
    "        precomputed_models.append(model)\n",
    "        handler.close()   "
   ]
  },
  {
   "cell_type": "markdown",
   "metadata": {},
   "source": [
    "***"
   ]
  }
 ],
 "metadata": {
  "kernelspec": {
   "display_name": "Python 3",
   "language": "python",
   "name": "python3"
  },
  "language_info": {
   "codemirror_mode": {
    "name": "ipython",
    "version": 3
   },
   "file_extension": ".py",
   "mimetype": "text/x-python",
   "name": "python",
   "nbconvert_exporter": "python",
   "pygments_lexer": "ipython3",
   "version": "3.7.4"
  }
 },
 "nbformat": 4,
 "nbformat_minor": 4
}

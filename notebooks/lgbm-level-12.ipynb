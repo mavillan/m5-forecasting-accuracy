{
 "cells": [
  {
   "cell_type": "code",
   "execution_count": 1,
   "metadata": {},
   "outputs": [
    {
     "name": "stderr",
     "output_type": "stream",
     "text": [
      "/home/turing/miniconda/lib/python3.7/site-packages/statsmodels/tools/_testing.py:19: FutureWarning:\n",
      "\n",
      "pandas.util.testing is deprecated. Use the functions in the public API at pandas.testing instead.\n",
      "\n"
     ]
    }
   ],
   "source": [
    "import os\n",
    "import numpy as np\n",
    "import pandas as pd\n",
    "import lightgbm as lgb\n",
    "from tsforest.forecaster import LightGBMForecaster\n",
    "\n",
    "import matplotlib.pyplot as plt\n",
    "import seaborn as sns"
   ]
  },
  {
   "cell_type": "markdown",
   "metadata": {},
   "source": [
    "***"
   ]
  },
  {
   "cell_type": "code",
   "execution_count": 2,
   "metadata": {},
   "outputs": [],
   "source": [
    "def reduce_mem_usage(df, verbose=False):\n",
    "    numerics = ['int16', 'int32', 'int64', 'float16', 'float32', 'float64']\n",
    "    start_mem = df.memory_usage().sum() / 1024**2    \n",
    "    for col in df.columns:\n",
    "        col_type = df[col].dtypes\n",
    "        if col_type in numerics:\n",
    "            c_min = df[col].min()\n",
    "            c_max = df[col].max()\n",
    "            if str(col_type)[:3] == 'int':\n",
    "                if c_min > np.iinfo(np.int8).min and c_max < np.iinfo(np.int8).max:\n",
    "                    df[col] = df[col].astype(np.int8)\n",
    "                elif c_min > np.iinfo(np.int16).min and c_max < np.iinfo(np.int16).max:\n",
    "                    df[col] = df[col].astype(np.int16)\n",
    "                elif c_min > np.iinfo(np.int32).min and c_max < np.iinfo(np.int32).max:\n",
    "                    df[col] = df[col].astype(np.int32)\n",
    "                elif c_min > np.iinfo(np.int64).min and c_max < np.iinfo(np.int64).max:\n",
    "                    df[col] = df[col].astype(np.int64)  \n",
    "            else:\n",
    "                #if c_min > np.finfo(np.float16).min and c_max < np.finfo(np.float16).max:\n",
    "                #    df[col] = df[col].astype(np.float16)\n",
    "                if c_min > np.finfo(np.float32).min and c_max < np.finfo(np.float32).max:\n",
    "                    df[col] = df[col].astype(np.float32)\n",
    "                else:\n",
    "                    df[col] = df[col].astype(np.float64)    \n",
    "    end_mem = df.memory_usage().sum() / 1024**2\n",
    "    if verbose: \n",
    "        print('Mem. usage decreased to {:5.2f} Mb ({:.1f}% reduction)'.format(end_mem, 100 * (start_mem - end_mem) / start_mem))\n",
    "    return df"
   ]
  },
  {
   "cell_type": "markdown",
   "metadata": {},
   "source": [
    "***"
   ]
  },
  {
   "cell_type": "code",
   "execution_count": 3,
   "metadata": {},
   "outputs": [],
   "source": [
    "data = (pd.read_parquet(\"../input/train_dataframe.parquet\")\n",
    "        .dropna()\n",
    "        .reset_index(drop=True)\n",
    "        .rename({\"q\":\"y\"}, axis=1)\n",
    "       )"
   ]
  },
  {
   "cell_type": "code",
   "execution_count": 4,
   "metadata": {
    "collapsed": true,
    "jupyter": {
     "outputs_hidden": true
    }
   },
   "outputs": [
    {
     "name": "stdout",
     "output_type": "stream",
     "text": [
      "<class 'pandas.core.frame.DataFrame'>\n",
      "RangeIndex: 39635116 entries, 0 to 39635115\n",
      "Data columns (total 25 columns):\n",
      " #   Column         Dtype         \n",
      "---  ------         -----         \n",
      " 0   ts_id          int16         \n",
      " 1   item_id        int16         \n",
      " 2   dept_id        int8          \n",
      " 3   cat_id         int8          \n",
      " 4   store_id       int8          \n",
      " 5   state_id       int8          \n",
      " 6   y              float32       \n",
      " 7   ds             datetime64[ns]\n",
      " 8   event_name_1   int8          \n",
      " 9   event_type_1   int8          \n",
      " 10  event_name_2   int8          \n",
      " 11  event_type_2   int8          \n",
      " 12  sell_price     float32       \n",
      " 13  regular_price  float32       \n",
      " 14  discount       float32       \n",
      " 15  discount_porc  float32       \n",
      " 16  snap           int8          \n",
      " 17  lag28          float32       \n",
      " 18  lag28_mean7    float32       \n",
      " 19  lag28_mean30   float32       \n",
      " 20  lag28_mean60   float32       \n",
      " 21  lag28_mean90   float32       \n",
      " 22  lag28_mean180  float32       \n",
      " 23  lag28_std7     float32       \n",
      " 24  lag28_std30    float32       \n",
      "dtypes: datetime64[ns](1), float32(13), int16(2), int8(9)\n",
      "memory usage: 2.7 GB\n"
     ]
    }
   ],
   "source": [
    "data.info()"
   ]
  },
  {
   "cell_type": "markdown",
   "metadata": {},
   "source": [
    "***"
   ]
  },
  {
   "cell_type": "code",
   "execution_count": 5,
   "metadata": {},
   "outputs": [],
   "source": [
    "def make_valid_periods(end_date, valid_length, n_folds):\n",
    "    right_date = pd.to_datetime(end_date)\n",
    "    valid_periods = list()\n",
    "    \n",
    "    for i in range(n_folds):\n",
    "        left_date = right_date - pd.DateOffset(days=valid_length-1)\n",
    "        valid_periods.append((left_date, right_date))\n",
    "        right_date = left_date - pd.DateOffset(days=1)\n",
    "    \n",
    "    return valid_periods[::-1]\n"
   ]
  },
  {
   "cell_type": "code",
   "execution_count": 6,
   "metadata": {},
   "outputs": [
    {
     "data": {
      "text/plain": [
       "[(Timestamp('2015-04-25 00:00:00'), Timestamp('2015-06-19 00:00:00'))]"
      ]
     },
     "execution_count": 6,
     "metadata": {},
     "output_type": "execute_result"
    }
   ],
   "source": [
    "#valid_periods = make_valid_periods(\"2016-04-24\", valid_length=28*2, n_folds=3)\n",
    "valid_periods = [(pd.to_datetime(\"2015-04-25\"), pd.to_datetime(\"2015-06-19\")), ]\n",
    "valid_periods"
   ]
  },
  {
   "cell_type": "markdown",
   "metadata": {},
   "source": [
    "***\n",
    "### adds time series stats features"
   ]
  },
  {
   "cell_type": "code",
   "execution_count": 7,
   "metadata": {},
   "outputs": [],
   "source": [
    "def compute_ts_stats(data, ts_uid_columns, valid_index=None, period={\"days\":365}):\n",
    "    if valid_index is not None:\n",
    "        data = data.drop(valid_index, axis=0)\n",
    "    end_date = data.ds.max()\n",
    "    start_date = end_date - pd.DateOffset(**period)\n",
    "    result = (data\n",
    "              .query(\"@start_date <= ds <= @end_date\")\n",
    "              .groupby(ts_uid_columns)\n",
    "              .agg(mean_q=(\"y\", np.mean))\n",
    "              .reset_index()\n",
    "              )\n",
    "    return result\n",
    "\n",
    "#ts_stats = compute_ts_stats(data, [\"item_id\",\"store_id\"], valid_index, period={\"days\":365})\n",
    "#data = pd.merge(data, ts_stats, how=\"left\", on=[\"item_id\", \"store_id\"])"
   ]
  },
  {
   "cell_type": "markdown",
   "metadata": {},
   "source": [
    "***\n",
    "## training"
   ]
  },
  {
   "cell_type": "code",
   "execution_count": 12,
   "metadata": {},
   "outputs": [],
   "source": [
    "model_params = {\n",
    "    'objective':'poisson',\n",
    "    'metric':'rmse',\n",
    "    'num_iterations':10000,\n",
    "    'early_stopping_rounds':200,\n",
    "    #'max_bin': 512, \n",
    "    'num_leaves': 63, \n",
    "    'learning_rate': 0.05, \n",
    "    #'min_data_in_leaf': 50, \n",
    "    'feature_fraction': 0.9,\n",
    "    'bagging_fraction':0.66,\n",
    "    'bagging_freq':1,\n",
    "    'lambda_l2':0.1,\n",
    "    'seed':19\n",
    "}\n",
    "\n",
    "time_features = [\n",
    "    \"year\",\n",
    "    \"month\",\n",
    "    \"year_week\",\n",
    "    #\"year_day\",\n",
    "    \"week_day\",\n",
    "    \"month_progress\",\n",
    "    #\"week_day_cos\",\n",
    "    #\"week_day_sin\",\n",
    "    #\"year_day_cos\",\n",
    "    #\"year_day_sin\",\n",
    "    #\"year_week_cos\",\n",
    "    #\"year_week_sin\",\n",
    "    #\"month_cos\",\n",
    "    #\"month_sin\"\n",
    "]\n",
    "\n",
    "model_kwargs = {\n",
    "    \"model_params\":model_params,\n",
    "    \"time_features\":time_features,\n",
    "    \"exclude_features\":[\"sell_price\",\n",
    "                        \"regular_price\",\n",
    "                        \"ts_id\",\n",
    "                        \"event_type_1\",\n",
    "                        \"event_name_2\",\n",
    "                        \"event_type_2\"],\n",
    "    \"categorical_features\":{#\"ts_id\":\"default\",\n",
    "                            \"item_id\":\"default\", \n",
    "                            \"dept_id\":\"default\",\n",
    "                            \"cat_id\":\"default\",\n",
    "                            \"store_id\":\"default\",\n",
    "                            \"state_id\":\"default\",\n",
    "                            \"event_name_1\":\"default\", \n",
    "                            #\"event_type_1\":\"default\", \n",
    "                            #\"event_name_2\":\"default\", \n",
    "                            #\"event_type_2\":\"default\",\n",
    "                            \"snap\":\"default\"},\n",
    "    \"ts_uid_columns\":[\"item_id\",\"store_id\"]\n",
    "}"
   ]
  },
  {
   "cell_type": "markdown",
   "metadata": {},
   "source": [
    "***\n",
    "### Training validation models"
   ]
  },
  {
   "cell_type": "code",
   "execution_count": 13,
   "metadata": {},
   "outputs": [],
   "source": [
    "# 3 years of history\n",
    "train_history = 1095"
   ]
  },
  {
   "cell_type": "code",
   "execution_count": 14,
   "metadata": {},
   "outputs": [
    {
     "name": "stdout",
     "output_type": "stream",
     "text": [
      "############################################### 1/1 ################################################\n",
      "##### Validation period: (Timestamp('2015-04-25 00:00:00'), Timestamp('2015-06-19 00:00:00')) ######\n",
      "####################################################################################################\n",
      "Training until validation scores don't improve for 200 rounds\n",
      "[20]\tvalid_0's rmse: 2.90722\n",
      "[40]\tvalid_0's rmse: 2.61816\n",
      "[60]\tvalid_0's rmse: 2.50112\n",
      "[80]\tvalid_0's rmse: 2.45481\n",
      "[100]\tvalid_0's rmse: 2.43582\n",
      "[120]\tvalid_0's rmse: 2.42519\n",
      "[140]\tvalid_0's rmse: 2.41866\n",
      "[160]\tvalid_0's rmse: 2.41346\n",
      "[180]\tvalid_0's rmse: 2.40874\n",
      "[200]\tvalid_0's rmse: 2.40472\n",
      "[220]\tvalid_0's rmse: 2.40116\n",
      "[240]\tvalid_0's rmse: 2.39762\n",
      "[260]\tvalid_0's rmse: 2.39602\n",
      "[280]\tvalid_0's rmse: 2.3942\n",
      "[300]\tvalid_0's rmse: 2.39186\n",
      "[320]\tvalid_0's rmse: 2.3894\n",
      "[340]\tvalid_0's rmse: 2.38517\n",
      "[360]\tvalid_0's rmse: 2.38385\n",
      "[380]\tvalid_0's rmse: 2.3822\n",
      "[400]\tvalid_0's rmse: 2.38036\n",
      "[420]\tvalid_0's rmse: 2.37875\n",
      "[440]\tvalid_0's rmse: 2.37709\n",
      "[460]\tvalid_0's rmse: 2.37367\n",
      "[480]\tvalid_0's rmse: 2.3728\n",
      "[500]\tvalid_0's rmse: 2.36958\n",
      "[520]\tvalid_0's rmse: 2.36788\n",
      "[540]\tvalid_0's rmse: 2.36676\n",
      "[560]\tvalid_0's rmse: 2.36566\n",
      "[580]\tvalid_0's rmse: 2.36474\n",
      "[600]\tvalid_0's rmse: 2.36297\n",
      "[620]\tvalid_0's rmse: 2.36169\n",
      "[640]\tvalid_0's rmse: 2.36092\n",
      "[660]\tvalid_0's rmse: 2.36051\n",
      "[680]\tvalid_0's rmse: 2.36021\n",
      "[700]\tvalid_0's rmse: 2.36034\n",
      "[720]\tvalid_0's rmse: 2.35966\n",
      "[740]\tvalid_0's rmse: 2.35952\n",
      "[760]\tvalid_0's rmse: 2.35964\n",
      "[780]\tvalid_0's rmse: 2.35821\n",
      "[800]\tvalid_0's rmse: 2.35815\n",
      "[820]\tvalid_0's rmse: 2.35766\n",
      "[840]\tvalid_0's rmse: 2.35689\n",
      "[860]\tvalid_0's rmse: 2.35668\n",
      "[880]\tvalid_0's rmse: 2.35646\n",
      "[900]\tvalid_0's rmse: 2.35689\n",
      "[920]\tvalid_0's rmse: 2.3568\n",
      "[940]\tvalid_0's rmse: 2.356\n",
      "[960]\tvalid_0's rmse: 2.3555\n",
      "[980]\tvalid_0's rmse: 2.35514\n",
      "[1000]\tvalid_0's rmse: 2.35493\n",
      "[1020]\tvalid_0's rmse: 2.35466\n",
      "[1040]\tvalid_0's rmse: 2.35424\n",
      "[1060]\tvalid_0's rmse: 2.35366\n",
      "[1080]\tvalid_0's rmse: 2.35395\n",
      "[1100]\tvalid_0's rmse: 2.35358\n",
      "[1120]\tvalid_0's rmse: 2.35264\n",
      "[1140]\tvalid_0's rmse: 2.3524\n",
      "[1160]\tvalid_0's rmse: 2.35305\n",
      "[1180]\tvalid_0's rmse: 2.35243\n",
      "[1200]\tvalid_0's rmse: 2.35276\n",
      "[1220]\tvalid_0's rmse: 2.35289\n",
      "[1240]\tvalid_0's rmse: 2.35271\n",
      "[1260]\tvalid_0's rmse: 2.35247\n",
      "[1280]\tvalid_0's rmse: 2.35037\n",
      "[1300]\tvalid_0's rmse: 2.35027\n",
      "[1320]\tvalid_0's rmse: 2.3499\n",
      "[1340]\tvalid_0's rmse: 2.3495\n",
      "[1360]\tvalid_0's rmse: 2.34956\n",
      "[1380]\tvalid_0's rmse: 2.34915\n",
      "[1400]\tvalid_0's rmse: 2.34978\n",
      "[1420]\tvalid_0's rmse: 2.35022\n",
      "[1440]\tvalid_0's rmse: 2.34999\n",
      "[1460]\tvalid_0's rmse: 2.34996\n",
      "[1480]\tvalid_0's rmse: 2.34936\n",
      "[1500]\tvalid_0's rmse: 2.34912\n",
      "[1520]\tvalid_0's rmse: 2.34903\n",
      "[1540]\tvalid_0's rmse: 2.34851\n",
      "[1560]\tvalid_0's rmse: 2.34865\n",
      "[1580]\tvalid_0's rmse: 2.34857\n",
      "[1600]\tvalid_0's rmse: 2.34847\n",
      "[1620]\tvalid_0's rmse: 2.34905\n",
      "[1640]\tvalid_0's rmse: 2.34915\n",
      "[1660]\tvalid_0's rmse: 2.34921\n",
      "[1680]\tvalid_0's rmse: 2.34977\n",
      "[1700]\tvalid_0's rmse: 2.34929\n",
      "[1720]\tvalid_0's rmse: 2.34898\n",
      "[1740]\tvalid_0's rmse: 2.34902\n",
      "[1760]\tvalid_0's rmse: 2.34866\n",
      "[1780]\tvalid_0's rmse: 2.34946\n",
      "Early stopping, best iteration is:\n",
      "[1593]\tvalid_0's rmse: 2.34844\n"
     ]
    },
    {
     "data": {
      "image/png": "[encoded data removed]",
      "text/plain": [
       "<Figure size 720x576 with 1 Axes>"
      ]
     },
     "metadata": {
      "needs_background": "light"
     },
     "output_type": "display_data"
    },
    {
     "data": {
      "image/png": "[encoded data removed]",
      "text/plain": [
       "<Figure size 720x576 with 1 Axes>"
      ]
     },
     "metadata": {
      "needs_background": "light"
     },
     "output_type": "display_data"
    }
   ],
   "source": [
    "models = list()\n",
    "errors = list()\n",
    "best_iterations = list()\n",
    "\n",
    "\n",
    "for i,valid_period in enumerate(valid_periods):\n",
    "    print(f\" {i+1}/{len(valid_periods)} \".center(100, \"#\"))\n",
    "    print(f\" Validation period: {valid_period} \".center(100, \"#\"))\n",
    "    print(\"#\"*100)\n",
    "    \n",
    "    valid_start = valid_period[0]\n",
    "    valid_end = valid_period[1]\n",
    "    train_start = valid_start - pd.DateOffset(days=train_history)\n",
    "        \n",
    "    _train_data = data.query(\"@train_start <= ds <= @valid_end\").reset_index(drop=True)\n",
    "    _valid_index = _train_data.query(\"@valid_start <= ds <= @valid_end\").index\n",
    "\n",
    "    _fcaster = LightGBMForecaster(**model_kwargs)\n",
    "    _fcaster.prepare_features(train_data=_train_data, valid_index=_valid_index);\n",
    "\n",
    "    _fcaster.train_features = reduce_mem_usage(_fcaster.train_features)\n",
    "    _fcaster.valid_features = reduce_mem_usage(_fcaster.valid_features)\n",
    "\n",
    "    _fcaster.fit(fit_kwargs={\"verbose_eval\":20})\n",
    "\n",
    "    lgb.plot_importance(_fcaster.model.model, importance_type=\"split\", figsize=(10,8))\n",
    "    lgb.plot_importance(_fcaster.model.model, importance_type=\"gain\", figsize=(10,8))\n",
    "    \n",
    "    models.append(_fcaster)\n",
    "    errors.append(_fcaster.model.model.best_score[\"valid_0\"][\"rmse\"])\n",
    "    best_iterations.append(_fcaster.best_iteration)"
   ]
  },
  {
   "cell_type": "code",
   "execution_count": 15,
   "metadata": {},
   "outputs": [
    {
     "name": "stdout",
     "output_type": "stream",
     "text": [
      "2.3484440945085123\n"
     ]
    }
   ],
   "source": [
    "print(np.mean(errors))"
   ]
  },
  {
   "cell_type": "code",
   "execution_count": 11,
   "metadata": {},
   "outputs": [
    {
     "name": "stdout",
     "output_type": "stream",
     "text": [
      "2.3654164422969934\n"
     ]
    }
   ],
   "source": [
    "print(np.mean(errors))"
   ]
  },
  {
   "cell_type": "code",
   "execution_count": 21,
   "metadata": {},
   "outputs": [
    {
     "name": "stdout",
     "output_type": "stream",
     "text": [
      "2.3596726179970524\n"
     ]
    }
   ],
   "source": [
    "print(np.mean(errors))"
   ]
  },
  {
   "cell_type": "code",
   "execution_count": 22,
   "metadata": {},
   "outputs": [],
   "source": [
    "# best error: 2.3596726179970524"
   ]
  },
  {
   "cell_type": "markdown",
   "metadata": {},
   "source": [
    "***\n",
    "### final model"
   ]
  },
  {
   "cell_type": "code",
   "execution_count": 16,
   "metadata": {},
   "outputs": [
    {
     "data": {
      "text/plain": [
       "{'objective': 'poisson',\n",
       " 'metric': 'rmse',\n",
       " 'num_iterations': 1593,\n",
       " 'early_stopping_rounds': 200,\n",
       " 'num_leaves': 63,\n",
       " 'learning_rate': 0.05,\n",
       " 'feature_fraction': 0.9,\n",
       " 'bagging_fraction': 0.66,\n",
       " 'bagging_freq': 1,\n",
       " 'lambda_l2': 0.1,\n",
       " 'seed': 19}"
      ]
     },
     "execution_count": 16,
     "metadata": {},
     "output_type": "execute_result"
    }
   ],
   "source": [
    "model_kwargs[\"model_params\"][\"num_iterations\"] = best_iterations[0]\n",
    "model_kwargs[\"model_params\"]"
   ]
  },
  {
   "cell_type": "code",
   "execution_count": 17,
   "metadata": {},
   "outputs": [],
   "source": [
    "train_start = data.ds.max() - pd.DateOffset(days=train_history)\n",
    "train_data = data.query(\"ds >= @train_start\").reset_index(drop=True)"
   ]
  },
  {
   "cell_type": "code",
   "execution_count": null,
   "metadata": {},
   "outputs": [],
   "source": [
    "fcaster = LightGBMForecaster(**model_kwargs)\n",
    "fcaster.prepare_features(train_data=train_data);\n",
    "fcaster.train_features = reduce_mem_usage(fcaster.train_features)\n",
    "fcaster.fit(fit_kwargs={\"verbose_eval\":20})"
   ]
  },
  {
   "cell_type": "code",
   "execution_count": null,
   "metadata": {},
   "outputs": [],
   "source": [
    "lgb.plot_importance(fcaster.model.model, importance_type=\"split\", figsize=(15,10));"
   ]
  },
  {
   "cell_type": "code",
   "execution_count": null,
   "metadata": {},
   "outputs": [],
   "source": [
    "lgb.plot_importance(fcaster.model.model, importance_type=\"gain\", figsize=(15,10));"
   ]
  },
  {
   "cell_type": "markdown",
   "metadata": {},
   "source": [
    "***\n",
    "## predicting"
   ]
  },
  {
   "cell_type": "code",
   "execution_count": null,
   "metadata": {},
   "outputs": [],
   "source": [
    "valid_dataframe = pd.read_parquet(\"../input/valid_dataframe.parquet\")\n",
    "eval_dataframe = pd.read_parquet(\"../input/eval_dataframe.parquet\")\n",
    "hierarchy = pd.read_parquet(\"../input/hierarchy.parquet\")\n",
    "submission = pd.read_csv(\"../input/sample_submission.csv\")"
   ]
  },
  {
   "cell_type": "markdown",
   "metadata": {},
   "source": [
    "***\n",
    "### predictions for validation period"
   ]
  },
  {
   "cell_type": "code",
   "execution_count": null,
   "metadata": {},
   "outputs": [],
   "source": [
    "#valid_dataframe = pd.merge(valid_dataframe, ts_stats, how=\"left\")"
   ]
  },
  {
   "cell_type": "code",
   "execution_count": null,
   "metadata": {},
   "outputs": [],
   "source": [
    "predictions_valid = pd.merge(fcaster.predict(valid_dataframe), \n",
    "                             hierarchy.loc[:, [\"id\", \"item_id\", \"store_id\"]], \n",
    "                             how=\"left\")\n",
    "predictions_valid[\"id\"] = predictions_valid.id.map(lambda x: x+\"_validation\")"
   ]
  },
  {
   "cell_type": "code",
   "execution_count": null,
   "metadata": {},
   "outputs": [],
   "source": [
    "predictions_valid.y_pred.describe()"
   ]
  },
  {
   "cell_type": "code",
   "execution_count": null,
   "metadata": {},
   "outputs": [],
   "source": [
    "plt.figure(figsize=(15,5))\n",
    "sns.distplot(predictions_valid.query(\"y_pred < 10\").y_pred.values, kde=False, norm_hist=True)\n",
    "plt.title(\"forecast distribution on validation period\")\n",
    "plt.grid()"
   ]
  },
  {
   "cell_type": "code",
   "execution_count": null,
   "metadata": {},
   "outputs": [],
   "source": [
    "predictions_valid = (predictions_valid\n",
    "                     .pivot(index=\"id\", columns=\"ds\", values=\"y_pred\")\n",
    "                     .reset_index()\n",
    "                     )\n",
    "predictions_valid.columns = [\"id\"] + [f\"F{i}\" for i in range (1,29)]"
   ]
  },
  {
   "cell_type": "markdown",
   "metadata": {},
   "source": [
    "***\n",
    "### predictions for evaluation period"
   ]
  },
  {
   "cell_type": "code",
   "execution_count": null,
   "metadata": {},
   "outputs": [],
   "source": [
    "#eval_dataframe = pd.merge(eval_dataframe, ts_stats, how=\"left\")"
   ]
  },
  {
   "cell_type": "code",
   "execution_count": null,
   "metadata": {},
   "outputs": [],
   "source": [
    "predictions_eval = pd.merge(fcaster.predict(eval_dataframe), \n",
    "                            hierarchy.loc[:, [\"id\", \"item_id\", \"store_id\"]],\n",
    "                            how=\"left\")\n",
    "predictions_eval[\"id\"] = predictions_eval.id.map(lambda x: x+\"_evaluation\")"
   ]
  },
  {
   "cell_type": "code",
   "execution_count": null,
   "metadata": {},
   "outputs": [],
   "source": [
    "predictions_eval.y_pred.describe()"
   ]
  },
  {
   "cell_type": "code",
   "execution_count": null,
   "metadata": {},
   "outputs": [],
   "source": [
    "plt.figure(figsize=(15,5))\n",
    "sns.distplot(predictions_eval.query(\"y_pred < 10\").y_pred.values, kde=False)\n",
    "plt.title(\"forecast distribution on evaluation period\")\n",
    "plt.grid()"
   ]
  },
  {
   "cell_type": "code",
   "execution_count": null,
   "metadata": {},
   "outputs": [],
   "source": [
    "predictions_eval = (predictions_eval\n",
    "                    .pivot(index=\"id\", columns=\"ds\", values=\"y_pred\")\n",
    "                    .reset_index()\n",
    "                   )\n",
    "predictions_eval.columns = [\"id\"] + [f\"F{i}\" for i in range (1,29)]"
   ]
  },
  {
   "cell_type": "markdown",
   "metadata": {},
   "source": [
    "***\n",
    "### submission file"
   ]
  },
  {
   "cell_type": "code",
   "execution_count": null,
   "metadata": {},
   "outputs": [],
   "source": [
    "predictions_all = pd.concat([predictions_valid, predictions_eval], ignore_index=True)"
   ]
  },
  {
   "cell_type": "code",
   "execution_count": null,
   "metadata": {},
   "outputs": [],
   "source": [
    "assert set(predictions_all.id) == set(submission.id), \\\n",
    "    \"there are missing time series predictions.\""
   ]
  },
  {
   "cell_type": "code",
   "execution_count": null,
   "metadata": {},
   "outputs": [],
   "source": [
    "submission = pd.merge(submission.loc[:, [\"id\"]], predictions_all)"
   ]
  },
  {
   "cell_type": "code",
   "execution_count": null,
   "metadata": {},
   "outputs": [],
   "source": [
    "file_path = \"../output/lgbm_bottom_v22.csv.gz\"\n",
    "\n",
    "if os.path.isfile(file_path):\n",
    "    print(\"File already exists.\")\n",
    "else:\n",
    "    submission.to_csv(file_path, index=False, compression=\"gzip\")"
   ]
  },
  {
   "cell_type": "code",
   "execution_count": null,
   "metadata": {},
   "outputs": [],
   "source": [
    "!ls ../output"
   ]
  },
  {
   "cell_type": "code",
   "execution_count": null,
   "metadata": {},
   "outputs": [],
   "source": [
    "!kaggle competitions submit -c m5-forecasting-accuracy -f ../output/lgbm_bottom_v22.csv.gz -m \"\""
   ]
  },
  {
   "cell_type": "markdown",
   "metadata": {},
   "source": [
    "***"
   ]
  }
 ],
 "metadata": {
  "kernelspec": {
   "display_name": "Python 3",
   "language": "python",
   "name": "python3"
  },
  "language_info": {
   "codemirror_mode": {
    "name": "ipython",
    "version": 3
   },
   "file_extension": ".py",
   "mimetype": "text/x-python",
   "name": "python",
   "nbconvert_exporter": "python",
   "pygments_lexer": "ipython3",
   "version": "3.7.4"
  }
 },
 "nbformat": 4,
 "nbformat_minor": 4
}
